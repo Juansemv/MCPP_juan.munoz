{
 "cells": [
  {
   "cell_type": "markdown",
   "metadata": {},
   "source": [
    "# Taller 4\n",
    "Métodos Computacionales para Políticas Públicas - URosario\n",
    "\n",
    "**Entrega: viernes 30-ago-2019 11:59 PM**"
   ]
  },
  {
   "cell_type": "markdown",
   "metadata": {},
   "source": [
    "<div class=\"alert alert-success\">\n",
    "**jJuan Sebastián Muñoz Vargas** <br><br>\n",
    "jsebastianmvargas@gmail.com\n",
    "</div>"
   ]
  },
  {
   "cell_type": "markdown",
   "metadata": {},
   "source": [
    "## Instrucciones:\n",
    "- Guarde una copia de este *Jupyter Notebook* en su computador, idealmente en una carpeta destinada al material del curso.\n",
    "- Modifique el nombre del archivo del *notebook*, agregando al final un guión inferior y su nombre y apellido, separados estos últimos por otro guión inferior. Por ejemplo, mi *notebook* se llamaría: mcpp_taller4_santiago_matallana\n",
    "- Marque el *notebook* con su nombre y e-mail en el bloque verde arriba. Reemplace el texto \"[Su nombre acá]\" con su nombre y apellido. Similar para su e-mail.\n",
    "- Desarrolle la totalidad del taller sobre este *notebook*, insertando las celdas que sea necesario debajo de cada pregunta. Haga buen uso de las celdas para código y de las celdas tipo *markdown* según el caso.\n",
    "- Recuerde salvar periódicamente sus avances.\n",
    "- Cuando termine el taller:\n",
    "    1. Descárguelo en PDF.\n",
    "    2. Suba los dos archivos (.pdf y .ipynb) a su repositorio en GitHub antes de la fecha y hora límites.\n",
    "\n",
    "(Todos los ejercicios tienen el mismo valor.)"
   ]
  },
  {
   "cell_type": "markdown",
   "metadata": {},
   "source": [
    "---"
   ]
  },
  {
   "cell_type": "markdown",
   "metadata": {},
   "source": [
    "## Zelle, Exercises 6.8 (p. 159):\n",
    "\n",
    "- True/False: 1-10\n",
    "- Multiple choice: 2, 3, 6, 7, 10\n",
    "- Programming Exercises: 1, 3, 4, 11, 12, 13"
   ]
  },
  {
   "cell_type": "markdown",
   "metadata": {},
   "source": [
    "---"
   ]
  },
  {
   "cell_type": "markdown",
   "metadata": {},
   "source": [
    "## Solución del taller"
   ]
  },
  {
   "cell_type": "markdown",
   "metadata": {},
   "source": [
    "### True/false"
   ]
  },
  {
   "cell_type": "markdown",
   "metadata": {},
   "source": [
    "1. Programmers rarely define their own functions.\n",
    "        FALSE\n",
    "\n",
    "2. A function may only be called at one place in a program.\n",
    "        FALSE\n",
    "\n",
    "3. Information can be passed into a function through parameters.\n",
    "        TRUE\n",
    "\n",
    "4. Every Python function returns some value.\n",
    "        TRUE\n",
    "\n",
    "5. In Python, some parameters are passed by reference.\n",
    "        FALSE\n",
    "\n",
    "6. In Python, a function can return only one value.\n",
    "        FALSE\n",
    "\n",
    "7. Python functions can never modify a parameter.\n",
    "        FALSE\n",
    "\n",
    "8. One reason to use functions is to reduce code duplication.\n",
    "        TRUE\n",
    "\n",
    "9. Variables defined in a function are local to that function.\n",
    "        TRUE\n",
    "\n",
    "10. It's a bad idea to define new functions if it makes a program longer\n",
    "        FALSE"
   ]
  },
  {
   "cell_type": "markdown",
   "metadata": {},
   "source": [
    "### Multiple choice 2, 3, 6, 7, 10"
   ]
  },
  {
   "cell_type": "markdown",
   "metadata": {},
   "source": [
    "#### 2. A Python function definition begins with\n",
    "\n",
    "a) def\n",
    "\n",
    "\n",
    "#### 3. A function can send output back to the program with a(n)\n",
    "\n",
    "a) return\n",
    "\n",
    "\n",
    "#### 6. In Python, actual parameters are passed to functions\n",
    "\n",
    "a) by value\n",
    "\n",
    "\n",
    "#### 7. Which of the following is not a reason to use functions?\n",
    "\n",
    "d) to demonstrate intellectual superiority\n",
    "\n",
    "\n",
    "#### 10. A function can modify the value of an actual parameter only if it's\n",
    "\n",
    "a) mutable"
   ]
  },
  {
   "cell_type": "markdown",
   "metadata": {},
   "source": [
    "### Programming Exercises: 1, 3, 4, 11, 12, 13"
   ]
  },
  {
   "cell_type": "code",
   "execution_count": 13,
   "metadata": {},
   "outputs": [
    {
     "name": "stdout",
     "output_type": "stream",
     "text": [
      "Old MacDonald had a farm, Ee-igh, Ee-igh, Oh! \n",
      " And on that farm he had a cow, Ee-igh, Ee-igh, Oh! \n",
      " With a moo, moo here and a moo, moo there.\n",
      " Here a moo, there a moo, everywhere a moo, moo. \n",
      " Old MacDonald had a farm, Ee-igh, Ee-igh, Oh! \n",
      " \n",
      "\n",
      "Old MacDonald had a farm, Ee-igh, Ee-igh, Oh! \n",
      " And on that farm he had a cat, Ee-igh, Ee-igh, Oh! \n",
      " With a meow, meow here and a meow, meow there.\n",
      " Here a meow, there a meow, everywhere a meow, meow. \n",
      " Old MacDonald had a farm, Ee-igh, Ee-igh, Oh! \n",
      " \n",
      "\n",
      "Old MacDonald had a farm, Ee-igh, Ee-igh, Oh! \n",
      " And on that farm he had a lion, Ee-igh, Ee-igh, Oh! \n",
      " With a grr, grr here and a grr, grr there.\n",
      " Here a grr, there a grr, everywhere a grr, grr. \n",
      " Old MacDonald had a farm, Ee-igh, Ee-igh, Oh! \n",
      " \n",
      "\n",
      "Old MacDonald had a farm, Ee-igh, Ee-igh, Oh! \n",
      " And on that farm he had a dog, Ee-igh, Ee-igh, Oh! \n",
      " With a woof, woof here and a woof, woof there.\n",
      " Here a woof, there a woof, everywhere a woof, woof. \n",
      " Old MacDonald had a farm, Ee-igh, Ee-igh, Oh! \n",
      " \n",
      "\n",
      "Old MacDonald had a farm, Ee-igh, Ee-igh, Oh! \n",
      " And on that farm he had a snake, Ee-igh, Ee-igh, Oh! \n",
      " With a ZZZ, ZZZ here and a ZZZ, ZZZ there.\n",
      " Here a ZZZ, there a ZZZ, everywhere a ZZZ, ZZZ. \n",
      " Old MacDonald had a farm, Ee-igh, Ee-igh, Oh! \n",
      " \n",
      "\n"
     ]
    }
   ],
   "source": [
    "#Ejercicio 1\n",
    "for i in range (0, 5):\n",
    "    if i == 0:\n",
    "        animal = \"cow\"\n",
    "        sound = \"moo\"\n",
    "    elif i == 1:\n",
    "        animal = \"cat\"\n",
    "        sound = \"meow\"\n",
    "    elif i == 2:\n",
    "        animal = \"lion\"\n",
    "        sound = \"grr\"\n",
    "    elif i == 3:\n",
    "        animal = \"dog\"\n",
    "        sound = \"woof\"\n",
    "    elif i == 4:\n",
    "        animal = \"snake\"\n",
    "        sound = \"ZZZ\"\n",
    "    print (\"Old MacDonald had a farm, Ee-igh, Ee-igh, Oh! \\n And on that farm he had a \" + animal + \", Ee-igh, Ee-igh, Oh! \\n With a \" + sound + \", \" + sound + \" here and a \" + sound + \", \" + sound + \" there.\\n Here a \" + sound +  \", there a \" + sound + \", everywhere a \" + sound + \", \" + sound + \". \\n Old MacDonald had a farm, Ee-igh, Ee-igh, Oh! \\n \\n\" )"
   ]
  },
  {
   "cell_type": "code",
   "execution_count": 28,
   "metadata": {},
   "outputs": [
    {
     "name": "stdout",
     "output_type": "stream",
     "text": [
      "33.510321638291124\n",
      "50.26548245743669\n"
     ]
    }
   ],
   "source": [
    "#Ejercicio 3\n",
    "import math\n",
    "def sphereArea (radius): \n",
    "    '''\n",
    "    #Returns the surface area of a sphere having the given radius\n",
    "    '''\n",
    "    V = (((4/3)*math.pi) * radius ** 3)\n",
    "    return V\n",
    "def sphereVolume (radius):\n",
    "    '''\n",
    "    #Returns the volume of a sphere having the given radius\n",
    "    '''\n",
    "    A = ((4 * math.pi) * (radius ** 2))\n",
    "    return A\n",
    "print(sphereArea (2))\n",
    "print (sphereVolume (2))"
   ]
  },
  {
   "cell_type": "code",
   "execution_count": 1,
   "metadata": {},
   "outputs": [
    {
     "name": "stdout",
     "output_type": "stream",
     "text": [
      "Seleccione un número entero 5\n",
      "La suma de todos los números de 1 hasta 5 es 15\n",
      "La suma de todos los cubos de 1 hasta 5 es 225\n"
     ]
    }
   ],
   "source": [
    "#Ejercicio 4\n",
    "n = input (\"Seleccione un número entero \")\n",
    "n = int (n)\n",
    "\n",
    "def sumN (n):\n",
    "    '''\n",
    "    returns the sum of the first n natural numbers\n",
    "    '''\n",
    "    r1 = 0\n",
    "    for i in range (n):\n",
    "        r1 = r1 + (i + 1)\n",
    "    return r1   \n",
    "def sumNCubes (n):\n",
    "    '''\n",
    "    returns the sum of the cubes of the first n natural numbers\n",
    "    '''\n",
    "    r2 = 0\n",
    "    for i in range (n):\n",
    "        r2 = (r2 + (i + 1) ** 3)\n",
    "    return r2\n",
    "z = print (\"La suma de todos los números de 1 hasta\", n , \"es\" , sumN (n))\n",
    "C = print (\"La suma de todos los cubos de 1 hasta\", n , \"es\" , sumNCubes (n))"
   ]
  },
  {
   "cell_type": "code",
   "execution_count": 79,
   "metadata": {},
   "outputs": [
    {
     "data": {
      "text/plain": [
       "[1, 4, 9, 25]"
      ]
     },
     "execution_count": 79,
     "metadata": {},
     "output_type": "execute_result"
    }
   ],
   "source": [
    "#Ejercicio 11\n",
    "def squareEach (nums):\n",
    "    '''\n",
    "    Inputs:\n",
    "        nums = a list of numbers. \n",
    "    Outputs \n",
    "        A list where each entry is squared.\n",
    "    '''\n",
    "    list2 = []\n",
    "    for i in nums:\n",
    "        list2.append (i ** 2)\n",
    "    return list2\n",
    "Lista = [1, 2, 3, 5]\n",
    "squareEach (Lista)"
   ]
  },
  {
   "cell_type": "code",
   "execution_count": 80,
   "metadata": {},
   "outputs": [
    {
     "data": {
      "text/plain": [
       "11"
      ]
     },
     "execution_count": 80,
     "metadata": {},
     "output_type": "execute_result"
    }
   ],
   "source": [
    "#Ejercicio 12\n",
    "def sumList (nums):\n",
    "    '''\n",
    "    Inputs:\n",
    "        nums = a list of numbers. \n",
    "    Outputs \n",
    "         The sum of the numbers in the list.\n",
    "    '''\n",
    "    suma = 0\n",
    "    for i in nums:\n",
    "        suma = suma + i\n",
    "    return suma\n",
    "Lista = [1, 2, 3, 5]\n",
    "sumList (Lista)"
   ]
  },
  {
   "cell_type": "code",
   "execution_count": 2,
   "metadata": {},
   "outputs": [
    {
     "name": "stdout",
     "output_type": "stream",
     "text": [
      "[1, 2, 3, 4, 5]\n"
     ]
    }
   ],
   "source": [
    "#Ejercicio 13\n",
    "def toNumbers (strList):\n",
    "    '''\n",
    "    Inputs:\n",
    "        strList = a list of strings, each of which represents a number. \n",
    "    Outputs \n",
    "         Modifies each entry in the list by converting it to a number.\n",
    "    '''\n",
    "    finalList = []\n",
    "    for i in strList:\n",
    "        for s in i.split(\",\"):\n",
    "            s = eval (s)\n",
    "            finalList.append (s)\n",
    "    return finalList\n",
    "Lista = ['1','2','3','4','5']\n",
    "Z = toNumbers (Lista)\n",
    "print (Z)"
   ]
  },
  {
   "cell_type": "markdown",
   "metadata": {},
   "source": [
    "# Nota final 5.0"
   ]
  }
 ],
 "metadata": {
  "anaconda-cloud": {},
  "kernelspec": {
   "display_name": "Python 3",
   "language": "python",
   "name": "python3"
  },
  "language_info": {
   "codemirror_mode": {
    "name": "ipython",
    "version": 3
   },
   "file_extension": ".py",
   "mimetype": "text/x-python",
   "name": "python",
   "nbconvert_exporter": "python",
   "pygments_lexer": "ipython3",
   "version": "3.7.1"
  }
 },
 "nbformat": 4,
 "nbformat_minor": 1
}

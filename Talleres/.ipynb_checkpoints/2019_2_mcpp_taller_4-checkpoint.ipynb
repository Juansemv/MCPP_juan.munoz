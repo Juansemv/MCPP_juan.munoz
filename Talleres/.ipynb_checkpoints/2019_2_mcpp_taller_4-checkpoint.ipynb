{
 "cells": [
  {
   "cell_type": "markdown",
   "metadata": {},
   "source": [
    "# Taller 4\n",
    "Métodos Computacionales para Políticas Públicas - URosario\n",
    "\n",
    "**Entrega: viernes 30-ago-2019 11:59 PM**"
   ]
  },
  {
   "cell_type": "markdown",
   "metadata": {},
   "source": [
    "<div class=\"alert alert-success\">\n",
    "**jJuan Sebastián Muñoz Vargas** <br><br>\n",
    "jsebastianmvargas@gmail.com\n",
    "</div>"
   ]
  },
  {
   "cell_type": "markdown",
   "metadata": {},
   "source": [
    "## Instrucciones:\n",
    "- Guarde una copia de este *Jupyter Notebook* en su computador, idealmente en una carpeta destinada al material del curso.\n",
    "- Modifique el nombre del archivo del *notebook*, agregando al final un guión inferior y su nombre y apellido, separados estos últimos por otro guión inferior. Por ejemplo, mi *notebook* se llamaría: mcpp_taller4_santiago_matallana\n",
    "- Marque el *notebook* con su nombre y e-mail en el bloque verde arriba. Reemplace el texto \"[Su nombre acá]\" con su nombre y apellido. Similar para su e-mail.\n",
    "- Desarrolle la totalidad del taller sobre este *notebook*, insertando las celdas que sea necesario debajo de cada pregunta. Haga buen uso de las celdas para código y de las celdas tipo *markdown* según el caso.\n",
    "- Recuerde salvar periódicamente sus avances.\n",
    "- Cuando termine el taller:\n",
    "    1. Descárguelo en PDF.\n",
    "    2. Suba los dos archivos (.pdf y .ipynb) a su repositorio en GitHub antes de la fecha y hora límites.\n",
    "\n",
    "(Todos los ejercicios tienen el mismo valor.)"
   ]
  },
  {
   "cell_type": "markdown",
   "metadata": {},
   "source": [
    "---"
   ]
  },
  {
   "cell_type": "markdown",
   "metadata": {},
   "source": [
    "## Zelle, Exercises 6.8 (p. 159):\n",
    "\n",
    "- True/False: 1-10\n",
    "- Multiple choice: 2, 3, 6, 7, 10\n",
    "- Programming Exercises: 1, 3, 4, 11, 12, 13"
   ]
  },
  {
   "cell_type": "markdown",
   "metadata": {},
   "source": [
    "---"
   ]
  },
  {
   "cell_type": "markdown",
   "metadata": {},
   "source": [
    "## Solución del taller"
   ]
  },
  {
   "cell_type": "markdown",
   "metadata": {},
   "source": [
    "### True/false"
   ]
  },
  {
   "cell_type": "markdown",
   "metadata": {},
   "source": [
    "1. Programmers rarely define their own functions.\n",
    "        FALSE\n",
    "\n",
    "2. A function may only be called at one place in a program.\n",
    "        FALSE\n",
    "\n",
    "3. Information can be passed into a function through parameters.\n",
    "        \n",
    "\n",
    "4. Every Python function returns some value.\n",
    "        FALSE\n",
    "\n",
    "5. In Python, some parameters are passed by reference.\n",
    "\n",
    "\n",
    "6. In Python, a function can return only one value.\n",
    "        FALSE\n",
    "\n",
    "7. Python functions can never modify a parameter.\n",
    "        FALSE\n",
    "\n",
    "8. One reason to use functions is to reduce code duplication.\n",
    "        TRUE\n",
    "\n",
    "9. Variables defined in a function are local to that function.\n",
    "        TRUE\n",
    "\n",
    "10. It's a bad idea to define new functions if it makes a program longer\n",
    "        FALSE\n"
   ]
  },
  {
   "cell_type": "markdown",
   "metadata": {},
   "source": [
    "### Multiple choice 2, 3, 6, 7, 10"
   ]
  },
  {
   "cell_type": "markdown",
   "metadata": {},
   "source": [
    "#### 2. A Python function definition begins with\n",
    "\n",
    "a) def\n",
    "\n",
    "\n",
    "#### 3. A function can send output back to the program with a(n)\n",
    "\n",
    "a) return b) print c) assignment d) SASE \n",
    "\n",
    "\n",
    "#### 6. In Python, actual parameters are passed to functions\n",
    "\n",
    "a) by value b) by reference c) at random d) by networking\n",
    "\n",
    "\n",
    "#### 7. Which of the following is not a reason to use functions?\n",
    "a) to reduce code duplication\n",
    "b) to make a program more modular\n",
    "c) to make a program more self-documenting\n",
    "d) to demonstrate intellectual superiority\n",
    "\n",
    "\n",
    "#### 10. A function can modify the value of an actual parameter only if it's\n",
    "\n",
    "a) mutable b) a list c) passed by reference d) a variable "
   ]
  },
  {
   "cell_type": "markdown",
   "metadata": {},
   "source": [
    "### Programming Exercises: 1, 3, 4, 11, 12, 13"
   ]
  },
  {
   "cell_type": "code",
   "execution_count": null,
   "metadata": {},
   "outputs": [],
   "source": []
  }
 ],
 "metadata": {
  "anaconda-cloud": {},
  "kernelspec": {
   "display_name": "Python 3",
   "language": "python",
   "name": "python3"
  },
  "language_info": {
   "codemirror_mode": {
    "name": "ipython",
    "version": 3
   },
   "file_extension": ".py",
   "mimetype": "text/x-python",
   "name": "python",
   "nbconvert_exporter": "python",
   "pygments_lexer": "ipython3",
   "version": "3.7.3"
  }
 },
 "nbformat": 4,
 "nbformat_minor": 1
}

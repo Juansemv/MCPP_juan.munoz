{
 "cells": [
  {
   "cell_type": "markdown",
   "metadata": {},
   "source": [
    "# Taller 8\n",
    "Métodos Computacionales para Políticas Públicas - URosario\n",
    "\n",
    "**Entrega: viernes 18-oct-2019 11:59 PM**"
   ]
  },
  {
   "cell_type": "markdown",
   "metadata": {},
   "source": [
    "<div class=\"alert alert-success\">\n",
    "**[Su nombre acá]** <br><br>\n",
    "[Su e-mail acá]\n",
    "</div>"
   ]
  },
  {
   "cell_type": "markdown",
   "metadata": {},
   "source": [
    "## Instrucciones:\n",
    "- Guarde una copia de este *Jupyter Notebook* en su computador, idealmente en una carpeta destinada al material del curso.\n",
    "- Modifique el nombre del archivo del *notebook*, agregando al final un guión inferior y su nombre y apellido, separados estos últimos por otro guión inferior. Por ejemplo, mi *notebook* se llamaría: mcpp_taller8_santiago_matallana\n",
    "- Marque el *notebook* con su nombre y e-mail en el bloque verde arriba. Reemplace el texto \"[Su nombre acá]\" con su nombre y apellido. Similar para su e-mail.\n",
    "- Desarrolle la totalidad del taller sobre este *notebook*, insertando las celdas que sea necesario debajo de cada pregunta. Haga buen uso de las celdas para código y de las celdas tipo *markdown* según el caso.\n",
    "- Recuerde salvar periódicamente sus avances.\n",
    "- Cuando termine el taller:\n",
    "    1. Descárguelo en PDF. Si tiene algún problema con la conversión, descárguelo en HTML.\n",
    "    2. Suba todos los archivos a su repositorio en GitHub, en una carpeta destinada exclusivamente para este taller, antes de la fecha y hora límites."
   ]
  },
  {
   "cell_type": "markdown",
   "metadata": {},
   "source": [
    "---"
   ]
  },
  {
   "cell_type": "markdown",
   "metadata": {},
   "source": [
    "### 1. [1 punto]\n",
    "\n",
    "Usando expresiones regulares extraiga en una lista todos los números presentes en el siguiente objeto de Python:\n",
    "\n",
    "ob1 = \"JEFF BEZOS, the founder of Amazon, has reached a divorce settlement with his wife, MacKenzie. Mr Bezos will keep all the shares in the Washington Post and Blue Origin, a space-exploration firm, as well as 75% of the couple’s Amazon stock. Mrs Bezos will retain a 4% stake in the tech giant, worth nearly $36bn, which is likely to make her the third-richest woman alive when the divorce is finalised.\""
   ]
  },
  {
   "cell_type": "markdown",
   "metadata": {},
   "source": [
    "### 2. [1 punto]\n",
    "\n",
    "Usando expresiones regulares ahora extraiga de *ob1* sólo los números que correspondan a porcentajes."
   ]
  },
  {
   "cell_type": "markdown",
   "metadata": {},
   "source": [
    "### 3. [2 puntos]\n",
    "\n",
    "Usando expresiones regulares, escriba una función de Python que reciba una fecha en formato **Marzo 7, 2019** y retorne la fecha en formato **2019-07-03**"
   ]
  },
  {
   "cell_type": "markdown",
   "metadata": {},
   "source": [
    "### 4. [3 puntos]\n",
    "\n",
    "*ob2* es un string que reune una lista de clases en una universidad. Use expresiones regulares para extraer los códigos de cada una de las clases. Ejemplo: El código de la clase **COMPSCI 143 (Spring 2012): Machine Learning** es 143.\n",
    "\n",
    "ob2 = \"COMPSCI 270 (Spring 2019): Introduction to Artificial Intelligence.\n",
    "COMPSCI 590.2 (Fall 2018): Computational Microeconomics: Game Theory, Social Choice, and Mechanism Design.\n",
    "COMPSCI 223 (Spring 2018): Computational Microeconomics.\n",
    "COMPSCI 570 (Fall 2017): Artificial Intelligence.\n",
    "COMPSCI 590.3 (Fall 2017) / 590.1 (Spring 2018): Ethics and AI.\n",
    "COMPSCI 590.2 (Spring 2017): Computation, Information, and Learning in Market Design.\n",
    "COMPSCI 590.4 (Spring 2016): Computational Microeconomics: Game Theory, Social Choice, and Mechanism Design.\n",
    "COMPSCI 290.4/590.4 (Spring 2015): Crowdsourcing Societal Tradeoffs.\n",
    "COMPSCI 570 (Fall 2014): Artificial Intelligence.\n",
    "COMPSCI 590.4 (Spring 2014): Computational Microeconomics: Game Theory, Social Choice, and Mechanism Design.\n",
    "COMPSCI 590.1 (Fall 2012): Linear and Integer Programming.\n",
    "COMPSCI 173 (Spring 2012): Computational Microeconomics.\n",
    "COMPSCI 296.1 (Fall 2011): Computational Microeconomics: Game Theory, Social Choice, and Mechanism Design.\n",
    "COMPSCI 296.1 (Fall 2010): Linear and Integer Programming.\n",
    "COMPSCI 173 (Spring 2010): Computational Microeconomics.\n",
    "COMPSCI 196.1/296.1 (Fall 2009): Computational Microeconomics: Game Theory, Social Choice, and Mechanism Design.\n",
    "COMPSCI 170 (Spring 2009): Introduction to Artificial Intelligence.\n",
    "COMPSCI 270 (Fall 2008): Artificial Intelligence.\n",
    "COMPSCI 196/296.2 (Spring 2008): Linear and Integer Programming.\n",
    "COMPSCI 196.2 (Fall 2007): Introduction to Computational Economics.\n",
    "COMPSCI 296.3 (Spring 2007): Topics in Computational Economics.\n",
    "COMPSCI 296.2 (Fall 2006): Computational Game Theory and Mechanism Design.\"\n"
   ]
  },
  {
   "cell_type": "markdown",
   "metadata": {},
   "source": [
    "### 5. [5 puntos]\n",
    "\n",
    "*ob3* es un string que reune una lista de publicaciones. Use expresiones regulares para extraer todos los *Journals* en los cuales el autor ha publicado. Ejemplo: El paper **Bail, CA. \"The configuration of symbolic boundaries against immigrants in Europe.\" American Sociological Review 73.1 (January 1, 2008): 37-59. Full Text** fue publicado en el Journal *American Sociological Review*\n",
    "\n",
    " ob3 = \"Bail, CA, Argyle, LP, Brown, TW, Bumpus, JP, Chen, H, Hunzaker, MBF, Lee, J, Mann, M, Merhout, F, and Volfovsky, A. \\\"Exposure to opposing views on social media can increase political polarization.\\\" Proceedings of the National Academy of Sciences of the United States of America 115.37 (September 2018): 9216-9221. Full Text Open Access Copy.\\n\",\n",
    "    \"Bail, CA, Merhout, F, and Ding, P. \\\"Using Internet search data to examine the relationship between anti-Muslim and pro-ISIS sentiment in U.S. counties.\\\" Science Advances 4.6 (June 6, 2018): eaao5948-null. Full Text Open Access Copy.\\n\",\n",
    "    \"Bail, CA, Brown, TW, and Mann, M. \\\"Channeling Hearts and Minds: Advocacy Organizations, Cognitive-Emotional Currents, and Public Conversation.\\\" American Sociological Review 82.6 (December 1, 2017): 1188-1213. Full Text.\\n\",\n",
    "    \"Bail, CA. \\\"Taming Big Data: Using App Technology to Study Organizational Behavior on Social Media.\\\" Sociological Methods and Research 46.2 (March 1, 2017): 189-217. Full Text.\\n\",\n",
    "    \"McDonnell, TE, Bail, CA, and Tavory, I. \\\"A Theory of Resonance.\\\" Sociological Theory 35.1 (March 1, 2017): 1-14. Full Text.\\n\",\n",
    "    \"Bail, CA. \\\"Combining natural language processing and network analysis to examine how advocacy organizations stimulate conversation on social media.\\\" Proceedings of the National Academy of Sciences of the United States of America 113.42 (October 2016): 11823-11828. Full Text.\\n\",\n",
    "    \"Bail, CA. \\\"Emotional Feedback and the Viral Spread of Social Media Messages About Autism Spectrum Disorders.\\\" American journal of public health 106.7 (July 2016): 1173-1180. Full Text.\\n\",\n",
    "    \"Bail, CA. \\\"The public life of secrets: Deception, disclosure, and discursive framing in the policy process.\\\" Sociological Theory 33.2 (January 1, 2015): 97-124. Full Text.\\n\",\n",
    "    \"Bail, CA. \\\"The cultural environment: Measuring culture with big data.\\\" Theory and Society 43.3 (January 1, 2014): 465-524. Full Text.\\\"\""
   ]
  },
  {
   "cell_type": "markdown",
   "metadata": {},
   "source": [
    "### 6. [10 puntos]\n",
    "\n",
    "\n",
    "Vamos a hacer \"scraping\" a esta página: https://archive.ics.uci.edu/ml/datasets.php, que contiene un listado de 468 bases de datos que hacen parte del repositorio de la Universidad de California, Irvine."
   ]
  },
  {
   "cell_type": "markdown",
   "metadata": {},
   "source": [
    "\n",
    "Su tarea consiste en crear un \"Pandas dataframe\" que contenga 468 filas (una por base de datos) y las siguientes columnas:\n",
    "- Nombre de la base de datos\n",
    "- Link a la base de datos\n",
    "- Tipo de datos\n",
    "- Tipo de tarea a resolver (default task)\n",
    "- Tipo de las variables\n",
    "- Número de observaciones\n",
    "- Número de variables\n",
    "- Año\n",
    "- Descripción de la base (Pista: Utilice la opción list view: https://archive.ics.uci.edu/ml/datasets.php?format=&task=&att=&area=&numAtt=&numIns=&type=&sort=nameUp&view=list)"
   ]
  },
  {
   "cell_type": "markdown",
   "metadata": {},
   "source": [
    "Diviértase."
   ]
  }
 ],
 "metadata": {
  "anaconda-cloud": {},
  "kernelspec": {
   "display_name": "Python 3",
   "language": "python",
   "name": "python3"
  },
  "language_info": {
   "codemirror_mode": {
    "name": "ipython",
    "version": 3
   },
   "file_extension": ".py",
   "mimetype": "text/x-python",
   "name": "python",
   "nbconvert_exporter": "python",
   "pygments_lexer": "ipython3",
   "version": "3.7.3"
  }
 },
 "nbformat": 4,
 "nbformat_minor": 1
}

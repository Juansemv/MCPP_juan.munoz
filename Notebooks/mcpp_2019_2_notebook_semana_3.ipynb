{
 "cells": [
  {
   "cell_type": "markdown",
   "metadata": {},
   "source": [
    "## Tipos de estructuras de datos: \n",
    "### Listas"
   ]
  },
  {
   "cell_type": "code",
   "execution_count": 1,
   "metadata": {},
   "outputs": [],
   "source": [
    "lenguajes = ['C','R','Java','SQL','Python']"
   ]
  },
  {
   "cell_type": "code",
   "execution_count": 2,
   "metadata": {},
   "outputs": [
    {
     "data": {
      "text/plain": [
       "['C', 'R', 'Java', 'SQL', 'Python']"
      ]
     },
     "execution_count": 2,
     "metadata": {},
     "output_type": "execute_result"
    }
   ],
   "source": [
    "lenguajes"
   ]
  },
  {
   "cell_type": "code",
   "execution_count": 3,
   "metadata": {},
   "outputs": [],
   "source": [
    "enteros = [3, 187, 1232, 53, 21398]"
   ]
  },
  {
   "cell_type": "code",
   "execution_count": 4,
   "metadata": {},
   "outputs": [
    {
     "data": {
      "text/plain": [
       "[3, 187, 1232, 53, 21398]"
      ]
     },
     "execution_count": 4,
     "metadata": {},
     "output_type": "execute_result"
    }
   ],
   "source": [
    "enteros"
   ]
  },
  {
   "cell_type": "code",
   "execution_count": 5,
   "metadata": {},
   "outputs": [],
   "source": [
    "l = [\"string\", 4, 5.0, True]"
   ]
  },
  {
   "cell_type": "code",
   "execution_count": 6,
   "metadata": {},
   "outputs": [
    {
     "data": {
      "text/plain": [
       "bool"
      ]
     },
     "execution_count": 6,
     "metadata": {},
     "output_type": "execute_result"
    }
   ],
   "source": [
    "type(True)"
   ]
  },
  {
   "cell_type": "code",
   "execution_count": 7,
   "metadata": {},
   "outputs": [
    {
     "data": {
      "text/plain": [
       "['string', 4, 5.0, True]"
      ]
     },
     "execution_count": 7,
     "metadata": {},
     "output_type": "execute_result"
    }
   ],
   "source": [
    "l"
   ]
  },
  {
   "cell_type": "code",
   "execution_count": 8,
   "metadata": {},
   "outputs": [
    {
     "data": {
      "text/plain": [
       "'Java'"
      ]
     },
     "execution_count": 8,
     "metadata": {},
     "output_type": "execute_result"
    }
   ],
   "source": [
    "lenguajes[2]"
   ]
  },
  {
   "cell_type": "code",
   "execution_count": 9,
   "metadata": {},
   "outputs": [
    {
     "data": {
      "text/plain": [
       "'C'"
      ]
     },
     "execution_count": 9,
     "metadata": {},
     "output_type": "execute_result"
    }
   ],
   "source": [
    "lenguajes[0]"
   ]
  },
  {
   "cell_type": "code",
   "execution_count": 10,
   "metadata": {},
   "outputs": [
    {
     "data": {
      "text/plain": [
       "'Python'"
      ]
     },
     "execution_count": 10,
     "metadata": {},
     "output_type": "execute_result"
    }
   ],
   "source": [
    "lenguajes[4]"
   ]
  },
  {
   "cell_type": "code",
   "execution_count": 11,
   "metadata": {},
   "outputs": [
    {
     "ename": "IndexError",
     "evalue": "list index out of range",
     "output_type": "error",
     "traceback": [
      "\u001b[1;31m---------------------------------------------------------------------------\u001b[0m",
      "\u001b[1;31mIndexError\u001b[0m                                Traceback (most recent call last)",
      "\u001b[1;32m<ipython-input-11-5e53ea16249b>\u001b[0m in \u001b[0;36m<module>\u001b[1;34m\u001b[0m\n\u001b[1;32m----> 1\u001b[1;33m \u001b[0mlenguajes\u001b[0m\u001b[1;33m[\u001b[0m\u001b[1;36m5\u001b[0m\u001b[1;33m]\u001b[0m\u001b[1;33m\u001b[0m\u001b[1;33m\u001b[0m\u001b[0m\n\u001b[0m",
      "\u001b[1;31mIndexError\u001b[0m: list index out of range"
     ]
    }
   ],
   "source": [
    "lenguajes[5]"
   ]
  },
  {
   "cell_type": "code",
   "execution_count": 12,
   "metadata": {},
   "outputs": [
    {
     "data": {
      "text/plain": [
       "'Python'"
      ]
     },
     "execution_count": 12,
     "metadata": {},
     "output_type": "execute_result"
    }
   ],
   "source": [
    "lenguajes[-1]"
   ]
  },
  {
   "cell_type": "code",
   "execution_count": 13,
   "metadata": {},
   "outputs": [
    {
     "data": {
      "text/plain": [
       "'SQL'"
      ]
     },
     "execution_count": 13,
     "metadata": {},
     "output_type": "execute_result"
    }
   ],
   "source": [
    "lenguajes[-2]"
   ]
  },
  {
   "cell_type": "code",
   "execution_count": 14,
   "metadata": {},
   "outputs": [
    {
     "data": {
      "text/plain": [
       "'Java'"
      ]
     },
     "execution_count": 14,
     "metadata": {},
     "output_type": "execute_result"
    }
   ],
   "source": [
    "lenguajes[2] "
   ]
  },
  {
   "cell_type": "code",
   "execution_count": 15,
   "metadata": {},
   "outputs": [],
   "source": [
    "lenguajes[2] = \"C++\""
   ]
  },
  {
   "cell_type": "code",
   "execution_count": 16,
   "metadata": {},
   "outputs": [
    {
     "data": {
      "text/plain": [
       "['C', 'R', 'C++', 'SQL', 'Python']"
      ]
     },
     "execution_count": 16,
     "metadata": {},
     "output_type": "execute_result"
    }
   ],
   "source": [
    "lenguajes"
   ]
  },
  {
   "cell_type": "code",
   "execution_count": 17,
   "metadata": {},
   "outputs": [
    {
     "name": "stdout",
     "output_type": "stream",
     "text": [
      "['C', 'R', 'C++', 'SQL', 'Stata']\n"
     ]
    }
   ],
   "source": [
    "lenguajes[-1] = \"Stata\"\n",
    "print(lenguajes)"
   ]
  },
  {
   "cell_type": "code",
   "execution_count": 18,
   "metadata": {},
   "outputs": [
    {
     "data": {
      "text/plain": [
       "['Hola', 187, 1232, 53, 21398]"
      ]
     },
     "execution_count": 18,
     "metadata": {},
     "output_type": "execute_result"
    }
   ],
   "source": [
    "enteros[0] = 'Hola'\n",
    "enteros"
   ]
  },
  {
   "cell_type": "code",
   "execution_count": 19,
   "metadata": {},
   "outputs": [],
   "source": [
    "enteros = [3, 187, 1232, 53, 21398]"
   ]
  },
  {
   "cell_type": "markdown",
   "metadata": {},
   "source": [
    "### Slicing"
   ]
  },
  {
   "cell_type": "code",
   "execution_count": 20,
   "metadata": {},
   "outputs": [
    {
     "data": {
      "text/plain": [
       "['C', 'R', 'C++', 'SQL', 'Stata']"
      ]
     },
     "execution_count": 20,
     "metadata": {},
     "output_type": "execute_result"
    }
   ],
   "source": [
    "lenguajes"
   ]
  },
  {
   "cell_type": "code",
   "execution_count": 21,
   "metadata": {},
   "outputs": [
    {
     "data": {
      "text/plain": [
       "['R', 'C++']"
      ]
     },
     "execution_count": 21,
     "metadata": {},
     "output_type": "execute_result"
    }
   ],
   "source": [
    "lenguajes[1:3]"
   ]
  },
  {
   "cell_type": "code",
   "execution_count": 22,
   "metadata": {},
   "outputs": [
    {
     "data": {
      "text/plain": [
       "['R', 'C++', 'SQL']"
      ]
     },
     "execution_count": 22,
     "metadata": {},
     "output_type": "execute_result"
    }
   ],
   "source": [
    "lenguajes[1:4]"
   ]
  },
  {
   "cell_type": "code",
   "execution_count": 23,
   "metadata": {
    "scrolled": true
   },
   "outputs": [
    {
     "data": {
      "text/plain": [
       "['C', 'R', 'C++']"
      ]
     },
     "execution_count": 23,
     "metadata": {},
     "output_type": "execute_result"
    }
   ],
   "source": [
    "lenguajes[:3]"
   ]
  },
  {
   "cell_type": "code",
   "execution_count": 24,
   "metadata": {},
   "outputs": [
    {
     "data": {
      "text/plain": [
       "['C', 'R', 'C++']"
      ]
     },
     "execution_count": 24,
     "metadata": {},
     "output_type": "execute_result"
    }
   ],
   "source": [
    "lenguajes[0:3]"
   ]
  },
  {
   "cell_type": "code",
   "execution_count": 25,
   "metadata": {},
   "outputs": [
    {
     "data": {
      "text/plain": [
       "['R', 'C++', 'SQL', 'Stata']"
      ]
     },
     "execution_count": 25,
     "metadata": {},
     "output_type": "execute_result"
    }
   ],
   "source": [
    "lenguajes[1:]"
   ]
  },
  {
   "cell_type": "code",
   "execution_count": 26,
   "metadata": {},
   "outputs": [
    {
     "data": {
      "text/plain": [
       "['C', 'R', 'C++', 'SQL', 'Stata']"
      ]
     },
     "execution_count": 26,
     "metadata": {},
     "output_type": "execute_result"
    }
   ],
   "source": [
    "lenguajes[:]"
   ]
  },
  {
   "cell_type": "code",
   "execution_count": 27,
   "metadata": {
    "scrolled": true
   },
   "outputs": [
    {
     "data": {
      "text/plain": [
       "['C', 'R', 'C++', 'SQL', 'Stata']"
      ]
     },
     "execution_count": 27,
     "metadata": {},
     "output_type": "execute_result"
    }
   ],
   "source": [
    "lenguajes"
   ]
  },
  {
   "cell_type": "code",
   "execution_count": 28,
   "metadata": {},
   "outputs": [
    {
     "data": {
      "text/plain": [
       "['C', 'R', 'C++', 'SQL', 'Stata']"
      ]
     },
     "execution_count": 28,
     "metadata": {},
     "output_type": "execute_result"
    }
   ],
   "source": [
    "lenguajes"
   ]
  },
  {
   "cell_type": "code",
   "execution_count": 29,
   "metadata": {},
   "outputs": [
    {
     "data": {
      "text/plain": [
       "['C', 'C++']"
      ]
     },
     "execution_count": 29,
     "metadata": {},
     "output_type": "execute_result"
    }
   ],
   "source": [
    "lenguajes[0:4:2]"
   ]
  },
  {
   "cell_type": "code",
   "execution_count": 30,
   "metadata": {},
   "outputs": [
    {
     "data": {
      "text/plain": [
       "['C', 'R', 'C++', 'SQL']"
      ]
     },
     "execution_count": 30,
     "metadata": {},
     "output_type": "execute_result"
    }
   ],
   "source": [
    "lenguajes[0:4:1]"
   ]
  },
  {
   "cell_type": "code",
   "execution_count": 31,
   "metadata": {},
   "outputs": [
    {
     "data": {
      "text/plain": [
       "['C', 'SQL']"
      ]
     },
     "execution_count": 31,
     "metadata": {},
     "output_type": "execute_result"
    }
   ],
   "source": [
    "lenguajes[0:4:3]"
   ]
  },
  {
   "cell_type": "code",
   "execution_count": 32,
   "metadata": {
    "scrolled": true
   },
   "outputs": [
    {
     "name": "stdout",
     "output_type": "stream",
     "text": [
      "C\n",
      "R\n",
      "C++\n",
      "SQL\n",
      "Stata\n"
     ]
    }
   ],
   "source": [
    "for x in lenguajes:\n",
    "    print(x)"
   ]
  },
  {
   "cell_type": "code",
   "execution_count": 33,
   "metadata": {},
   "outputs": [
    {
     "data": {
      "text/plain": [
       "[3, 187, 1232, 53, 21398]"
      ]
     },
     "execution_count": 33,
     "metadata": {},
     "output_type": "execute_result"
    }
   ],
   "source": [
    "enteros"
   ]
  },
  {
   "cell_type": "code",
   "execution_count": 34,
   "metadata": {},
   "outputs": [
    {
     "name": "stdout",
     "output_type": "stream",
     "text": [
      "9\n",
      "34969\n",
      "1517824\n",
      "2809\n",
      "457874404\n"
     ]
    }
   ],
   "source": [
    "for x in enteros:\n",
    "    print(x**2)"
   ]
  },
  {
   "cell_type": "code",
   "execution_count": 35,
   "metadata": {},
   "outputs": [
    {
     "name": "stdout",
     "output_type": "stream",
     "text": [
      "['string', 4, 5.0, True]\n"
     ]
    }
   ],
   "source": [
    "print(l)"
   ]
  },
  {
   "cell_type": "code",
   "execution_count": 36,
   "metadata": {},
   "outputs": [
    {
     "name": "stdout",
     "output_type": "stream",
     "text": [
      "\n",
      "string cualquier cosa\n",
      "\n",
      "4 cualquier cosa\n",
      "\n",
      "5.0 cualquier cosa\n",
      "\n",
      "True cualquier cosa\n"
     ]
    }
   ],
   "source": [
    "for asdf in l:\n",
    "    print(\"\\n\" + str(asdf) + \" cualquier cosa\")"
   ]
  },
  {
   "cell_type": "code",
   "execution_count": 37,
   "metadata": {},
   "outputs": [
    {
     "name": "stdout",
     "output_type": "stream",
     "text": [
      "\n",
      "string cualquier cosa\n"
     ]
    },
    {
     "ename": "TypeError",
     "evalue": "can only concatenate str (not \"int\") to str",
     "output_type": "error",
     "traceback": [
      "\u001b[1;31m---------------------------------------------------------------------------\u001b[0m",
      "\u001b[1;31mTypeError\u001b[0m                                 Traceback (most recent call last)",
      "\u001b[1;32m<ipython-input-37-e4f527fa9579>\u001b[0m in \u001b[0;36m<module>\u001b[1;34m\u001b[0m\n\u001b[0;32m      1\u001b[0m \u001b[1;32mfor\u001b[0m \u001b[0masdf\u001b[0m \u001b[1;32min\u001b[0m \u001b[0ml\u001b[0m\u001b[1;33m:\u001b[0m\u001b[1;33m\u001b[0m\u001b[1;33m\u001b[0m\u001b[0m\n\u001b[1;32m----> 2\u001b[1;33m     \u001b[0mprint\u001b[0m\u001b[1;33m(\u001b[0m\u001b[1;34m\"\\n\"\u001b[0m \u001b[1;33m+\u001b[0m \u001b[1;33m(\u001b[0m\u001b[0masdf\u001b[0m\u001b[1;33m)\u001b[0m \u001b[1;33m+\u001b[0m \u001b[1;34m\" cualquier cosa\"\u001b[0m\u001b[1;33m)\u001b[0m\u001b[1;33m\u001b[0m\u001b[1;33m\u001b[0m\u001b[0m\n\u001b[0m",
      "\u001b[1;31mTypeError\u001b[0m: can only concatenate str (not \"int\") to str"
     ]
    }
   ],
   "source": [
    "for asdf in l:\n",
    "    print(\"\\n\" + (asdf) + \" cualquier cosa\")"
   ]
  },
  {
   "cell_type": "code",
   "execution_count": 38,
   "metadata": {},
   "outputs": [],
   "source": [
    "for asdf in l:\n",
    "    asdf\n",
    "    l"
   ]
  },
  {
   "cell_type": "code",
   "execution_count": 39,
   "metadata": {},
   "outputs": [
    {
     "data": {
      "text/plain": [
       "['string', 4, 5.0, True]"
      ]
     },
     "execution_count": 39,
     "metadata": {},
     "output_type": "execute_result"
    }
   ],
   "source": [
    "l"
   ]
  },
  {
   "cell_type": "code",
   "execution_count": 40,
   "metadata": {},
   "outputs": [
    {
     "data": {
      "text/plain": [
       "True"
      ]
     },
     "execution_count": 40,
     "metadata": {},
     "output_type": "execute_result"
    }
   ],
   "source": [
    "asdf"
   ]
  },
  {
   "cell_type": "code",
   "execution_count": 41,
   "metadata": {},
   "outputs": [],
   "source": [
    "a, b = 2, \"asdf\""
   ]
  },
  {
   "cell_type": "code",
   "execution_count": 42,
   "metadata": {},
   "outputs": [
    {
     "data": {
      "text/plain": [
       "2"
      ]
     },
     "execution_count": 42,
     "metadata": {},
     "output_type": "execute_result"
    }
   ],
   "source": [
    "a"
   ]
  },
  {
   "cell_type": "code",
   "execution_count": 43,
   "metadata": {},
   "outputs": [
    {
     "data": {
      "text/plain": [
       "'asdf'"
      ]
     },
     "execution_count": 43,
     "metadata": {},
     "output_type": "execute_result"
    }
   ],
   "source": [
    "b"
   ]
  },
  {
   "cell_type": "code",
   "execution_count": 75,
   "metadata": {
    "scrolled": true
   },
   "outputs": [
    {
     "name": "stdout",
     "output_type": "stream",
     "text": [
      "0 C\n",
      "1 R\n",
      "2 C++\n",
      "3 SQL\n",
      "4 Stata\n"
     ]
    }
   ],
   "source": [
    "for i, x in enumerate(lenguajes):\n",
    "    print(i, x)"
   ]
  },
  {
   "cell_type": "code",
   "execution_count": 76,
   "metadata": {},
   "outputs": [
    {
     "data": {
      "text/plain": [
       "4"
      ]
     },
     "execution_count": 76,
     "metadata": {},
     "output_type": "execute_result"
    }
   ],
   "source": [
    "i"
   ]
  },
  {
   "cell_type": "code",
   "execution_count": 77,
   "metadata": {},
   "outputs": [
    {
     "data": {
      "text/plain": [
       "'Stata'"
      ]
     },
     "execution_count": 77,
     "metadata": {},
     "output_type": "execute_result"
    }
   ],
   "source": [
    "x"
   ]
  },
  {
   "cell_type": "code",
   "execution_count": 79,
   "metadata": {},
   "outputs": [],
   "source": [
    "a = enumerate(lenguajes)"
   ]
  },
  {
   "cell_type": "code",
   "execution_count": 84,
   "metadata": {},
   "outputs": [
    {
     "name": "stdout",
     "output_type": "stream",
     "text": [
      "<class 'enumerate'>\n",
      "[(0, 'C'), (1, 'R'), (2, 'C++'), (3, 'SQL'), (4, 'Stata')]\n"
     ]
    }
   ],
   "source": [
    "a\n",
    "print(type(a))\n",
    "print(list(a))\n"
   ]
  },
  {
   "cell_type": "code",
   "execution_count": 45,
   "metadata": {},
   "outputs": [
    {
     "data": {
      "text/plain": [
       "5"
      ]
     },
     "execution_count": 45,
     "metadata": {},
     "output_type": "execute_result"
    }
   ],
   "source": [
    "len(lenguajes)"
   ]
  },
  {
   "cell_type": "code",
   "execution_count": 46,
   "metadata": {},
   "outputs": [
    {
     "name": "stdout",
     "output_type": "stream",
     "text": [
      "0 C\n",
      "1 R\n",
      "2 C++\n",
      "3 SQL\n",
      "4 Stata\n"
     ]
    }
   ],
   "source": [
    "for i in range(len(lenguajes)):\n",
    "    print(i,lenguajes[i])"
   ]
  },
  {
   "cell_type": "code",
   "execution_count": 47,
   "metadata": {},
   "outputs": [],
   "source": [
    "random_numbers=[]"
   ]
  },
  {
   "cell_type": "code",
   "execution_count": 48,
   "metadata": {},
   "outputs": [
    {
     "data": {
      "text/plain": [
       "[]"
      ]
     },
     "execution_count": 48,
     "metadata": {},
     "output_type": "execute_result"
    }
   ],
   "source": [
    "random_numbers"
   ]
  },
  {
   "cell_type": "code",
   "execution_count": 49,
   "metadata": {},
   "outputs": [],
   "source": [
    "import random\n",
    "N=10000\n",
    "for i in range(N):\n",
    "    random_numbers.append(random.randint(0,9))\n"
   ]
  },
  {
   "cell_type": "code",
   "execution_count": 50,
   "metadata": {},
   "outputs": [
    {
     "data": {
      "text/plain": [
       "[4,\n",
       " 9,\n",
       " 6,\n",
       " 0,\n",
       " 1,\n",
       " 9,\n",
       " 6,\n",
       " 5,\n",
       " 9,\n",
       " 8,\n",
       " 9,\n",
       " 0,\n",
       " 0,\n",
       " 9,\n",
       " 4,\n",
       " 8,\n",
       " 2,\n",
       " 8,\n",
       " 7,\n",
       " 0,\n",
       " 2,\n",
       " 6,\n",
       " 2,\n",
       " 7,\n",
       " 9,\n",
       " 0,\n",
       " 9,\n",
       " 2,\n",
       " 5,\n",
       " 5,\n",
       " 7,\n",
       " 1,\n",
       " 6,\n",
       " 3,\n",
       " 9,\n",
       " 7,\n",
       " 6,\n",
       " 1,\n",
       " 2,\n",
       " 0,\n",
       " 9,\n",
       " 5,\n",
       " 1,\n",
       " 3,\n",
       " 7,\n",
       " 4,\n",
       " 5,\n",
       " 1,\n",
       " 5,\n",
       " 3,\n",
       " 6,\n",
       " 2,\n",
       " 6,\n",
       " 8,\n",
       " 6,\n",
       " 8,\n",
       " 9,\n",
       " 1,\n",
       " 0,\n",
       " 8,\n",
       " 7,\n",
       " 5,\n",
       " 5,\n",
       " 1,\n",
       " 8,\n",
       " 7,\n",
       " 6,\n",
       " 6,\n",
       " 9,\n",
       " 8,\n",
       " 1,\n",
       " 7,\n",
       " 3,\n",
       " 3,\n",
       " 2,\n",
       " 8,\n",
       " 4,\n",
       " 9,\n",
       " 9,\n",
       " 7,\n",
       " 3,\n",
       " 9,\n",
       " 1,\n",
       " 6,\n",
       " 4,\n",
       " 9,\n",
       " 1,\n",
       " 7,\n",
       " 2,\n",
       " 7,\n",
       " 7,\n",
       " 4,\n",
       " 0,\n",
       " 0,\n",
       " 6,\n",
       " 1,\n",
       " 4,\n",
       " 7,\n",
       " 7,\n",
       " 1,\n",
       " 2,\n",
       " 2,\n",
       " 3,\n",
       " 4,\n",
       " 4,\n",
       " 2,\n",
       " 7,\n",
       " 3,\n",
       " 9,\n",
       " 7,\n",
       " 2,\n",
       " 7,\n",
       " 4,\n",
       " 4,\n",
       " 6,\n",
       " 5,\n",
       " 5,\n",
       " 6,\n",
       " 4,\n",
       " 7,\n",
       " 9,\n",
       " 1,\n",
       " 4,\n",
       " 4,\n",
       " 7,\n",
       " 9,\n",
       " 8,\n",
       " 6,\n",
       " 2,\n",
       " 2,\n",
       " 5,\n",
       " 2,\n",
       " 7,\n",
       " 3,\n",
       " 1,\n",
       " 9,\n",
       " 4,\n",
       " 6,\n",
       " 6,\n",
       " 6,\n",
       " 4,\n",
       " 5,\n",
       " 3,\n",
       " 1,\n",
       " 6,\n",
       " 1,\n",
       " 7,\n",
       " 9,\n",
       " 6,\n",
       " 9,\n",
       " 3,\n",
       " 1,\n",
       " 8,\n",
       " 1,\n",
       " 5,\n",
       " 8,\n",
       " 5,\n",
       " 4,\n",
       " 8,\n",
       " 1,\n",
       " 9,\n",
       " 4,\n",
       " 2,\n",
       " 6,\n",
       " 3,\n",
       " 0,\n",
       " 7,\n",
       " 3,\n",
       " 2,\n",
       " 7,\n",
       " 2,\n",
       " 2,\n",
       " 5,\n",
       " 9,\n",
       " 6,\n",
       " 2,\n",
       " 1,\n",
       " 9,\n",
       " 5,\n",
       " 5,\n",
       " 2,\n",
       " 3,\n",
       " 8,\n",
       " 8,\n",
       " 3,\n",
       " 5,\n",
       " 9,\n",
       " 5,\n",
       " 4,\n",
       " 9,\n",
       " 3,\n",
       " 5,\n",
       " 7,\n",
       " 8,\n",
       " 6,\n",
       " 4,\n",
       " 1,\n",
       " 0,\n",
       " 0,\n",
       " 0,\n",
       " 3,\n",
       " 4,\n",
       " 8,\n",
       " 4,\n",
       " 3,\n",
       " 7,\n",
       " 7,\n",
       " 2,\n",
       " 0,\n",
       " 2,\n",
       " 6,\n",
       " 8,\n",
       " 5,\n",
       " 3,\n",
       " 7,\n",
       " 9,\n",
       " 7,\n",
       " 3,\n",
       " 4,\n",
       " 5,\n",
       " 2,\n",
       " 9,\n",
       " 0,\n",
       " 0,\n",
       " 8,\n",
       " 7,\n",
       " 5,\n",
       " 1,\n",
       " 7,\n",
       " 6,\n",
       " 5,\n",
       " 0,\n",
       " 4,\n",
       " 1,\n",
       " 1,\n",
       " 7,\n",
       " 6,\n",
       " 9,\n",
       " 9,\n",
       " 3,\n",
       " 9,\n",
       " 1,\n",
       " 5,\n",
       " 2,\n",
       " 6,\n",
       " 8,\n",
       " 4,\n",
       " 3,\n",
       " 0,\n",
       " 8,\n",
       " 5,\n",
       " 7,\n",
       " 2,\n",
       " 2,\n",
       " 5,\n",
       " 1,\n",
       " 4,\n",
       " 5,\n",
       " 1,\n",
       " 7,\n",
       " 3,\n",
       " 3,\n",
       " 7,\n",
       " 2,\n",
       " 8,\n",
       " 4,\n",
       " 4,\n",
       " 5,\n",
       " 7,\n",
       " 5,\n",
       " 1,\n",
       " 5,\n",
       " 9,\n",
       " 3,\n",
       " 9,\n",
       " 8,\n",
       " 8,\n",
       " 9,\n",
       " 4,\n",
       " 9,\n",
       " 7,\n",
       " 9,\n",
       " 8,\n",
       " 2,\n",
       " 7,\n",
       " 3,\n",
       " 2,\n",
       " 8,\n",
       " 8,\n",
       " 4,\n",
       " 4,\n",
       " 4,\n",
       " 8,\n",
       " 1,\n",
       " 2,\n",
       " 8,\n",
       " 3,\n",
       " 3,\n",
       " 7,\n",
       " 4,\n",
       " 6,\n",
       " 5,\n",
       " 7,\n",
       " 6,\n",
       " 0,\n",
       " 2,\n",
       " 1,\n",
       " 7,\n",
       " 0,\n",
       " 8,\n",
       " 8,\n",
       " 0,\n",
       " 9,\n",
       " 7,\n",
       " 3,\n",
       " 2,\n",
       " 9,\n",
       " 6,\n",
       " 5,\n",
       " 0,\n",
       " 7,\n",
       " 9,\n",
       " 8,\n",
       " 1,\n",
       " 4,\n",
       " 7,\n",
       " 4,\n",
       " 6,\n",
       " 4,\n",
       " 3,\n",
       " 6,\n",
       " 9,\n",
       " 9,\n",
       " 5,\n",
       " 9,\n",
       " 7,\n",
       " 3,\n",
       " 0,\n",
       " 4,\n",
       " 8,\n",
       " 6,\n",
       " 7,\n",
       " 9,\n",
       " 9,\n",
       " 7,\n",
       " 4,\n",
       " 4,\n",
       " 4,\n",
       " 8,\n",
       " 8,\n",
       " 7,\n",
       " 8,\n",
       " 3,\n",
       " 0,\n",
       " 2,\n",
       " 6,\n",
       " 1,\n",
       " 6,\n",
       " 2,\n",
       " 5,\n",
       " 3,\n",
       " 6,\n",
       " 5,\n",
       " 3,\n",
       " 3,\n",
       " 9,\n",
       " 5,\n",
       " 2,\n",
       " 8,\n",
       " 6,\n",
       " 2,\n",
       " 7,\n",
       " 2,\n",
       " 6,\n",
       " 4,\n",
       " 0,\n",
       " 6,\n",
       " 9,\n",
       " 4,\n",
       " 3,\n",
       " 2,\n",
       " 2,\n",
       " 7,\n",
       " 1,\n",
       " 5,\n",
       " 4,\n",
       " 0,\n",
       " 6,\n",
       " 2,\n",
       " 9,\n",
       " 4,\n",
       " 3,\n",
       " 6,\n",
       " 3,\n",
       " 3,\n",
       " 7,\n",
       " 3,\n",
       " 0,\n",
       " 7,\n",
       " 4,\n",
       " 1,\n",
       " 9,\n",
       " 1,\n",
       " 6,\n",
       " 1,\n",
       " 5,\n",
       " 0,\n",
       " 7,\n",
       " 4,\n",
       " 0,\n",
       " 6,\n",
       " 0,\n",
       " 6,\n",
       " 9,\n",
       " 1,\n",
       " 4,\n",
       " 1,\n",
       " 4,\n",
       " 6,\n",
       " 6,\n",
       " 2,\n",
       " 1,\n",
       " 3,\n",
       " 6,\n",
       " 4,\n",
       " 2,\n",
       " 4,\n",
       " 9,\n",
       " 4,\n",
       " 3,\n",
       " 0,\n",
       " 4,\n",
       " 8,\n",
       " 3,\n",
       " 8,\n",
       " 5,\n",
       " 0,\n",
       " 8,\n",
       " 1,\n",
       " 8,\n",
       " 1,\n",
       " 2,\n",
       " 8,\n",
       " 6,\n",
       " 4,\n",
       " 0,\n",
       " 0,\n",
       " 0,\n",
       " 3,\n",
       " 2,\n",
       " 6,\n",
       " 7,\n",
       " 1,\n",
       " 9,\n",
       " 0,\n",
       " 6,\n",
       " 8,\n",
       " 7,\n",
       " 5,\n",
       " 4,\n",
       " 5,\n",
       " 8,\n",
       " 8,\n",
       " 1,\n",
       " 8,\n",
       " 0,\n",
       " 2,\n",
       " 3,\n",
       " 0,\n",
       " 8,\n",
       " 6,\n",
       " 0,\n",
       " 5,\n",
       " 2,\n",
       " 3,\n",
       " 7,\n",
       " 4,\n",
       " 8,\n",
       " 4,\n",
       " 1,\n",
       " 5,\n",
       " 1,\n",
       " 0,\n",
       " 7,\n",
       " 5,\n",
       " 1,\n",
       " 4,\n",
       " 1,\n",
       " 7,\n",
       " 3,\n",
       " 8,\n",
       " 6,\n",
       " 9,\n",
       " 3,\n",
       " 6,\n",
       " 7,\n",
       " 3,\n",
       " 2,\n",
       " 1,\n",
       " 7,\n",
       " 7,\n",
       " 8,\n",
       " 6,\n",
       " 3,\n",
       " 5,\n",
       " 1,\n",
       " 7,\n",
       " 8,\n",
       " 9,\n",
       " 8,\n",
       " 4,\n",
       " 9,\n",
       " 3,\n",
       " 6,\n",
       " 5,\n",
       " 0,\n",
       " 5,\n",
       " 2,\n",
       " 4,\n",
       " 2,\n",
       " 4,\n",
       " 0,\n",
       " 8,\n",
       " 4,\n",
       " 4,\n",
       " 1,\n",
       " 6,\n",
       " 5,\n",
       " 8,\n",
       " 0,\n",
       " 2,\n",
       " 0,\n",
       " 1,\n",
       " 2,\n",
       " 8,\n",
       " 5,\n",
       " 4,\n",
       " 5,\n",
       " 8,\n",
       " 4,\n",
       " 7,\n",
       " 9,\n",
       " 5,\n",
       " 5,\n",
       " 5,\n",
       " 5,\n",
       " 9,\n",
       " 3,\n",
       " 3,\n",
       " 2,\n",
       " 8,\n",
       " 4,\n",
       " 0,\n",
       " 1,\n",
       " 3,\n",
       " 2,\n",
       " 1,\n",
       " 8,\n",
       " 2,\n",
       " 2,\n",
       " 1,\n",
       " 1,\n",
       " 6,\n",
       " 2,\n",
       " 0,\n",
       " 9,\n",
       " 8,\n",
       " 4,\n",
       " 6,\n",
       " 8,\n",
       " 0,\n",
       " 4,\n",
       " 9,\n",
       " 9,\n",
       " 6,\n",
       " 9,\n",
       " 9,\n",
       " 4,\n",
       " 0,\n",
       " 9,\n",
       " 0,\n",
       " 6,\n",
       " 7,\n",
       " 2,\n",
       " 2,\n",
       " 8,\n",
       " 7,\n",
       " 0,\n",
       " 6,\n",
       " 0,\n",
       " 0,\n",
       " 7,\n",
       " 6,\n",
       " 5,\n",
       " 9,\n",
       " 7,\n",
       " 6,\n",
       " 4,\n",
       " 6,\n",
       " 5,\n",
       " 5,\n",
       " 1,\n",
       " 9,\n",
       " 0,\n",
       " 2,\n",
       " 4,\n",
       " 3,\n",
       " 0,\n",
       " 4,\n",
       " 8,\n",
       " 1,\n",
       " 2,\n",
       " 1,\n",
       " 6,\n",
       " 2,\n",
       " 0,\n",
       " 8,\n",
       " 3,\n",
       " 6,\n",
       " 9,\n",
       " 2,\n",
       " 6,\n",
       " 9,\n",
       " 4,\n",
       " 5,\n",
       " 1,\n",
       " 2,\n",
       " 5,\n",
       " 1,\n",
       " 6,\n",
       " 5,\n",
       " 9,\n",
       " 0,\n",
       " 6,\n",
       " 1,\n",
       " 8,\n",
       " 7,\n",
       " 4,\n",
       " 2,\n",
       " 1,\n",
       " 0,\n",
       " 5,\n",
       " 4,\n",
       " 6,\n",
       " 0,\n",
       " 7,\n",
       " 8,\n",
       " 3,\n",
       " 6,\n",
       " 5,\n",
       " 0,\n",
       " 5,\n",
       " 8,\n",
       " 8,\n",
       " 0,\n",
       " 1,\n",
       " 5,\n",
       " 9,\n",
       " 5,\n",
       " 0,\n",
       " 7,\n",
       " 1,\n",
       " 6,\n",
       " 9,\n",
       " 8,\n",
       " 1,\n",
       " 9,\n",
       " 6,\n",
       " 7,\n",
       " 2,\n",
       " 8,\n",
       " 7,\n",
       " 5,\n",
       " 3,\n",
       " 6,\n",
       " 8,\n",
       " 4,\n",
       " 6,\n",
       " 0,\n",
       " 0,\n",
       " 9,\n",
       " 0,\n",
       " 0,\n",
       " 4,\n",
       " 7,\n",
       " 3,\n",
       " 0,\n",
       " 4,\n",
       " 2,\n",
       " 7,\n",
       " 7,\n",
       " 0,\n",
       " 6,\n",
       " 8,\n",
       " 3,\n",
       " 2,\n",
       " 9,\n",
       " 9,\n",
       " 6,\n",
       " 7,\n",
       " 5,\n",
       " 7,\n",
       " 0,\n",
       " 3,\n",
       " 0,\n",
       " 8,\n",
       " 1,\n",
       " 3,\n",
       " 1,\n",
       " 2,\n",
       " 4,\n",
       " 8,\n",
       " 8,\n",
       " 9,\n",
       " 1,\n",
       " 5,\n",
       " 3,\n",
       " 1,\n",
       " 6,\n",
       " 9,\n",
       " 4,\n",
       " 0,\n",
       " 3,\n",
       " 4,\n",
       " 5,\n",
       " 8,\n",
       " 8,\n",
       " 8,\n",
       " 9,\n",
       " 0,\n",
       " 5,\n",
       " 8,\n",
       " 4,\n",
       " 9,\n",
       " 6,\n",
       " 5,\n",
       " 9,\n",
       " 0,\n",
       " 3,\n",
       " 1,\n",
       " 8,\n",
       " 2,\n",
       " 5,\n",
       " 2,\n",
       " 8,\n",
       " 9,\n",
       " 7,\n",
       " 7,\n",
       " 8,\n",
       " 6,\n",
       " 0,\n",
       " 0,\n",
       " 3,\n",
       " 1,\n",
       " 7,\n",
       " 8,\n",
       " 4,\n",
       " 3,\n",
       " 1,\n",
       " 3,\n",
       " 0,\n",
       " 8,\n",
       " 2,\n",
       " 5,\n",
       " 1,\n",
       " 0,\n",
       " 9,\n",
       " 6,\n",
       " 5,\n",
       " 9,\n",
       " 8,\n",
       " 2,\n",
       " 4,\n",
       " 4,\n",
       " 6,\n",
       " 8,\n",
       " 8,\n",
       " 4,\n",
       " 9,\n",
       " 9,\n",
       " 4,\n",
       " 8,\n",
       " 0,\n",
       " 0,\n",
       " 8,\n",
       " 3,\n",
       " 8,\n",
       " 3,\n",
       " 6,\n",
       " 4,\n",
       " 1,\n",
       " 8,\n",
       " 8,\n",
       " 2,\n",
       " 0,\n",
       " 7,\n",
       " 6,\n",
       " 1,\n",
       " 9,\n",
       " 1,\n",
       " 4,\n",
       " 0,\n",
       " 4,\n",
       " 5,\n",
       " 3,\n",
       " 4,\n",
       " 6,\n",
       " 5,\n",
       " 4,\n",
       " 6,\n",
       " 5,\n",
       " 3,\n",
       " 9,\n",
       " 6,\n",
       " 7,\n",
       " 6,\n",
       " 7,\n",
       " 8,\n",
       " 5,\n",
       " 6,\n",
       " 6,\n",
       " 7,\n",
       " 4,\n",
       " 2,\n",
       " 3,\n",
       " 2,\n",
       " 1,\n",
       " 2,\n",
       " 4,\n",
       " 9,\n",
       " 6,\n",
       " 3,\n",
       " 5,\n",
       " 0,\n",
       " 4,\n",
       " 8,\n",
       " 7,\n",
       " 5,\n",
       " 1,\n",
       " 8,\n",
       " 6,\n",
       " 3,\n",
       " 9,\n",
       " 5,\n",
       " 2,\n",
       " 4,\n",
       " 6,\n",
       " 1,\n",
       " 9,\n",
       " 7,\n",
       " 4,\n",
       " 2,\n",
       " 1,\n",
       " 0,\n",
       " 3,\n",
       " 9,\n",
       " 6,\n",
       " 1,\n",
       " 7,\n",
       " 1,\n",
       " 9,\n",
       " 6,\n",
       " 1,\n",
       " 3,\n",
       " 7,\n",
       " 2,\n",
       " 9,\n",
       " 9,\n",
       " 9,\n",
       " 5,\n",
       " 1,\n",
       " 4,\n",
       " 7,\n",
       " 2,\n",
       " 6,\n",
       " 4,\n",
       " 2,\n",
       " 4,\n",
       " 6,\n",
       " 2,\n",
       " 3,\n",
       " 5,\n",
       " 6,\n",
       " 3,\n",
       " 7,\n",
       " 0,\n",
       " 1,\n",
       " 5,\n",
       " 2,\n",
       " 4,\n",
       " 2,\n",
       " 0,\n",
       " 5,\n",
       " 2,\n",
       " 2,\n",
       " 2,\n",
       " 9,\n",
       " 0,\n",
       " 9,\n",
       " 7,\n",
       " 3,\n",
       " 2,\n",
       " 3,\n",
       " 5,\n",
       " 1,\n",
       " 7,\n",
       " 2,\n",
       " 6,\n",
       " 1,\n",
       " 2,\n",
       " 5,\n",
       " 7,\n",
       " 3,\n",
       " 9,\n",
       " 1,\n",
       " 3,\n",
       " 6,\n",
       " 6,\n",
       " 6,\n",
       " 3,\n",
       " 6,\n",
       " 5,\n",
       " 8,\n",
       " 1,\n",
       " 8,\n",
       " 6,\n",
       " 4,\n",
       " 6,\n",
       " 3,\n",
       " 7,\n",
       " 8,\n",
       " 1,\n",
       " 7,\n",
       " 7,\n",
       " 9,\n",
       " 4,\n",
       " 8,\n",
       " 8,\n",
       " 5,\n",
       " 9,\n",
       " 0,\n",
       " 8,\n",
       " 2,\n",
       " 8,\n",
       " 7,\n",
       " 3,\n",
       " 2,\n",
       " 3,\n",
       " 3,\n",
       " 8,\n",
       " 6,\n",
       " 0,\n",
       " 6,\n",
       " 2,\n",
       " 3,\n",
       " 6,\n",
       " 0,\n",
       " 7,\n",
       " 6,\n",
       " 5,\n",
       " 2,\n",
       " 7,\n",
       " 2,\n",
       " 9,\n",
       " 3,\n",
       " 6,\n",
       " 6,\n",
       " 8,\n",
       " 3,\n",
       " 5,\n",
       " 4,\n",
       " 4,\n",
       " 5,\n",
       " 7,\n",
       " 2,\n",
       " 2,\n",
       " 2,\n",
       " 5,\n",
       " 7,\n",
       " 4,\n",
       " 7,\n",
       " 1,\n",
       " 3,\n",
       " 1,\n",
       " 7,\n",
       " 8,\n",
       " 3,\n",
       " 5,\n",
       " 4,\n",
       " 8,\n",
       " 8,\n",
       " 7,\n",
       " 1,\n",
       " 5,\n",
       " 8,\n",
       " 2,\n",
       " 4,\n",
       " 4,\n",
       " 3,\n",
       " 4,\n",
       " ...]"
      ]
     },
     "execution_count": 50,
     "metadata": {},
     "output_type": "execute_result"
    }
   ],
   "source": [
    "random_numbers"
   ]
  },
  {
   "cell_type": "code",
   "execution_count": 51,
   "metadata": {},
   "outputs": [
    {
     "name": "stdout",
     "output_type": "stream",
     "text": [
      "[4, 9, 6, 0, 1, 9, 6, 5, 9, 8, 9, 0, 0, 9, 4, 8, 2, 8, 7, 0, 2, 6, 2, 7, 9, 0, 9, 2, 5, 5, 7, 1, 6, 3, 9, 7, 6, 1, 2, 0, 9, 5, 1, 3, 7, 4, 5, 1, 5, 3, 6, 2, 6, 8, 6, 8, 9, 1, 0, 8, 7, 5, 5, 1, 8, 7, 6, 6, 9, 8, 1, 7, 3, 3, 2, 8, 4, 9, 9, 7, 3, 9, 1, 6, 4, 9, 1, 7, 2, 7, 7, 4, 0, 0, 6, 1, 4, 7, 7, 1, 2, 2, 3, 4, 4, 2, 7, 3, 9, 7, 2, 7, 4, 4, 6, 5, 5, 6, 4, 7, 9, 1, 4, 4, 7, 9, 8, 6, 2, 2, 5, 2, 7, 3, 1, 9, 4, 6, 6, 6, 4, 5, 3, 1, 6, 1, 7, 9, 6, 9, 3, 1, 8, 1, 5, 8, 5, 4, 8, 1, 9, 4, 2, 6, 3, 0, 7, 3, 2, 7, 2, 2, 5, 9, 6, 2, 1, 9, 5, 5, 2, 3, 8, 8, 3, 5, 9, 5, 4, 9, 3, 5, 7, 8, 6, 4, 1, 0, 0, 0, 3, 4, 8, 4, 3, 7, 7, 2, 0, 2, 6, 8, 5, 3, 7, 9, 7, 3, 4, 5, 2, 9, 0, 0, 8, 7, 5, 1, 7, 6, 5, 0, 4, 1, 1, 7, 6, 9, 9, 3, 9, 1, 5, 2, 6, 8, 4, 3, 0, 8, 5, 7, 2, 2, 5, 1, 4, 5, 1, 7, 3, 3, 7, 2, 8, 4, 4, 5, 7, 5, 1, 5, 9, 3, 9, 8, 8, 9, 4, 9, 7, 9, 8, 2, 7, 3, 2, 8, 8, 4, 4, 4, 8, 1, 2, 8, 3, 3, 7, 4, 6, 5, 7, 6, 0, 2, 1, 7, 0, 8, 8, 0, 9, 7, 3, 2, 9, 6, 5, 0, 7, 9, 8, 1, 4, 7, 4, 6, 4, 3, 6, 9, 9, 5, 9, 7, 3, 0, 4, 8, 6, 7, 9, 9, 7, 4, 4, 4, 8, 8, 7, 8, 3, 0, 2, 6, 1, 6, 2, 5, 3, 6, 5, 3, 3, 9, 5, 2, 8, 6, 2, 7, 2, 6, 4, 0, 6, 9, 4, 3, 2, 2, 7, 1, 5, 4, 0, 6, 2, 9, 4, 3, 6, 3, 3, 7, 3, 0, 7, 4, 1, 9, 1, 6, 1, 5, 0, 7, 4, 0, 6, 0, 6, 9, 1, 4, 1, 4, 6, 6, 2, 1, 3, 6, 4, 2, 4, 9, 4, 3, 0, 4, 8, 3, 8, 5, 0, 8, 1, 8, 1, 2, 8, 6, 4, 0, 0, 0, 3, 2, 6, 7, 1, 9, 0, 6, 8, 7, 5, 4, 5, 8, 8, 1, 8, 0, 2, 3, 0, 8, 6, 0, 5, 2, 3, 7, 4, 8, 4, 1, 5, 1, 0, 7, 5, 1, 4, 1, 7, 3, 8, 6, 9, 3, 6, 7, 3, 2, 1, 7, 7, 8, 6, 3, 5, 1, 7, 8, 9, 8, 4, 9, 3, 6, 5, 0, 5, 2, 4, 2, 4, 0, 8, 4, 4, 1, 6, 5, 8, 0, 2, 0, 1, 2, 8, 5, 4, 5, 8, 4, 7, 9, 5, 5, 5, 5, 9, 3, 3, 2, 8, 4, 0, 1, 3, 2, 1, 8, 2, 2, 1, 1, 6, 2, 0, 9, 8, 4, 6, 8, 0, 4, 9, 9, 6, 9, 9, 4, 0, 9, 0, 6, 7, 2, 2, 8, 7, 0, 6, 0, 0, 7, 6, 5, 9, 7, 6, 4, 6, 5, 5, 1, 9, 0, 2, 4, 3, 0, 4, 8, 1, 2, 1, 6, 2, 0, 8, 3, 6, 9, 2, 6, 9, 4, 5, 1, 2, 5, 1, 6, 5, 9, 0, 6, 1, 8, 7, 4, 2, 1, 0, 5, 4, 6, 0, 7, 8, 3, 6, 5, 0, 5, 8, 8, 0, 1, 5, 9, 5, 0, 7, 1, 6, 9, 8, 1, 9, 6, 7, 2, 8, 7, 5, 3, 6, 8, 4, 6, 0, 0, 9, 0, 0, 4, 7, 3, 0, 4, 2, 7, 7, 0, 6, 8, 3, 2, 9, 9, 6, 7, 5, 7, 0, 3, 0, 8, 1, 3, 1, 2, 4, 8, 8, 9, 1, 5, 3, 1, 6, 9, 4, 0, 3, 4, 5, 8, 8, 8, 9, 0, 5, 8, 4, 9, 6, 5, 9, 0, 3, 1, 8, 2, 5, 2, 8, 9, 7, 7, 8, 6, 0, 0, 3, 1, 7, 8, 4, 3, 1, 3, 0, 8, 2, 5, 1, 0, 9, 6, 5, 9, 8, 2, 4, 4, 6, 8, 8, 4, 9, 9, 4, 8, 0, 0, 8, 3, 8, 3, 6, 4, 1, 8, 8, 2, 0, 7, 6, 1, 9, 1, 4, 0, 4, 5, 3, 4, 6, 5, 4, 6, 5, 3, 9, 6, 7, 6, 7, 8, 5, 6, 6, 7, 4, 2, 3, 2, 1, 2, 4, 9, 6, 3, 5, 0, 4, 8, 7, 5, 1, 8, 6, 3, 9, 5, 2, 4, 6, 1, 9, 7, 4, 2, 1, 0, 3, 9, 6, 1, 7, 1, 9, 6, 1, 3, 7, 2, 9, 9, 9, 5, 1, 4, 7, 2, 6, 4, 2, 4, 6, 2, 3, 5, 6, 3, 7, 0, 1, 5, 2, 4, 2, 0, 5, 2, 2, 2, 9, 0, 9, 7, 3, 2, 3, 5, 1, 7, 2, 6, 1, 2, 5, 7, 3, 9, 1, 3, 6, 6, 6, 3, 6, 5, 8, 1, 8, 6, 4, 6, 3, 7, 8, 1, 7, 7, 9, 4, 8, 8, 5, 9, 0, 8, 2, 8, 7, 3, 2, 3, 3, 8, 6, 0, 6, 2, 3, 6, 0, 7, 6, 5, 2, 7, 2, 9, 3, 6, 6, 8, 3, 5, 4, 4, 5, 7, 2, 2, 2, 5, 7, 4, 7, 1, 3, 1, 7, 8, 3, 5, 4, 8, 8, 7, 1, 5, 8, 2, 4, 4, 3, 4, 7, 8, 6, 2, 4, 6, 8, 1, 0, 0, 9, 6, 2, 3, 6, 8, 2, 9, 7, 1, 8, 2, 9, 8, 0, 7, 9, 0, 0, 7, 2, 8, 1, 6, 6, 9, 9, 7, 3, 3, 7, 7, 8, 2, 7, 1, 6, 7, 4, 4, 5, 5, 0, 7, 2, 7, 9, 4, 3, 7, 2, 8, 3, 9, 8, 9, 5, 0, 3, 3, 0, 0, 4, 3, 3, 2, 7, 4, 5, 4, 5, 4, 0, 2, 6, 5, 6, 6, 3, 4, 7, 3, 9, 1, 0, 6, 8, 0, 0, 9, 7, 7, 5, 1, 1, 1, 7, 8, 5, 5, 6, 7, 7, 6, 0, 6, 9, 4, 5, 6, 9, 7, 8, 7, 0, 4, 0, 0, 2, 5, 6, 8, 0, 0, 8, 2, 5, 3, 2, 7, 0, 6, 1, 8, 2, 0, 2, 3, 0, 2, 2, 8, 2, 8, 4, 4, 3, 7, 5, 9, 7, 1, 3, 9, 2, 7, 8, 9, 0, 9, 2, 1, 2, 9, 9, 5, 4, 6, 1, 3, 5, 0, 3, 2, 2, 9, 1, 0, 0, 8, 4, 6, 9, 6, 3, 0, 0, 3, 7, 7, 8, 1, 8, 1, 7, 4, 8, 0, 3, 7, 4, 4, 5, 4, 9, 8, 1, 2, 5, 3, 8, 8, 0, 4, 5, 1, 2, 9, 5, 8, 6, 0, 0, 7, 0, 6, 6, 6, 8, 8, 0, 6, 8, 2, 9, 1, 2, 2, 8, 9, 1, 9, 5, 3, 6, 5, 2, 2, 7, 1, 2, 0, 0, 9, 9, 7, 8, 0, 3, 4, 5, 6, 6, 0, 0, 8, 8, 4, 5, 1, 4, 0, 7, 9, 0, 9, 1, 6, 0, 0, 8, 8, 8, 6, 8, 6, 1, 5, 1, 7, 2, 5, 6, 4, 4, 3, 6, 4, 4, 3, 6, 5, 0, 6, 3, 1, 2, 2, 0, 5, 0, 5, 6, 3, 3, 1, 0, 6, 1, 2, 6, 9, 3, 3, 8, 5, 5, 6, 3, 5, 1, 4, 8, 4, 9, 8, 3, 1, 4, 2, 0, 8, 7, 2, 7, 0, 2, 6, 7, 1, 1, 0, 9, 0, 7, 8, 1, 5, 6, 6, 0, 0, 8, 8, 8, 9, 9, 8, 3, 7, 6, 5, 3, 3, 1, 2, 0, 1, 1, 9, 9, 5, 1, 5, 6, 0, 5, 0, 8, 9, 0, 5, 1, 7, 9, 1, 3, 8, 6, 0, 5, 5, 1, 4, 5, 7, 6, 9, 7, 5, 7, 7, 0, 0, 6, 5, 6, 3, 9, 6, 0, 7, 8, 7, 4, 7, 3, 3, 1, 0, 9, 8, 3, 3, 1, 0, 2, 0, 2, 9, 6, 2, 2, 8, 6, 2, 3, 6, 5, 8, 6, 7, 4, 2, 5, 1, 2, 4, 9, 2, 2, 0, 1, 6, 8, 5, 9, 6, 9, 1, 4, 2, 5, 8, 4, 6, 1, 4, 3, 3, 1, 4, 2, 7, 1, 7, 3, 1, 0, 9, 9, 6, 4, 7, 9, 7, 8, 0, 8, 7, 9, 2, 8, 4, 4, 2, 8, 7, 3, 2, 2, 0, 3, 1, 4, 1, 0, 6, 6, 3, 4, 8, 6, 1, 1, 1, 5, 4, 6, 3, 5, 6, 2, 6, 3, 6, 1, 5, 6, 5, 7, 8, 5, 9, 9, 4, 8, 7, 6, 0, 9, 0, 4, 1, 2, 2, 7, 9, 3, 0, 2, 1, 4, 5, 4, 5, 4, 1, 5, 3, 1, 6, 3, 2, 2, 7, 2, 7, 7, 4, 2, 4, 1, 8, 6, 4, 5, 3, 3, 7, 0, 5, 7, 4, 0, 2, 1, 6, 0, 5, 9, 5, 0, 6, 5, 5, 2, 1, 6, 6, 0, 3, 1, 6, 5, 4, 9, 3, 0, 5, 5, 0, 6, 5, 4, 4, 3, 1, 0, 8, 2, 0, 2, 2, 5, 7, 2, 4, 1, 4, 1, 4, 8, 3, 3, 3, 0, 4, 6, 9, 6, 7, 9, 2, 2, 4, 2, 7, 0, 9, 5, 9, 3, 8, 1, 7, 9, 2, 3, 9, 4, 6, 7, 6, 4, 8, 3, 7, 6, 0, 4, 8, 8, 5, 3, 2, 2, 0, 8, 8, 2, 9, 7, 3, 1, 2, 7, 6, 1, 9, 0, 6, 4, 6, 8, 7, 1, 8, 8, 3, 2, 7, 5, 3, 4, 6, 0, 7, 3, 4, 8, 0, 5, 2, 3, 9, 8, 7, 8, 4, 1, 3, 3, 0, 7, 3, 7, 7, 5, 7, 9, 3, 6, 1, 6, 4, 9, 6, 3, 3, 2, 1, 8, 7, 0, 7, 9, 8, 0, 8, 4, 8, 3, 8, 5, 3, 8, 8, 6, 5, 1, 5, 8, 3, 1, 9, 9, 6, 2, 8, 8, 4, 7, 0, 0, 5, 0, 5, 0, 2, 8, 3, 8, 5, 6, 1, 8, 3, 7, 8, 4, 6, 8, 0, 1, 2, 2, 9, 8, 3, 1, 9, 2, 9, 0, 5, 0, 5, 5, 1, 3, 9, 8, 0, 5, 1, 4, 5, 1, 2, 3, 0, 4, 8, 5, 6, 7, 6, 9, 4, 3, 0, 5, 0, 9, 3, 4, 9, 4, 2, 9, 4, 6, 5, 7, 6, 5, 1, 3, 4, 0, 3, 0, 0, 9, 4, 2, 1, 5, 5, 7, 3, 4, 2, 0, 3, 9, 1, 1, 1, 7, 5, 7, 0, 3, 9, 8, 5, 2, 4, 0, 7, 5, 9, 2, 0, 1, 3, 1, 2, 3, 4, 9, 0, 8, 3, 5, 3, 5, 1, 9, 4, 0, 0, 8, 4, 1, 8, 8, 3, 2, 9, 0, 7, 3, 6, 5, 9, 5, 9, 9, 1, 4, 9, 9, 9, 2, 3, 0, 8, 4, 2, 7, 1, 1, 2, 4, 3, 3, 4, 2, 7, 6, 6, 8, 9, 5, 7, 5, 0, 1, 8, 9, 7, 2, 2, 8, 9, 3, 7, 4, 6, 0, 0, 9, 7, 5, 5, 6, 0, 5, 6, 1, 8, 7, 8, 5, 0, 5, 7, 8, 8, 6, 7, 0, 1, 7, 6, 4, 9, 9, 6, 6, 7, 8, 5, 1, 7, 7, 7, 3, 6, 6, 9, 8, 0, 7, 8, 2, 0, 1, 2, 8, 5, 9, 8, 7, 0, 4, 6, 0, 8, 3, 4, 3, 7, 1, 1, 0, 7, 7, 4, 8, 9, 1, 2, 5, 8, 8, 8, 3, 9, 6, 0, 2, 5, 1, 3, 8, 4, 5, 6, 3, 3, 3, 7, 4, 9, 0, 7, 0, 1, 1, 3, 7, 0, 3, 7, 4, 2, 6, 6, 8, 4, 2, 1, 8, 4, 0, 7, 4, 5, 0, 6, 7, 9, 1, 7, 6, 2, 8, 8, 9, 2, 8, 9, 0, 6, 5, 2, 0, 3, 9, 4, 5, 5, 1, 1, 2, 2, 0, 7, 0, 1, 7, 5, 7, 3, 6, 4, 5, 4, 3, 9, 5, 5, 2, 6, 1, 3, 5, 8, 9, 0, 4, 4, 4, 1, 4, 3, 5, 9, 7, 1, 5, 7, 0, 0, 9, 0, 1, 6, 5, 0, 1, 1, 2, 6, 2, 3, 3, 8, 1, 8, 7, 8, 9, 6, 8, 1, 2, 9, 6, 3, 2, 9, 5, 9, 9, 7, 9, 7, 6, 2, 2, 9, 5, 8, 0, 1, 9, 5, 6, 6, 7, 7, 9, 1, 6, 7, 0, 2, 3, 3, 7, 3, 2, 3, 4, 1, 9, 6, 9, 0, 3, 0, 8, 6, 9, 3, 8, 5, 2, 5, 0, 0, 2, 5, 6, 6, 8, 2, 7, 1, 1, 5, 5, 8, 9, 5, 4, 6, 5, 3, 0, 1, 4, 2, 5, 2, 5, 9, 5, 9, 8, 9, 8, 0, 9, 9, 5, 0, 3, 3, 1, 1, 5, 7, 0, 3, 2, 2, 5, 1, 5, 8, 6, 8, 3, 7, 6, 3, 3, 7, 7, 9, 8, 1, 0, 6, 6, 5, 6, 7, 5, 8, 4, 3, 3, 9, 6, 7, 5, 5, 8, 0, 9, 6, 8, 4, 3, 0, 8, 5, 9, 9, 6, 9, 8, 1, 0, 9, 0, 7, 2, 6, 2, 0, 3, 4, 9, 4, 7, 5, 7, 2, 9, 5, 1, 3, 4, 4, 4, 2, 5, 8, 1, 1, 2, 5, 5, 1, 9, 0, 6, 5, 3, 0, 8, 9, 2, 2, 4, 3, 6, 7, 6, 6, 1, 9, 4, 0, 9, 1, 0, 2, 1, 2, 8, 2, 4, 3, 3, 6, 9, 7, 1, 9, 8, 6, 9, 0, 9, 4, 7, 0, 0, 1, 7, 0, 5, 0, 4, 8, 4, 0, 8, 5, 3, 1, 9, 8, 7, 2, 1, 0, 0, 0, 1, 5, 4, 2, 1, 0, 3, 3, 9, 7, 4, 6, 0, 9, 7, 4, 4, 9, 8, 5, 3, 3, 6, 9, 1, 2, 1, 0, 7, 1, 5, 4, 9, 8, 6, 6, 0, 2, 6, 2, 2, 8, 1, 9, 3, 6, 9, 7, 8, 7, 7, 5, 9, 7, 3, 0, 4, 1, 2, 5, 0, 7, 0, 4, 6, 4, 2, 8, 3, 2, 3, 9, 9, 8, 0, 5, 0, 5, 3, 7, 8, 2, 8, 3, 6, 3, 6, 0, 9, 5, 0, 9, 1, 8, 6, 9, 3, 0, 1, 2, 2, 1, 2, 4, 2, 8, 0, 1, 0, 0, 2, 5, 1, 9, 0, 1, 0, 1, 4, 6, 7, 8, 1, 4, 3, 9, 8, 3, 8, 3, 4, 9, 3, 7, 7, 7, 1, 8, 3, 8, 5, 4, 9, 1, 0, 4, 1, 7, 6, 4, 7, 3, 5, 4, 8, 3, 4, 7, 5, 2, 7, 1, 8, 7, 0, 3, 1, 1, 2, 2, 5, 8, 0, 4, 9, 8, 5, 3, 9, 3, 3, 1, 1, 5, 2, 5, 5, 6, 3, 7, 8, 7, 0, 0, 4, 3, 9, 0, 7, 1, 4, 7, 9, 1, 0, 6, 9, 6, 1, 1, 9, 7, 7, 2, 7, 6, 8, 8, 4, 2, 4, 2, 6, 8, 5, 5, 3, 2, 6, 7, 9, 8, 8, 1, 2, 4, 8, 4, 1, 8, 7, 6, 8, 1, 2, 2, 2, 0, 5, 9, 9, 5, 4, 7, 7, 6, 2, 7, 5, 5, 9, 0, 4, 5, 8, 0, 1, 2, 4, 2, 3, 3, 6, 6, 9, 3, 6, 8, 6, 8, 0, 4, 0, 8, 6, 1, 7, 0, 6, 6, 9, 5, 5, 5, 6, 5, 6, 9, 4, 5, 6, 2, 9, 1, 6, 0, 5, 2, 3, 5, 7, 6, 5, 0, 7, 1, 8, 6, 4, 6, 1, 4, 2, 8, 3, 2, 9, 2, 5, 6, 6, 9, 1, 1, 8, 8, 2, 1, 2, 9, 6, 9, 6, 3, 7, 5, 5, 0, 9, 7, 3, 3, 6, 5, 7, 9, 2, 4, 6, 9, 2, 7, 5, 5, 1, 5, 1, 9, 9, 2, 2, 5, 6, 5, 5, 4, 3, 3, 5, 2, 5, 5, 1, 8, 2, 8, 5, 5, 5, 2, 2, 1, 3, 4, 7, 9, 7, 5, 5, 1, 1, 9, 0, 7, 4, 6, 5, 5, 7, 7, 5, 7, 8, 1, 6, 4, 2, 5, 4, 4, 5, 5, 0, 8, 7, 0, 6, 2, 1, 4, 0, 4, 2, 4, 0, 2, 7, 6, 1, 2, 5, 0, 3, 0, 4, 8, 1, 1, 7, 4, 8, 5, 3, 4, 4, 0, 8, 9, 6, 9, 6, 6, 4, 4, 4, 6, 7, 8, 3, 7, 0, 1, 8, 5, 9, 9, 3, 1, 6, 5, 7, 1, 0, 2, 9, 6, 2, 4, 5, 8, 5, 6, 6, 8, 0, 7, 8, 8, 3, 2, 9, 3, 8, 3, 7, 0, 8, 6, 2, 7, 8, 5, 3, 4, 0, 1, 8, 0, 1, 4, 2, 2, 9, 5, 9, 0, 7, 0, 4, 6, 9, 4, 4, 2, 9, 7, 7, 6, 2, 8, 3, 5, 1, 0, 7, 2, 0, 2, 6, 7, 7, 6, 5, 7, 0, 4, 7, 3, 3, 1, 1, 4, 8, 1, 1, 3, 7, 5, 3, 4, 3, 9, 9, 8, 1, 3, 5, 2, 9, 6, 7, 3, 3, 0, 9, 1, 1, 3, 1, 1, 3, 0, 2, 6, 8, 1, 4, 6, 0, 9, 5, 0, 0, 2, 4, 9, 1, 7, 8, 5, 8, 7, 3, 7, 5, 6, 6, 1, 9, 3, 5, 2, 9, 6, 4, 8, 0, 7, 1, 6, 0, 8, 3, 8, 4, 5, 5, 7, 0, 5, 2, 9, 0, 9, 0, 1, 9, 1, 8, 0, 5, 7, 5, 9, 7, 7, 5, 2, 2, 1, 9, 2, 8, 3, 3, 4, 8, 2, 1, 6, 3, 1, 2, 5, 3, 6, 3, 4, 3, 6, 9, 0, 4, 2, 0, 5, 2, 6, 9, 2, 8, 8, 3, 1, 9, 7, 4, 1, 0, 4, 4, 7, 2, 9, 9, 9, 0, 6, 9, 0, 4, 4, 3, 6, 9, 5, 3, 4, 5, 0, 0, 5, 3, 7, 6, 7, 7, 4, 2, 7, 0, 1, 2, 2, 6, 2, 4, 7, 4, 8, 0, 5, 3, 4, 6, 0, 4, 6, 2, 9, 7, 9, 9, 4, 9, 7, 8, 7, 8, 4, 0, 5, 4, 3, 7, 5, 1, 9, 0, 4, 5, 1, 4, 0, 3, 8, 0, 6, 0, 2, 4, 0, 3, 4, 4, 1, 9, 4, 6, 7, 3, 3, 6, 6, 3, 6, 5, 3, 9, 9, 2, 9, 0, 3, 3, 1, 6, 4, 1, 0, 0, 4, 5, 3, 0, 4, 2, 8, 4, 6, 6, 4, 6, 7, 5, 4, 8, 2, 5, 5, 7, 8, 2, 0, 2, 0, 8, 0, 9, 9, 5, 0, 2, 0, 9, 6, 4, 4, 7, 6, 0, 3, 0, 7, 4, 9, 2, 9, 0, 2, 9, 2, 4, 1, 4, 5, 9, 3, 9, 1, 0, 5, 5, 7, 6, 4, 5, 2, 0, 5, 4, 1, 9, 4, 3, 8, 3, 1, 1, 7, 7, 9, 2, 7, 8, 6, 2, 6, 9, 4, 4, 4, 4, 7, 8, 7, 6, 8, 7, 5, 4, 4, 7, 4, 0, 9, 7, 3, 4, 2, 5, 0, 4, 1, 8, 1, 1, 5, 8, 7, 0, 9, 1, 5, 2, 1, 1, 2, 0, 0, 1, 3, 2, 7, 6, 6, 3, 6, 9, 6, 8, 3, 6, 4, 8, 6, 6, 0, 5, 7, 8, 1, 1, 0, 4, 0, 4, 5, 5, 1, 4, 8, 2, 0, 5, 8, 7, 9, 6, 2, 8, 9, 0, 0, 5, 2, 1, 8, 1, 4, 5, 6, 9, 5, 9, 9, 5, 7, 0, 6, 0, 1, 7, 5, 5, 5, 7, 9, 3, 9, 6, 2, 7, 0, 8, 0, 3, 3, 2, 9, 5, 8, 0, 1, 0, 3, 1, 8, 9, 8, 0, 5, 5, 1, 4, 3, 5, 5, 4, 9, 3, 2, 5, 4, 6, 5, 9, 5, 0, 5, 1, 8, 1, 9, 1, 2, 4, 2, 0, 8, 3, 3, 5, 3, 5, 9, 5, 0, 2, 5, 7, 5, 8, 9, 9, 6, 2, 0, 3, 5, 6, 0, 0, 4, 9, 4, 5, 4, 8, 3, 2, 5, 3, 9, 1, 3, 6, 4, 1, 1, 3, 2, 4, 4, 5, 0, 2, 4, 5, 1, 9, 6, 9, 8, 8, 6, 3, 1, 7, 0, 5, 6, 5, 9, 7, 8, 0, 3, 0, 4, 1, 2, 4, 2, 4, 1, 6, 6, 0, 8, 6, 4, 9, 0, 2, 3, 3, 5, 1, 8, 4, 1, 2, 4, 4, 7, 6, 9, 4, 6, 3, 4, 7, 5, 4, 6, 1, 3, 3, 9, 3, 0, 3, 1, 5, 0, 4, 4, 4, 0, 6, 9, 2, 6, 0, 9, 2, 0, 1, 8, 1, 3, 9, 3, 2, 2, 0, 2, 3, 0, 0, 1, 6, 1, 8, 7, 7, 3, 7, 0, 0, 7, 9, 4, 7, 9, 3, 4, 0, 9, 3, 8, 8, 2, 8, 5, 3, 2, 4, 9, 7, 1, 0, 7, 8, 4, 0, 6, 7, 6, 5, 1, 4, 2, 9, 2, 5, 8, 7, 6, 1, 7, 6, 8, 9, 7, 5, 8, 7, 6, 1, 3, 7, 5, 6, 0, 8, 6, 9, 7, 5, 2, 7, 5, 6, 1, 3, 4, 8, 8, 8, 5, 9, 1, 7, 6, 5, 1, 1, 2, 6, 4, 6, 4, 8, 3, 8, 9, 7, 3, 7, 0, 8, 8, 5, 8, 8, 0, 5, 0, 6, 5, 9, 7, 9, 1, 6, 1, 6, 8, 5, 5, 8, 8, 0, 4, 3, 9, 0, 5, 7, 4, 1, 0, 5, 8, 4, 3, 3, 5, 5, 8, 5, 7, 0, 5, 0, 7, 7, 4, 9, 9, 7, 2, 5, 2, 0, 7, 3, 2, 1, 2, 4, 4, 0, 2, 3, 2, 1, 3, 2, 8, 1, 4, 7, 9, 6, 3, 7, 0, 4, 3, 5, 4, 6, 5, 2, 5, 8, 7, 9, 0, 8, 5, 2, 8, 5, 9, 0, 1, 1, 1, 5, 7, 4, 2, 3, 8, 5, 5, 8, 9, 6, 9, 9, 8, 5, 3, 1, 9, 7, 2, 0, 7, 5, 5, 4, 8, 8, 0, 2, 8, 5, 8, 2, 8, 8, 1, 0, 1, 3, 7, 4, 1, 0, 2, 3, 4, 3, 4, 7, 4, 4, 1, 9, 4, 1, 1, 5, 9, 1, 2, 2, 1, 6, 4, 7, 9, 5, 5, 1, 9, 6, 1, 5, 7, 4, 6, 4, 8, 3, 4, 1, 1, 1, 5, 3, 7, 4, 0, 2, 4, 6, 5, 4, 4, 7, 9, 5, 2, 5, 5, 1, 9, 7, 3, 7, 5, 7, 5, 1, 3, 3, 5, 5, 6, 4, 2, 1, 1, 4, 9, 2, 5, 8, 8, 0, 6, 9, 2, 2, 0, 5, 9, 6, 9, 9, 1, 9, 8, 2, 0, 6, 2, 4, 9, 1, 2, 8, 9, 8, 2, 1, 2, 2, 3, 6, 7, 0, 3, 2, 8, 3, 1, 2, 7, 0, 4, 0, 9, 2, 7, 2, 4, 2, 0, 2, 3, 8, 0, 7, 0, 1, 0, 6, 6, 9, 6, 1, 4, 0, 0, 8, 6, 1, 8, 8, 2, 7, 5, 1, 6, 0, 2, 2, 1, 7, 5, 2, 2, 6, 3, 7, 8, 5, 8, 5, 9, 6, 6, 8, 8, 7, 1, 9, 6, 1, 2, 4, 7, 6, 7, 2, 9, 7, 9, 5, 8, 1, 1, 4, 2, 1, 6, 8, 5, 8, 3, 9, 8, 9, 0, 6, 2, 5, 3, 4, 1, 7, 4, 1, 0, 7, 4, 2, 5, 7, 1, 3, 1, 1, 4, 6, 6, 9, 0, 5, 1, 9, 2, 8, 3, 6, 2, 9, 6, 2, 9, 0, 1, 0, 5, 6, 2, 1, 2, 2, 2, 1, 3, 5, 7, 6, 9, 9, 0, 8, 1, 0, 0, 1, 3, 0, 2, 9, 8, 3, 2, 3, 3, 1, 2, 0, 0, 0, 9, 8, 8, 9, 9, 0, 2, 7, 5, 5, 7, 4, 7, 2, 8, 4, 4, 8, 2, 2, 4, 5, 5, 9, 8, 4, 2, 9, 6, 8, 4, 5, 2, 6, 6, 0, 9, 6, 0, 6, 5, 3, 5, 1, 0, 1, 8, 9, 2, 6, 8, 5, 6, 1, 1, 3, 4, 7, 5, 6, 7, 0, 6, 1, 3, 5, 6, 1, 0, 9, 8, 5, 0, 9, 9, 6, 0, 4, 7, 5, 0, 1, 6, 0, 6, 7, 8, 7, 1, 7, 0, 1, 3, 9, 1, 0, 4, 8, 6, 7, 7, 2, 5, 7, 9, 9, 1, 2, 2, 6, 4, 1, 2, 6, 1, 0, 9, 1, 9, 9, 1, 3, 7, 1, 7, 5, 2, 4, 6, 5, 8, 9, 2, 8, 7, 3, 8, 5, 7, 5, 1, 6, 2, 6, 7, 3, 0, 5, 5, 4, 2, 7, 4, 8, 5, 2, 8, 9, 5, 3, 3, 7, 0, 1, 6, 4, 5, 1, 8, 5, 2, 3, 3, 1, 4, 4, 9, 8, 4, 4, 3, 6, 4, 9, 2, 7, 5, 8, 6, 1, 0, 8, 2, 5, 8, 4, 8, 5, 0, 6, 9, 5, 8, 9, 1, 2, 2, 7, 6, 6, 0, 4, 8, 0, 5, 9, 8, 8, 5, 4, 5, 5, 1, 0, 1, 4, 8, 0, 1, 0, 0, 3, 4, 0, 6, 4, 4, 9, 8, 9, 7, 0, 0, 9, 8, 6, 4, 6, 2, 4, 8, 6, 3, 0, 9, 7, 7, 9, 3, 4, 4, 2, 7, 2, 8, 8, 5, 3, 8, 9, 5, 6, 8, 5, 1, 5, 8, 0, 4, 9, 3, 3, 0, 2, 6, 2, 5, 4, 8, 5, 6, 4, 9, 4, 2, 9, 3, 1, 2, 2, 4, 2, 2, 9, 8, 0, 0, 6, 3, 2, 7, 7, 7, 3, 3, 4, 1, 9, 6, 6, 7, 2, 5, 0, 6, 1, 3, 2, 4, 0, 4, 6, 7, 5, 7, 5, 6, 5, 3, 0, 6, 2, 0, 5, 3, 9, 6, 9, 3, 6, 4, 4, 8, 8, 2, 1, 9, 4, 4, 9, 3, 2, 6, 9, 1, 4, 3, 7, 5, 0, 5, 6, 9, 3, 2, 9, 3, 3, 8, 7, 1, 2, 1, 3, 0, 1, 0, 5, 8, 1, 0, 1, 5, 2, 9, 1, 0, 9, 5, 3, 7, 7, 1, 7, 3, 9, 5, 0, 1, 7, 6, 4, 5, 5, 2, 2, 2, 0, 7, 1, 9, 7, 0, 6, 7, 7, 3, 1, 3, 7, 0, 2, 0, 2, 9, 4, 2, 2, 1, 9, 5, 4, 9, 5, 1, 4, 7, 6, 5, 0, 3, 9, 1, 7, 4, 1, 7, 9, 1, 2, 6, 4, 9, 9, 6, 4, 6, 6, 9, 5, 2, 0, 1, 8, 8, 3, 4, 4, 9, 1, 4, 4, 2, 0, 2, 9, 4, 4, 6, 9, 4, 1, 6, 6, 7, 7, 2, 2, 6, 3, 2, 9, 7, 3, 9, 7, 9, 6, 0, 4, 7, 9, 6, 6, 8, 4, 8, 2, 1, 7, 2, 2, 5, 4, 9, 9, 9, 5, 3, 3, 6, 8, 4, 8, 6, 3, 7, 2, 0, 6, 8, 4, 6, 4, 3, 0, 9, 7, 7, 8, 9, 3, 7, 5, 0, 7, 5, 3, 4, 6, 1, 7, 6, 7, 9, 1, 6, 0, 4, 3, 1, 9, 5, 4, 1, 1, 5, 2, 4, 6, 1, 5, 6, 4, 8, 3, 7, 0, 0, 0, 4, 4, 2, 2, 5, 0, 2, 9, 0, 7, 3, 1, 1, 1, 5, 4, 4, 2, 0, 7, 5, 9, 2, 5, 4, 5, 2, 8, 5, 4, 1, 7, 8, 0, 3, 3, 2, 0, 6, 3, 1, 1, 1, 4, 1, 6, 2, 9, 6, 7, 9, 6, 2, 9, 9, 5, 8, 0, 7, 8, 7, 6, 0, 4, 1, 1, 4, 7, 2, 9, 9, 9, 2, 3, 0, 3, 4, 9, 8, 5, 8, 2, 0, 3, 5, 5, 4, 8, 2, 9, 2, 8, 1, 2, 0, 1, 3, 8, 7, 4, 9, 7, 7, 7, 6, 8, 4, 8, 1, 8, 9, 3, 7, 6, 6, 3, 0, 2, 2, 3, 9, 2, 9, 1, 3, 0, 3, 9, 7, 7, 3, 6, 2, 3, 6, 9, 4, 0, 6, 4, 5, 4, 4, 6, 5, 2, 6, 4, 8, 3, 9, 8, 3, 7, 6, 3, 8, 6, 7, 1, 4, 2, 7, 5, 8, 6, 7, 1, 4, 6, 0, 1, 4, 4, 0, 8, 4, 0, 3, 5, 0, 5, 7, 8, 0, 2, 9, 8, 0, 3, 1, 4, 9, 2, 4, 9, 2, 4, 6, 8, 9, 5, 3, 6, 7, 3, 9, 6, 9, 7, 8, 9, 9, 0, 4, 5, 7, 0, 9, 2, 1, 9, 6, 6, 2, 2, 6, 6, 3, 6, 2, 6, 2, 9, 2, 6, 0, 1, 9, 6, 9, 6, 4, 0, 8, 4, 2, 7, 6, 1, 4, 5, 4, 2, 4, 2, 6, 0, 9, 0, 1, 5, 9, 4, 3, 8, 5, 8, 9, 0, 4, 9, 9, 3, 5, 9, 0, 3, 6, 5, 3, 5, 4, 7, 7, 5, 6, 2, 4, 4, 0, 6, 4, 4, 4, 6, 9, 3, 2, 4, 3, 5, 0, 9, 8, 9, 2, 1, 4, 1, 5, 4, 0, 3, 9, 2, 9, 8, 2, 2, 9, 5, 5, 0, 2, 2, 2, 6, 6, 8, 3, 1, 6, 8, 3, 6, 9, 1, 6, 1, 6, 3, 8, 2, 6, 3, 9, 1, 4, 9, 8, 5, 5, 8, 9, 1, 9, 6, 9, 2, 9, 5, 9, 4, 6, 9, 7, 1, 5, 5, 0, 9, 0, 5, 3, 5, 2, 1, 1, 9, 3, 8, 7, 1, 0, 0, 4, 8, 9, 7, 5, 9, 4, 2, 1, 0, 4, 8, 1, 0, 3, 5, 5, 1, 4, 9, 0, 0, 8, 2, 9, 7, 8, 7, 2, 0, 5, 0, 3, 1, 9, 6, 9, 9, 2, 4, 0, 7, 0, 0, 8, 0, 5, 7, 9, 5, 6, 1, 8, 5, 5, 0, 1, 1, 5, 2, 1, 9, 9, 3, 0, 6, 1, 0, 8, 6, 6, 6, 4, 6, 3, 2, 1, 9, 9, 2, 4, 0, 0, 2, 4, 0, 5, 9, 1, 0, 5, 8, 8, 9, 4, 2, 5, 2, 9, 7, 0, 1, 0, 0, 4, 4, 9, 7, 6, 4, 8, 2, 6, 7, 4, 2, 5, 3, 7, 7, 8, 7, 5, 2, 5, 6, 1, 1, 4, 8, 5, 4, 4, 4, 5, 7, 6, 7, 0, 1, 0, 5, 2, 5, 5, 1, 1, 3, 6, 1, 7, 1, 9, 6, 8, 9, 7, 5, 4, 5, 1, 3, 0, 1, 3, 3, 9, 0, 0, 5, 2, 2, 9, 1, 0, 4, 0, 3, 6, 5, 8, 6, 6, 4, 1, 9, 3, 9, 9, 9, 0, 5, 2, 1, 2, 4, 4, 8, 0, 5, 3, 3, 7, 3, 5, 1, 1, 7, 2, 9, 9, 6, 9, 6, 0, 4, 8, 0, 9, 6, 1, 6, 7, 6, 5, 7, 6, 2, 2, 0, 9, 5, 0, 1, 3, 8, 4, 5, 3, 7, 0, 5, 1, 3, 8, 5, 9, 4, 4, 9, 7, 1, 2, 7, 7, 4, 7, 7, 3, 2, 9, 8, 8, 2, 8, 1, 3, 8, 7, 3, 9, 1, 2, 4, 2, 6, 8, 9, 4, 4, 6, 3, 7, 5, 8, 6, 1, 5, 4, 0, 5, 0, 1, 4, 8, 6, 3, 6, 4, 2, 8, 6, 2, 6, 1, 2, 0, 1, 4, 2, 1, 2, 2, 8, 8, 4, 2, 4, 0, 3, 6, 1, 2, 0, 4, 4, 2, 3, 5, 8, 8, 4, 2, 5, 7, 3, 4, 7, 4, 1, 1, 5, 2, 7, 5, 1, 0, 3, 8, 3, 7, 9, 6, 8, 4, 8, 1, 2, 6, 6, 6, 2, 6, 4, 6, 1, 8, 5, 9, 7, 7, 2, 1, 0, 2, 0, 3, 5, 8, 7, 8, 0, 3, 7, 2, 6, 7, 7, 4, 2, 9, 4, 1, 3, 3, 0, 5, 8, 7, 2, 0, 6, 7, 6, 3, 8, 5, 9, 3, 2, 5, 9, 6, 6, 9, 1, 4, 3, 0, 5, 0, 1, 9, 1, 0, 9, 2, 3, 4, 2, 2, 0, 6, 8, 3, 4, 7, 0, 5, 5, 1, 5, 4, 7, 5, 1, 6, 0, 5, 4, 0, 4, 3, 5, 7, 2, 5, 7, 4, 5, 6, 8, 5, 2, 2, 8, 6, 8, 9, 3, 4, 9, 6, 5, 1, 0, 6, 9, 8, 3, 1, 2, 2, 7, 5, 8, 5, 9, 7, 6, 9, 3, 4, 3, 6, 4, 9, 1, 5, 9, 3, 5, 0, 5, 2, 7, 4, 6, 6, 5, 6, 3, 1, 6, 7, 0, 4, 0, 4, 3, 8, 4, 6, 0, 0, 8, 5, 2, 7, 9, 8, 4, 5, 0, 1, 4, 1, 4, 1, 1, 3, 7, 8, 0, 3, 3, 8, 7, 9, 3, 5, 7, 2, 3, 0, 4, 6, 1, 5, 3, 7, 7, 2, 9, 8, 9, 2, 4, 7, 5, 3, 7, 2, 7, 8, 0, 7, 8, 3, 4, 7, 3, 4, 7, 8, 6, 4, 3, 8, 9, 7, 6, 7, 4, 9, 3, 7, 7, 2, 0, 9, 3, 3, 9, 3, 3, 4, 3, 3, 1, 6, 7, 4, 5, 4, 2, 3, 1, 6, 1, 2, 5, 2, 8, 0, 5, 3, 5, 3, 8, 9, 3, 2, 0, 1, 6, 0, 1, 8, 2, 8, 3, 1, 1, 0, 4, 1, 4, 7, 8, 4, 9, 1, 1, 4, 5, 0, 0, 1, 2, 8, 9, 7, 2, 8, 0, 5, 6, 4, 8, 5, 8, 6, 1, 8, 2, 6, 0, 0, 8, 3, 9, 4, 4, 9, 7, 7, 5, 2, 6, 1, 5, 9, 6, 2, 3, 6, 2, 9, 3, 4, 3, 6, 1, 1, 2, 0, 9, 1, 5, 4, 0, 0, 6, 2, 3, 5, 5, 4, 5, 4, 2, 5, 0, 2, 8, 7, 5, 7, 1, 4, 8, 3, 0, 4, 7, 6, 2, 5, 6, 2, 1, 7, 7, 0, 6, 4, 9, 8, 5, 9, 0, 1, 2, 0, 9, 2, 1, 0, 1, 2, 4, 3, 9, 7, 8, 4, 7, 8, 0, 0, 1, 6, 3, 8, 9, 9, 2, 3, 1, 7, 8, 5, 1, 4, 2, 1, 1, 9, 2, 2, 5, 9, 9, 6, 2, 5, 8, 2, 7, 9, 0, 4, 3, 5, 7, 6, 7, 2, 9, 1, 7, 3, 8, 4, 5, 2, 8, 4, 4, 3, 2, 2, 3, 3, 2, 7, 5, 7, 5, 3, 4, 3, 0, 5, 7, 1, 7, 3, 4, 4, 6, 3, 0, 4, 6, 1, 4, 4, 0, 9, 0, 8, 5, 2, 9, 6, 9, 7, 8, 0, 7, 8, 6, 0, 3, 7, 4, 3, 5, 7, 5, 4, 9, 7, 4, 7, 7, 0, 6, 0, 5, 4, 6, 6, 8, 6, 3, 5, 7, 8, 5, 2, 0, 9, 5, 7, 8, 6, 6, 6, 2, 7, 0, 5, 2, 3, 0, 9, 7, 9, 1, 8, 6, 6, 8, 1, 2, 7, 0, 2, 6, 5, 9, 5, 5, 0, 4, 3, 4, 6, 1, 5, 9, 8, 3, 2, 3, 2, 1, 5, 1, 8, 3, 8, 8, 9, 2, 7, 2, 2, 1, 8, 7, 7, 5, 5, 5, 6, 2, 7, 1, 0, 6, 9, 6, 1, 6, 8, 2, 5, 7, 6, 5, 6, 0, 3, 1, 5, 0, 2, 3, 5, 3, 0, 1, 1, 7, 6, 6, 8, 3, 6, 0, 3, 5, 5, 5, 7, 0, 4, 8, 7, 8, 2, 7, 1, 6, 8, 6, 0, 1, 5, 6, 5, 3, 8, 5, 6, 2, 4, 1, 2, 9, 0, 7, 4, 2, 9, 8, 3, 1, 0, 2, 9, 5, 4, 2, 4, 8, 8, 4, 7, 7, 9, 4, 7, 5, 0, 6, 7, 2, 9, 8, 5, 0, 8, 4, 2, 5, 5, 1, 6, 0, 9, 3, 7, 9, 0, 3, 4, 2, 7, 9, 5, 0, 4, 1, 4, 9, 3, 4, 8, 3, 8, 6, 4, 9, 0, 2, 4, 2, 8, 9, 6, 5, 9, 3, 0, 6, 7, 7, 5, 6, 6, 8, 2, 4, 9, 5, 5, 7, 5, 6, 4, 8, 0, 7, 7, 7, 1, 2, 5, 1, 3, 8, 6, 3, 9, 0, 5, 6, 2, 3, 3, 1, 4, 4, 3, 7, 0, 8, 1, 5, 2, 8, 0, 0, 2, 5, 6, 9, 2, 1, 8, 3, 9, 8, 6, 0, 0, 3, 2, 6, 2, 4, 9, 1, 1, 8, 5, 3, 6, 0, 4, 1, 2, 2, 3, 4, 0, 2, 4, 4, 2, 2, 5, 6, 3, 3, 1, 9, 7, 5, 6, 1, 6, 4, 0, 7, 6, 1, 4, 9, 6, 3, 3, 4, 0, 6, 6, 9, 0, 7, 9, 4, 8, 5, 7, 0, 9, 2, 0, 9, 0, 4, 3, 9, 8, 3, 2, 1, 0, 0, 4, 5, 5, 2, 2, 1, 8, 7, 5, 7, 4, 5, 9, 8, 9, 1, 5, 3, 6, 9, 8, 7, 9, 0, 2, 7, 3, 9, 0, 7, 1, 4, 5, 3, 3, 0, 6, 6, 4, 5, 3, 3, 2, 3, 1, 1, 1, 3, 5, 3, 1, 7, 6, 8, 7, 1, 1, 9, 8, 4, 6, 7, 4, 0, 8, 7, 7, 6, 4, 3, 8, 8, 7, 7, 3, 5, 8, 9, 3, 8, 5, 2, 0, 9, 8, 4, 8, 5, 0, 5, 6, 5, 5, 3, 8, 8, 4, 3, 3, 3, 6, 1, 7, 5, 8, 3, 9, 6, 9, 3, 3, 9, 9, 8, 1, 8, 4, 7, 5, 0, 2, 0, 0, 4, 6, 1, 6, 1, 6, 6, 7, 1, 3, 5, 8, 1, 1, 8, 8, 0, 4, 4, 0, 3, 8, 3, 3, 2, 2, 7, 4, 0, 9, 1, 3, 4, 4, 4, 3, 4, 7, 8, 5, 0, 2, 5, 1, 4, 0, 9, 2, 0, 0, 0, 4, 0, 3, 2, 9, 4, 5, 7, 0, 4, 3, 5, 9, 5, 2, 2, 6, 4, 5, 1, 8, 5, 5, 2, 0, 4, 3, 6, 7, 6, 3, 0, 8, 0, 5, 8, 8, 5, 1, 8, 2, 4, 0, 5, 3, 0, 2, 3, 8, 9, 6, 5, 8, 0, 8, 2, 2, 9, 6, 4, 9, 0, 5, 6, 6, 7, 1, 3, 4, 2, 5, 7, 6, 5, 2, 5, 5, 1, 9, 3, 3, 9, 9, 0, 1, 4, 7, 4, 4, 1, 0, 8, 9, 2, 1, 0, 0, 9, 0, 3, 0, 8, 2, 2, 8, 1, 7, 4, 8, 2, 8, 7, 5, 9, 2, 1, 4, 1, 4, 2, 5, 2, 7, 8, 1, 5, 6, 1, 5, 8, 4, 5, 6, 4, 4, 6, 1, 0, 1, 4, 9, 2, 5, 5, 3, 0, 8, 9, 0, 4, 0, 6, 7, 0, 0, 0, 8, 8, 9, 2, 0, 1, 6, 1, 0, 3, 6, 2, 5, 3, 0, 7, 3, 6, 4, 6, 5, 4, 6, 9, 2, 1, 5, 8, 5, 6, 1, 9, 7, 8, 5, 0, 8, 5, 2, 8, 1, 5, 5, 2, 1, 2, 8, 3, 0, 0, 6, 8, 5, 6, 3, 0, 3, 4, 3, 2, 1, 0, 8, 0, 4, 0, 5, 2, 3, 5, 8, 9, 4, 7, 5, 9, 0, 2, 3, 6, 2, 3, 7, 5, 4, 2, 1, 3, 4, 5, 8, 9, 9, 6, 4, 8, 2, 7, 5, 4, 6, 4, 9, 0, 5, 6, 5, 6, 2, 9, 1, 1, 9, 9, 4, 3, 7, 3, 2, 3, 0, 1, 4, 9, 7, 6, 2, 3, 2, 1, 3, 4, 9, 0, 2, 0, 9, 9, 4, 6, 3, 8, 2, 4, 2, 0, 5, 4, 7, 1, 2, 8, 1, 3, 7, 2, 9, 5, 8, 7, 3, 0, 7, 9, 4, 0, 5, 5, 0, 1, 8, 8, 8, 2, 5, 0, 3, 7, 9, 9, 0, 8, 9, 2, 2, 7, 5, 5, 1, 8, 4, 3, 7, 2, 1, 7, 2, 7, 4, 5, 3, 6, 7, 8, 3, 2, 7, 3, 6, 5, 9, 5, 8, 4, 3, 9, 5, 4, 8, 8, 9, 1, 7, 0, 9, 9, 2, 5, 4, 2, 1, 3, 4, 0, 9, 7, 6, 4, 0, 9, 4, 1, 6, 8, 4, 6, 1, 0, 9, 4, 4, 7, 3, 8, 2, 6, 9, 0, 5, 6, 9, 3, 5, 0, 4, 7, 2, 3, 1, 6, 1, 4, 8, 0, 8, 2, 7, 4, 2, 6, 8, 4, 7, 9, 0, 1, 2, 5, 2, 3, 7, 9, 8, 5, 4, 1, 5, 6, 8, 8, 7, 8, 5, 0, 0, 8, 4, 8, 5, 8, 7, 3, 5, 6, 5, 7, 7, 5, 6, 9, 1, 1, 8, 6, 3, 3, 0, 0, 8, 2, 3, 4, 1, 7, 1, 9, 6, 3, 4, 0, 9, 8, 9, 7, 3, 9, 4, 9, 9, 6, 7, 7, 1, 9, 3, 2, 5, 1, 2, 5, 6, 0, 3, 4, 7, 2, 0, 8, 7, 6, 0, 7, 4, 1, 0, 7, 8, 5, 5, 9, 9, 8, 7, 4, 5, 1, 8, 7, 4, 8, 6, 3, 2, 5, 3, 5, 6, 3, 6, 5, 3, 7, 8, 4, 2, 7, 9, 1, 4, 7, 1, 7, 2, 6, 7, 5, 6, 2, 4, 5, 5, 8, 1, 6, 0, 1, 7, 6, 9, 9, 2, 5, 6, 7, 0, 8, 6, 8, 0, 6, 0, 9, 9, 1, 6, 8, 4, 2, 7, 2, 3, 9, 4, 2, 5, 6, 7, 7, 0, 0, 8, 9, 4, 5, 1, 2, 2, 2, 7, 8, 0, 5, 6, 1, 1, 0, 8, 1, 1, 2, 3, 3, 3, 7, 5, 7, 4, 4, 0, 1, 2, 8, 3, 7, 3, 4, 8, 6, 8, 3, 8, 3, 5, 4, 4, 9, 0, 9, 6, 1, 0, 0, 2, 0, 4, 8, 1, 4, 7, 3, 5, 6, 2, 5, 2, 8, 5, 2, 4, 3, 1, 5, 1, 3, 6, 4, 3, 2, 6, 0, 7, 9, 9, 1, 0, 6, 6, 1, 2, 8, 7, 2, 8, 6, 9, 8, 7, 3, 9, 9, 1, 0, 5, 0, 9, 7, 2, 0, 8, 7, 4, 6, 9, 0, 2, 7, 5, 6, 3, 3, 6, 7, 7, 4, 7, 3, 7, 8, 1, 4, 4, 9, 6, 5, 2, 9, 0, 6, 3, 8, 7, 9, 3, 2, 4, 3, 4, 5, 5, 4, 5, 1, 5, 3, 5, 5, 0, 1, 8, 7, 4, 0, 8, 5, 5, 4, 0, 0, 0, 9, 4, 9, 4, 8, 3, 0, 8, 4, 1, 0, 4, 7, 1, 6, 0, 2, 5, 1, 8, 9, 2, 9, 0, 3, 9, 8, 9, 4, 5, 6, 8, 2, 2, 2, 6, 8, 3, 2, 2, 8, 6, 3, 7, 2, 0, 4, 2, 7, 5, 2, 6, 5, 3, 5, 2, 3, 3, 3, 0, 2, 6, 5, 7, 6, 5, 3, 7, 2, 5, 6, 1, 0, 8, 6, 1, 9, 4, 9, 6, 7, 8, 2, 6, 9, 4, 2, 9, 9, 0, 4, 9, 0, 2, 4, 4, 2, 7, 5, 7, 4, 9, 0, 3, 8, 8, 1, 4, 3, 8, 1, 3, 3, 7, 8, 3, 2, 7, 2, 2, 0, 0, 1, 4, 2, 3, 9, 9, 4, 9, 2, 1, 2, 8, 4, 5, 3, 2, 3, 0, 1, 0, 2, 4, 0, 8, 7, 0, 5, 5, 1, 0, 9, 3, 9, 3, 6, 9, 4, 7, 5, 6, 5, 2, 5, 6, 9, 1, 0, 7, 5, 3, 1, 3, 1, 7, 4, 1, 1, 5, 6, 0, 2, 9, 8, 0, 0, 4, 1, 8, 4, 4, 0, 0, 5, 2, 3, 7, 3, 1, 2, 7, 0, 0, 2, 8, 7, 6, 9, 3, 6, 5, 4, 1, 3, 7, 5, 5, 9, 9, 3, 1, 9, 6, 6, 6, 3, 3, 6, 0, 8, 5, 2, 9, 4, 7, 6, 9, 1, 5, 9, 6, 6, 3, 4, 8, 4, 9, 4, 6, 7, 4, 8, 2, 6, 3, 5, 3, 6, 1, 6, 2, 3, 2, 9, 2, 7, 3, 8, 0, 9, 9, 3, 2, 3, 7, 3, 5, 2, 9, 8, 8, 9, 2, 0, 2, 6, 7, 0, 3, 3, 9, 8, 0, 5, 6, 0, 5, 7, 6, 1, 7, 3, 6, 1, 6, 9, 4, 0, 2, 7, 8, 0, 0, 6, 2, 4, 9, 3, 0, 9, 7, 1, 0, 4, 4, 0, 1, 2, 1, 6, 8, 5, 0, 2, 2, 3, 4, 7, 5, 0, 8, 1, 2, 3, 3, 4, 8, 0, 8, 7, 4, 3, 3, 9, 9, 3, 3, 3, 7, 8, 5, 3, 2, 7, 0, 8, 8, 2, 9, 9, 3, 6, 8, 0, 4, 4, 6, 4, 3, 4, 2, 4, 6, 2, 6, 6, 7, 3, 9, 0, 7, 2, 7, 9, 3, 3, 8, 0, 6, 9, 9, 6, 5, 6, 2, 3, 9, 3, 0, 1, 8, 5, 7, 3, 9, 3, 8, 5, 0, 7, 3, 0, 1, 9, 2, 6, 1, 0, 3, 8, 2, 0, 2, 5, 0, 3, 0, 0, 7, 8, 4, 4, 3, 0, 7, 9, 2, 9, 1, 5, 8, 7, 3, 5, 9, 3, 4, 7, 2, 4, 6, 7, 6, 8, 5, 2, 5, 3, 4, 7, 2, 8, 2, 0, 8, 5, 3, 3, 9, 9, 8, 2, 2, 1, 7, 5, 9, 8, 0, 4, 7, 4, 1, 7, 2, 3, 8, 6, 5, 8, 2, 1, 8, 0, 2, 5, 3, 3, 0, 0, 7, 6, 8, 2, 9, 4, 6, 9, 5, 2, 1, 0, 9, 9, 1, 5, 3, 5, 7, 9, 8, 1, 6, 7, 1, 8, 2, 6, 0, 3, 3, 0, 1, 4, 7, 7, 1, 5, 6, 6, 7, 5, 9, 8, 2, 9, 8, 3, 1, 2, 1, 0, 0, 2, 9, 5, 5, 3, 7, 5, 7, 0, 7, 3, 2, 7, 1, 9, 8, 4, 3, 6, 1, 5, 2, 0, 6, 7, 8, 5, 8, 4, 2, 2, 0, 9, 5, 3, 3, 6, 5, 0, 7, 0, 9, 3, 4, 6, 9, 0, 0, 3, 5, 6, 4, 1, 1, 9, 3, 9, 3, 0, 5, 9, 1, 5, 3, 9, 2, 2, 1, 7, 5, 5, 3, 3, 7, 3, 9, 8, 0, 5, 9, 6, 9, 0, 3, 4, 1, 3, 4, 8, 1, 6, 9, 1, 9, 2, 6, 5, 4, 2, 0, 0, 3, 3, 8, 4, 0, 5, 9, 2, 9, 8, 3, 3, 6, 5, 3, 5, 3, 7, 5, 8, 6, 8, 1, 5, 6, 9, 4, 5, 0, 4, 7, 9, 6, 4, 3, 3, 1, 6, 7, 3, 1, 3, 0, 5, 6, 1, 7, 5, 2, 5, 8, 3, 6, 6, 6, 4, 4, 6, 7, 3, 5, 0, 8, 6, 4, 9, 7, 6, 1, 0, 8, 2, 8, 7, 3, 6, 7, 1, 7, 2, 2, 3, 0, 7, 0, 3, 8, 7, 9, 6, 2, 1, 9, 1, 8, 1, 3, 2, 7, 8, 0, 8, 5, 9, 3, 9, 3, 1, 9, 3, 7, 6, 0, 3, 5, 2, 2, 0, 9, 6, 4, 2, 0, 8, 0, 8, 0, 8, 1, 0, 6, 9, 7, 8, 1, 7, 0, 9, 6, 1, 2, 2, 9, 0, 8, 0, 0, 5, 9, 6, 4, 2, 9, 8, 5, 7, 0, 0, 7, 9, 5, 7, 8, 4, 7, 0, 2, 7, 4, 0, 2, 9, 2, 5, 5, 6, 7, 2, 7, 8, 7, 0, 0, 9, 9, 0, 2, 8, 9, 2, 4, 4, 8, 3, 4, 1, 0, 7, 8, 6, 3, 0, 8, 3, 9, 0, 8, 1, 3, 7, 3, 0, 3, 1, 6, 0, 1, 9, 5, 8, 4, 3, 9, 1, 8, 1, 5, 8, 6, 7, 8, 2, 6, 2, 2, 9, 9, 5, 7, 4, 4, 3, 8, 6, 5, 9, 0, 5, 5, 5, 2, 8, 8, 8, 9, 1, 9, 4, 4, 7, 9, 7, 4, 6, 6, 2, 1, 1, 8, 7, 3, 4, 9, 8, 6, 8, 3, 8, 8, 7, 0, 9, 7, 1, 2, 5, 9, 0, 2, 5, 3, 7, 2, 1, 7, 0, 0, 6, 0, 8, 8, 5, 5, 8, 8, 5, 9, 5, 7, 7, 1, 3, 7, 6, 0, 3, 8, 5, 8, 9, 2, 6, 7, 6, 2, 4, 7, 2, 0, 7, 4, 8, 1, 2, 7, 3, 7, 9, 0, 5, 2, 3, 9, 2, 2, 1, 3, 0, 4, 0, 7, 9, 3, 7, 4, 7, 3, 9, 7, 9, 3, 4, 7, 5, 8, 5, 9, 6, 5, 2, 4, 1, 4, 6, 1, 1, 7, 5, 4, 8, 8, 1, 1, 3, 5, 2, 5, 3, 0, 1, 2, 3, 5, 6, 0, 6, 8, 7, 7, 6, 6, 1, 2, 6, 7, 3, 9, 8, 1, 1, 4, 0, 4, 1, 2, 4, 3, 3, 6, 5, 5, 0, 2, 6, 8, 5, 6, 9, 8, 6, 5, 8, 3, 8, 2, 8, 1, 0, 2, 6, 3, 7, 4, 0, 8, 4, 1, 7, 5, 2, 8, 1, 5, 9, 6, 7, 2, 0, 7, 3, 4, 8, 1, 0, 4, 3, 2, 5, 0, 1, 0, 8, 3, 8, 4, 4, 3, 6, 7, 4, 1, 9, 3, 8, 2, 7, 4, 0, 9, 2, 1, 9, 2, 3, 1, 9, 9, 4, 0, 8, 1, 4, 4, 0, 5, 1, 5, 1, 6, 7, 4, 3, 5, 5, 2, 3, 5, 2, 2, 3, 2, 2, 0, 6, 2, 7, 0, 6, 7, 1, 2, 3, 5, 5, 2, 8, 9, 4, 5, 0, 1, 2, 2, 1, 7, 2, 7, 6, 3, 3, 7, 7, 2, 0, 8, 3, 2, 5, 9, 0, 6, 0, 8, 6, 1, 5, 9, 5, 6, 3, 0, 8, 1, 4, 8, 2, 8, 7, 0, 3, 0, 4, 0, 5, 8, 5, 5, 2, 2, 4, 8, 1, 2, 4, 3, 7, 8, 2, 7, 3, 5, 3, 1, 6, 5, 7, 5, 7, 1, 1, 7, 0, 4, 7, 3, 3, 8, 7, 9, 0, 3, 6, 8, 5, 0, 7, 7, 4, 9, 1, 0, 0, 6, 6, 6, 7, 3, 5, 0, 2, 2, 2, 9, 6, 4, 6, 4, 0, 0, 3, 1, 3, 0, 5, 9, 1, 0, 0, 6, 0, 7, 2, 8, 9, 0, 1, 7, 3, 5, 8, 5, 9, 6, 2, 3, 0, 9, 6, 7, 7, 0, 7, 4, 5, 0, 9, 4, 7, 3, 0, 1, 1, 2, 1, 8, 3, 6, 4, 6, 3, 4, 9, 2, 4, 3, 9, 1, 2, 7, 2, 5, 4, 8, 3, 8, 8, 3, 0, 8, 7, 0, 1, 1, 3, 2, 4, 9, 1, 9, 9, 6, 1, 6, 6, 1, 3, 0, 3, 5, 4, 0, 6, 4, 9, 4, 3, 0, 0, 6, 6, 0, 5, 7, 6, 2, 7, 8, 4, 2, 4, 2, 9, 0, 5, 1, 8, 2, 1, 8, 5, 1, 0, 6, 3, 0, 0, 3, 3, 2, 5, 9, 2, 9, 5, 0, 9, 9, 1, 2, 5, 2, 8, 0, 6, 4, 5, 6, 9, 3, 8, 6, 4, 0, 3, 9, 3, 2, 4, 4, 2, 0, 5, 3, 4, 2, 2, 9, 2, 5, 4, 5, 6, 3, 4, 1, 7, 8, 1, 4, 3, 7, 0, 2, 0, 7, 0, 2, 1, 3, 2, 4, 6, 9, 7, 5, 4, 3, 2, 3, 5, 8, 9, 4, 3, 8, 3, 9, 2, 6, 9, 7, 2, 3, 9, 3, 5, 1, 7, 6, 2, 8, 4, 6, 0, 7, 9, 9, 6, 8, 9, 1, 5, 8, 7, 8, 2, 5, 5, 2, 1, 1, 1, 8, 9, 1, 3, 9, 8, 2, 1, 8, 9, 3, 8, 0, 8, 6, 4, 1, 8, 0, 9, 8, 1, 1, 0, 3, 3, 7, 8, 7, 9, 0, 7, 8, 2, 1, 4, 0, 7, 5, 0, 1, 9, 9, 5, 0, 4, 0, 4, 3, 5, 4, 1, 1, 2, 7, 5, 3, 7, 9, 0, 0, 8, 9, 5, 0, 9, 0, 5, 0, 6, 3, 7, 7, 0, 5, 1, 5, 1, 8, 5, 6, 4, 4, 4, 8, 8, 9, 7, 4, 2, 3, 0, 4, 5, 8, 4, 0, 0, 1, 1, 2, 8, 8, 8, 6, 5, 4, 1, 2, 9, 2, 3, 0, 6, 9, 0, 7, 9, 0, 9, 9, 8, 4, 0, 2, 0, 2, 2, 6, 5, 6, 0, 0, 8, 0, 9, 0, 0, 0, 6, 4, 9, 3, 9, 0, 9, 5, 5, 5, 2, 2, 5, 6, 0, 8, 6, 5, 6, 4, 7, 4, 7, 4, 0, 7, 2, 2, 1, 9, 4, 3, 0, 1, 5, 4, 0, 1, 6, 8, 4, 8, 9, 4, 0, 3, 6, 8, 3, 3, 9, 4, 6, 9, 8, 9, 8, 3, 6, 8, 4, 3, 5, 9, 5, 2, 5, 9, 6, 6, 8, 9, 7, 1, 7, 6, 5, 0, 4, 9, 5, 0, 6, 8, 5, 7, 7, 3, 3, 8, 5, 0, 9, 7, 2, 3, 3, 3, 7, 3, 8, 1, 3, 7, 0, 8, 9, 5, 3, 7, 8, 9, 0, 3, 3, 2, 0, 2, 4, 0, 8, 8, 8, 6, 7, 2, 5, 4, 0, 6, 5, 9, 8, 3, 4, 6, 0, 1, 4, 8, 3, 4, 4, 6, 5, 3, 8, 8, 6, 9, 1, 7, 1, 0, 3, 6, 6, 8, 2, 8, 1, 5, 2, 0, 2, 7, 1, 7, 2, 9, 8, 8, 1, 6, 2, 6, 4, 8, 2, 9, 9, 4, 1, 4, 2, 8, 1, 3, 7, 7, 0, 6, 4, 5, 7, 6, 8, 6, 4, 2, 4, 8, 3, 2, 5, 7, 5, 7, 1, 1, 2, 7, 1, 1, 1, 6, 6, 1, 9, 9, 3, 5, 3, 8, 4, 4, 1, 5, 3, 8, 9, 5, 0, 9, 6, 5, 7, 9, 0, 6, 8, 5, 2, 5, 9, 7, 8, 5, 6, 5, 4, 9, 6, 5, 9, 7, 8, 7, 2, 2, 5, 3, 0, 7, 6, 8, 1, 6, 1, 2, 7, 3, 5, 7, 9, 4, 3, 6, 3, 5, 9, 1, 2, 9, 8, 6, 5, 4, 5, 5, 3, 2, 7, 4, 1, 1, 5, 4, 8, 0, 4, 0, 0, 9, 9, 6, 9, 2, 4, 7, 9, 5, 5, 0, 9, 5, 7, 8, 5, 0, 4, 0, 7, 2, 5, 8, 9, 9, 2, 4, 4, 0, 8, 1, 9, 0, 3, 0, 0, 1, 0, 9, 3, 3, 1, 5, 5, 7, 1, 4, 4, 0, 2, 3, 2, 1, 0, 4, 9, 5, 6, 1, 5, 4, 3, 8, 3, 0, 2, 6, 8, 4, 2, 6, 2, 5, 5, 4, 0, 2, 8, 8, 9, 9, 3, 3, 8, 0, 4, 9, 0, 7, 7, 3, 2, 2, 4, 8, 3, 2, 5, 9, 0, 5, 3, 5, 3, 0, 0, 5, 7, 8, 2, 0, 1, 9, 6, 4, 9, 0, 9, 6, 2, 0, 4, 7, 4, 6, 5, 8, 6, 5, 4, 1, 0, 1, 5, 5, 3, 6, 3, 2, 9, 4, 9, 1, 1, 6, 3, 2, 7, 8, 2, 6, 2, 4, 7, 9, 8, 3, 3, 2, 0, 4, 8, 8, 2, 0, 9, 0, 0, 0, 2, 6, 9, 0, 6, 6, 7, 6, 8, 5, 2, 9, 4, 7, 6, 0, 1, 5, 3, 3, 0, 9, 2, 2, 6, 7, 9, 2, 2, 2, 9, 4, 1, 2, 9, 6, 9, 9, 7, 4, 2, 7, 4, 5, 2, 2, 8, 8, 3, 5, 3, 9, 2, 6, 1, 0, 4, 2, 2, 3, 6, 7, 7, 6, 8, 8, 8, 4, 2, 0, 4, 6, 9, 1, 0, 3, 5, 5, 4, 8, 2, 8, 5, 0, 5, 4, 7, 8, 8, 4, 7, 7, 8, 6, 8, 1, 1, 6, 0, 6, 1, 2, 0, 1, 6, 5, 2, 4, 7, 4, 9, 9, 2, 2, 2, 8, 8, 6, 0, 2, 0, 9, 7, 5, 3, 8, 5, 4, 5, 7, 4, 7, 4, 8, 8, 5, 6, 4, 3, 3, 6, 5, 9, 6, 1, 6, 6, 3, 1, 3, 5, 6, 9, 3, 4, 6, 2, 5, 8, 3, 7, 6, 7, 3, 7, 1, 2, 1, 3, 8, 9, 4, 8, 2, 8, 3, 3, 6, 2, 5, 5, 9, 8, 4, 3, 6, 5, 3, 9, 8, 2, 3, 7, 7, 0, 2, 1, 8, 2, 9, 6, 1, 8, 4, 0, 9, 5, 6, 6, 9, 3, 0, 6, 9, 6, 6, 5, 7, 0, 1, 8, 1, 6, 8, 5, 0, 5, 7, 6, 7, 8, 6, 0, 3, 4, 0, 2, 8, 1, 2, 2, 0, 7, 5, 2, 1, 1, 0, 7, 8, 2, 1, 4, 7, 9, 5, 3, 9, 1, 8, 0, 0, 4, 4, 9, 0, 7, 7, 0, 6, 6, 6, 1, 1, 8, 4, 6, 4, 3, 0, 0, 3, 6, 3, 6, 0, 8, 9, 7, 7, 8, 1, 6, 8, 9, 7, 8, 4, 5, 3, 9, 1, 0, 0, 9, 8, 0, 7, 6, 7, 8, 1, 0, 0, 8, 9, 0, 1, 8, 5, 1, 0, 3, 4, 9, 8, 2, 5, 7, 9, 5, 9, 8, 8, 1, 8, 1, 5, 1, 8, 7, 2, 8, 7, 9, 9, 0, 8, 1, 3, 1, 4, 7, 5, 4, 8, 6, 8, 6, 6, 4, 9, 3, 8, 1, 3, 3, 8, 1, 8, 0, 0, 2, 7, 1, 4, 6, 6, 6, 1, 9, 5, 8, 5, 7, 8, 8, 4, 8, 7, 2, 3, 4, 0, 3, 5, 4, 0, 0, 0, 8, 3, 3, 0, 2, 1, 8, 3, 0, 0, 6, 6, 9, 7, 4, 8, 3, 7, 7, 5, 8, 4, 2, 9, 8, 0, 2, 3, 2, 6, 8, 2, 0, 4, 3, 9, 5, 8, 1, 6, 4, 6, 5, 4, 9, 2, 8, 4, 4, 7, 0, 2, 1, 9, 8, 4, 4, 7, 5, 0, 3, 9, 4, 4, 0, 3, 7, 1, 5, 0, 3, 1, 7, 1, 6, 6, 4, 0, 6, 8, 7, 1, 2, 5, 6, 3, 5, 3, 1, 6, 9, 2, 1, 4, 8, 6, 0, 2, 5, 7]\n"
     ]
    }
   ],
   "source": [
    "print(random_numbers)"
   ]
  },
  {
   "cell_type": "code",
   "execution_count": 52,
   "metadata": {},
   "outputs": [
    {
     "data": {
      "text/plain": [
       "10000"
      ]
     },
     "execution_count": 52,
     "metadata": {},
     "output_type": "execute_result"
    }
   ],
   "source": [
    "len(random_numbers)"
   ]
  },
  {
   "cell_type": "code",
   "execution_count": 53,
   "metadata": {},
   "outputs": [
    {
     "name": "stdout",
     "output_type": "stream",
     "text": [
      "[2]\n",
      "[2, 0]\n",
      "[2, 0, 2]\n",
      "[2, 0, 2, 9]\n",
      "[2, 0, 2, 9, 8]\n",
      "[2, 0, 2, 9, 8, 6]\n",
      "[2, 0, 2, 9, 8, 6, 4]\n",
      "[2, 0, 2, 9, 8, 6, 4, 7]\n",
      "[2, 0, 2, 9, 8, 6, 4, 7, 2]\n",
      "[2, 0, 2, 9, 8, 6, 4, 7, 2, 2]\n",
      "[2, 0, 2, 9, 8, 6, 4, 7, 2, 2, 1]\n",
      "[2, 0, 2, 9, 8, 6, 4, 7, 2, 2, 1, 6]\n",
      "[2, 0, 2, 9, 8, 6, 4, 7, 2, 2, 1, 6, 8]\n",
      "[2, 0, 2, 9, 8, 6, 4, 7, 2, 2, 1, 6, 8, 1]\n",
      "[2, 0, 2, 9, 8, 6, 4, 7, 2, 2, 1, 6, 8, 1, 5]\n",
      "[2, 0, 2, 9, 8, 6, 4, 7, 2, 2, 1, 6, 8, 1, 5, 1]\n",
      "[2, 0, 2, 9, 8, 6, 4, 7, 2, 2, 1, 6, 8, 1, 5, 1, 0]\n",
      "[2, 0, 2, 9, 8, 6, 4, 7, 2, 2, 1, 6, 8, 1, 5, 1, 0, 2]\n",
      "[2, 0, 2, 9, 8, 6, 4, 7, 2, 2, 1, 6, 8, 1, 5, 1, 0, 2, 7]\n",
      "[2, 0, 2, 9, 8, 6, 4, 7, 2, 2, 1, 6, 8, 1, 5, 1, 0, 2, 7, 2]\n",
      "[2, 0, 2, 9, 8, 6, 4, 7, 2, 2, 1, 6, 8, 1, 5, 1, 0, 2, 7, 2, 0]\n",
      "[2, 0, 2, 9, 8, 6, 4, 7, 2, 2, 1, 6, 8, 1, 5, 1, 0, 2, 7, 2, 0, 1]\n",
      "[2, 0, 2, 9, 8, 6, 4, 7, 2, 2, 1, 6, 8, 1, 5, 1, 0, 2, 7, 2, 0, 1, 2]\n",
      "[2, 0, 2, 9, 8, 6, 4, 7, 2, 2, 1, 6, 8, 1, 5, 1, 0, 2, 7, 2, 0, 1, 2, 2]\n",
      "[2, 0, 2, 9, 8, 6, 4, 7, 2, 2, 1, 6, 8, 1, 5, 1, 0, 2, 7, 2, 0, 1, 2, 2, 2]\n",
      "[2, 0, 2, 9, 8, 6, 4, 7, 2, 2, 1, 6, 8, 1, 5, 1, 0, 2, 7, 2, 0, 1, 2, 2, 2, 4]\n",
      "[2, 0, 2, 9, 8, 6, 4, 7, 2, 2, 1, 6, 8, 1, 5, 1, 0, 2, 7, 2, 0, 1, 2, 2, 2, 4, 5]\n",
      "[2, 0, 2, 9, 8, 6, 4, 7, 2, 2, 1, 6, 8, 1, 5, 1, 0, 2, 7, 2, 0, 1, 2, 2, 2, 4, 5, 0]\n",
      "[2, 0, 2, 9, 8, 6, 4, 7, 2, 2, 1, 6, 8, 1, 5, 1, 0, 2, 7, 2, 0, 1, 2, 2, 2, 4, 5, 0, 4]\n",
      "[2, 0, 2, 9, 8, 6, 4, 7, 2, 2, 1, 6, 8, 1, 5, 1, 0, 2, 7, 2, 0, 1, 2, 2, 2, 4, 5, 0, 4, 3]\n",
      "[2, 0, 2, 9, 8, 6, 4, 7, 2, 2, 1, 6, 8, 1, 5, 1, 0, 2, 7, 2, 0, 1, 2, 2, 2, 4, 5, 0, 4, 3, 0]\n",
      "[2, 0, 2, 9, 8, 6, 4, 7, 2, 2, 1, 6, 8, 1, 5, 1, 0, 2, 7, 2, 0, 1, 2, 2, 2, 4, 5, 0, 4, 3, 0, 2]\n",
      "[2, 0, 2, 9, 8, 6, 4, 7, 2, 2, 1, 6, 8, 1, 5, 1, 0, 2, 7, 2, 0, 1, 2, 2, 2, 4, 5, 0, 4, 3, 0, 2, 1]\n",
      "[2, 0, 2, 9, 8, 6, 4, 7, 2, 2, 1, 6, 8, 1, 5, 1, 0, 2, 7, 2, 0, 1, 2, 2, 2, 4, 5, 0, 4, 3, 0, 2, 1, 6]\n",
      "[2, 0, 2, 9, 8, 6, 4, 7, 2, 2, 1, 6, 8, 1, 5, 1, 0, 2, 7, 2, 0, 1, 2, 2, 2, 4, 5, 0, 4, 3, 0, 2, 1, 6, 9]\n",
      "[2, 0, 2, 9, 8, 6, 4, 7, 2, 2, 1, 6, 8, 1, 5, 1, 0, 2, 7, 2, 0, 1, 2, 2, 2, 4, 5, 0, 4, 3, 0, 2, 1, 6, 9, 2]\n",
      "[2, 0, 2, 9, 8, 6, 4, 7, 2, 2, 1, 6, 8, 1, 5, 1, 0, 2, 7, 2, 0, 1, 2, 2, 2, 4, 5, 0, 4, 3, 0, 2, 1, 6, 9, 2, 9]\n",
      "[2, 0, 2, 9, 8, 6, 4, 7, 2, 2, 1, 6, 8, 1, 5, 1, 0, 2, 7, 2, 0, 1, 2, 2, 2, 4, 5, 0, 4, 3, 0, 2, 1, 6, 9, 2, 9, 5]\n",
      "[2, 0, 2, 9, 8, 6, 4, 7, 2, 2, 1, 6, 8, 1, 5, 1, 0, 2, 7, 2, 0, 1, 2, 2, 2, 4, 5, 0, 4, 3, 0, 2, 1, 6, 9, 2, 9, 5, 2]\n",
      "[2, 0, 2, 9, 8, 6, 4, 7, 2, 2, 1, 6, 8, 1, 5, 1, 0, 2, 7, 2, 0, 1, 2, 2, 2, 4, 5, 0, 4, 3, 0, 2, 1, 6, 9, 2, 9, 5, 2, 1]\n",
      "[2, 0, 2, 9, 8, 6, 4, 7, 2, 2, 1, 6, 8, 1, 5, 1, 0, 2, 7, 2, 0, 1, 2, 2, 2, 4, 5, 0, 4, 3, 0, 2, 1, 6, 9, 2, 9, 5, 2, 1, 8]\n",
      "[2, 0, 2, 9, 8, 6, 4, 7, 2, 2, 1, 6, 8, 1, 5, 1, 0, 2, 7, 2, 0, 1, 2, 2, 2, 4, 5, 0, 4, 3, 0, 2, 1, 6, 9, 2, 9, 5, 2, 1, 8, 7]\n",
      "[2, 0, 2, 9, 8, 6, 4, 7, 2, 2, 1, 6, 8, 1, 5, 1, 0, 2, 7, 2, 0, 1, 2, 2, 2, 4, 5, 0, 4, 3, 0, 2, 1, 6, 9, 2, 9, 5, 2, 1, 8, 7, 3]\n",
      "[2, 0, 2, 9, 8, 6, 4, 7, 2, 2, 1, 6, 8, 1, 5, 1, 0, 2, 7, 2, 0, 1, 2, 2, 2, 4, 5, 0, 4, 3, 0, 2, 1, 6, 9, 2, 9, 5, 2, 1, 8, 7, 3, 8]\n",
      "[2, 0, 2, 9, 8, 6, 4, 7, 2, 2, 1, 6, 8, 1, 5, 1, 0, 2, 7, 2, 0, 1, 2, 2, 2, 4, 5, 0, 4, 3, 0, 2, 1, 6, 9, 2, 9, 5, 2, 1, 8, 7, 3, 8, 7]\n",
      "[2, 0, 2, 9, 8, 6, 4, 7, 2, 2, 1, 6, 8, 1, 5, 1, 0, 2, 7, 2, 0, 1, 2, 2, 2, 4, 5, 0, 4, 3, 0, 2, 1, 6, 9, 2, 9, 5, 2, 1, 8, 7, 3, 8, 7, 5]\n",
      "[2, 0, 2, 9, 8, 6, 4, 7, 2, 2, 1, 6, 8, 1, 5, 1, 0, 2, 7, 2, 0, 1, 2, 2, 2, 4, 5, 0, 4, 3, 0, 2, 1, 6, 9, 2, 9, 5, 2, 1, 8, 7, 3, 8, 7, 5, 8]\n",
      "[2, 0, 2, 9, 8, 6, 4, 7, 2, 2, 1, 6, 8, 1, 5, 1, 0, 2, 7, 2, 0, 1, 2, 2, 2, 4, 5, 0, 4, 3, 0, 2, 1, 6, 9, 2, 9, 5, 2, 1, 8, 7, 3, 8, 7, 5, 8, 8]\n",
      "[2, 0, 2, 9, 8, 6, 4, 7, 2, 2, 1, 6, 8, 1, 5, 1, 0, 2, 7, 2, 0, 1, 2, 2, 2, 4, 5, 0, 4, 3, 0, 2, 1, 6, 9, 2, 9, 5, 2, 1, 8, 7, 3, 8, 7, 5, 8, 8, 7]\n",
      "[2, 0, 2, 9, 8, 6, 4, 7, 2, 2, 1, 6, 8, 1, 5, 1, 0, 2, 7, 2, 0, 1, 2, 2, 2, 4, 5, 0, 4, 3, 0, 2, 1, 6, 9, 2, 9, 5, 2, 1, 8, 7, 3, 8, 7, 5, 8, 8, 7, 0]\n",
      "[2, 0, 2, 9, 8, 6, 4, 7, 2, 2, 1, 6, 8, 1, 5, 1, 0, 2, 7, 2, 0, 1, 2, 2, 2, 4, 5, 0, 4, 3, 0, 2, 1, 6, 9, 2, 9, 5, 2, 1, 8, 7, 3, 8, 7, 5, 8, 8, 7, 0, 1]\n",
      "[2, 0, 2, 9, 8, 6, 4, 7, 2, 2, 1, 6, 8, 1, 5, 1, 0, 2, 7, 2, 0, 1, 2, 2, 2, 4, 5, 0, 4, 3, 0, 2, 1, 6, 9, 2, 9, 5, 2, 1, 8, 7, 3, 8, 7, 5, 8, 8, 7, 0, 1, 5]\n",
      "[2, 0, 2, 9, 8, 6, 4, 7, 2, 2, 1, 6, 8, 1, 5, 1, 0, 2, 7, 2, 0, 1, 2, 2, 2, 4, 5, 0, 4, 3, 0, 2, 1, 6, 9, 2, 9, 5, 2, 1, 8, 7, 3, 8, 7, 5, 8, 8, 7, 0, 1, 5, 9]\n",
      "[2, 0, 2, 9, 8, 6, 4, 7, 2, 2, 1, 6, 8, 1, 5, 1, 0, 2, 7, 2, 0, 1, 2, 2, 2, 4, 5, 0, 4, 3, 0, 2, 1, 6, 9, 2, 9, 5, 2, 1, 8, 7, 3, 8, 7, 5, 8, 8, 7, 0, 1, 5, 9, 2]\n",
      "[2, 0, 2, 9, 8, 6, 4, 7, 2, 2, 1, 6, 8, 1, 5, 1, 0, 2, 7, 2, 0, 1, 2, 2, 2, 4, 5, 0, 4, 3, 0, 2, 1, 6, 9, 2, 9, 5, 2, 1, 8, 7, 3, 8, 7, 5, 8, 8, 7, 0, 1, 5, 9, 2, 9]\n",
      "[2, 0, 2, 9, 8, 6, 4, 7, 2, 2, 1, 6, 8, 1, 5, 1, 0, 2, 7, 2, 0, 1, 2, 2, 2, 4, 5, 0, 4, 3, 0, 2, 1, 6, 9, 2, 9, 5, 2, 1, 8, 7, 3, 8, 7, 5, 8, 8, 7, 0, 1, 5, 9, 2, 9, 3]\n",
      "[2, 0, 2, 9, 8, 6, 4, 7, 2, 2, 1, 6, 8, 1, 5, 1, 0, 2, 7, 2, 0, 1, 2, 2, 2, 4, 5, 0, 4, 3, 0, 2, 1, 6, 9, 2, 9, 5, 2, 1, 8, 7, 3, 8, 7, 5, 8, 8, 7, 0, 1, 5, 9, 2, 9, 3, 8]\n",
      "[2, 0, 2, 9, 8, 6, 4, 7, 2, 2, 1, 6, 8, 1, 5, 1, 0, 2, 7, 2, 0, 1, 2, 2, 2, 4, 5, 0, 4, 3, 0, 2, 1, 6, 9, 2, 9, 5, 2, 1, 8, 7, 3, 8, 7, 5, 8, 8, 7, 0, 1, 5, 9, 2, 9, 3, 8, 9]\n",
      "[2, 0, 2, 9, 8, 6, 4, 7, 2, 2, 1, 6, 8, 1, 5, 1, 0, 2, 7, 2, 0, 1, 2, 2, 2, 4, 5, 0, 4, 3, 0, 2, 1, 6, 9, 2, 9, 5, 2, 1, 8, 7, 3, 8, 7, 5, 8, 8, 7, 0, 1, 5, 9, 2, 9, 3, 8, 9, 4]\n",
      "[2, 0, 2, 9, 8, 6, 4, 7, 2, 2, 1, 6, 8, 1, 5, 1, 0, 2, 7, 2, 0, 1, 2, 2, 2, 4, 5, 0, 4, 3, 0, 2, 1, 6, 9, 2, 9, 5, 2, 1, 8, 7, 3, 8, 7, 5, 8, 8, 7, 0, 1, 5, 9, 2, 9, 3, 8, 9, 4, 4]\n",
      "[2, 0, 2, 9, 8, 6, 4, 7, 2, 2, 1, 6, 8, 1, 5, 1, 0, 2, 7, 2, 0, 1, 2, 2, 2, 4, 5, 0, 4, 3, 0, 2, 1, 6, 9, 2, 9, 5, 2, 1, 8, 7, 3, 8, 7, 5, 8, 8, 7, 0, 1, 5, 9, 2, 9, 3, 8, 9, 4, 4, 2]\n",
      "[2, 0, 2, 9, 8, 6, 4, 7, 2, 2, 1, 6, 8, 1, 5, 1, 0, 2, 7, 2, 0, 1, 2, 2, 2, 4, 5, 0, 4, 3, 0, 2, 1, 6, 9, 2, 9, 5, 2, 1, 8, 7, 3, 8, 7, 5, 8, 8, 7, 0, 1, 5, 9, 2, 9, 3, 8, 9, 4, 4, 2, 4]\n",
      "[2, 0, 2, 9, 8, 6, 4, 7, 2, 2, 1, 6, 8, 1, 5, 1, 0, 2, 7, 2, 0, 1, 2, 2, 2, 4, 5, 0, 4, 3, 0, 2, 1, 6, 9, 2, 9, 5, 2, 1, 8, 7, 3, 8, 7, 5, 8, 8, 7, 0, 1, 5, 9, 2, 9, 3, 8, 9, 4, 4, 2, 4, 2]\n",
      "[2, 0, 2, 9, 8, 6, 4, 7, 2, 2, 1, 6, 8, 1, 5, 1, 0, 2, 7, 2, 0, 1, 2, 2, 2, 4, 5, 0, 4, 3, 0, 2, 1, 6, 9, 2, 9, 5, 2, 1, 8, 7, 3, 8, 7, 5, 8, 8, 7, 0, 1, 5, 9, 2, 9, 3, 8, 9, 4, 4, 2, 4, 2, 2]\n",
      "[2, 0, 2, 9, 8, 6, 4, 7, 2, 2, 1, 6, 8, 1, 5, 1, 0, 2, 7, 2, 0, 1, 2, 2, 2, 4, 5, 0, 4, 3, 0, 2, 1, 6, 9, 2, 9, 5, 2, 1, 8, 7, 3, 8, 7, 5, 8, 8, 7, 0, 1, 5, 9, 2, 9, 3, 8, 9, 4, 4, 2, 4, 2, 2, 8]\n",
      "[2, 0, 2, 9, 8, 6, 4, 7, 2, 2, 1, 6, 8, 1, 5, 1, 0, 2, 7, 2, 0, 1, 2, 2, 2, 4, 5, 0, 4, 3, 0, 2, 1, 6, 9, 2, 9, 5, 2, 1, 8, 7, 3, 8, 7, 5, 8, 8, 7, 0, 1, 5, 9, 2, 9, 3, 8, 9, 4, 4, 2, 4, 2, 2, 8, 9]\n",
      "[2, 0, 2, 9, 8, 6, 4, 7, 2, 2, 1, 6, 8, 1, 5, 1, 0, 2, 7, 2, 0, 1, 2, 2, 2, 4, 5, 0, 4, 3, 0, 2, 1, 6, 9, 2, 9, 5, 2, 1, 8, 7, 3, 8, 7, 5, 8, 8, 7, 0, 1, 5, 9, 2, 9, 3, 8, 9, 4, 4, 2, 4, 2, 2, 8, 9, 3]\n",
      "[2, 0, 2, 9, 8, 6, 4, 7, 2, 2, 1, 6, 8, 1, 5, 1, 0, 2, 7, 2, 0, 1, 2, 2, 2, 4, 5, 0, 4, 3, 0, 2, 1, 6, 9, 2, 9, 5, 2, 1, 8, 7, 3, 8, 7, 5, 8, 8, 7, 0, 1, 5, 9, 2, 9, 3, 8, 9, 4, 4, 2, 4, 2, 2, 8, 9, 3, 5]\n",
      "[2, 0, 2, 9, 8, 6, 4, 7, 2, 2, 1, 6, 8, 1, 5, 1, 0, 2, 7, 2, 0, 1, 2, 2, 2, 4, 5, 0, 4, 3, 0, 2, 1, 6, 9, 2, 9, 5, 2, 1, 8, 7, 3, 8, 7, 5, 8, 8, 7, 0, 1, 5, 9, 2, 9, 3, 8, 9, 4, 4, 2, 4, 2, 2, 8, 9, 3, 5, 8]\n",
      "[2, 0, 2, 9, 8, 6, 4, 7, 2, 2, 1, 6, 8, 1, 5, 1, 0, 2, 7, 2, 0, 1, 2, 2, 2, 4, 5, 0, 4, 3, 0, 2, 1, 6, 9, 2, 9, 5, 2, 1, 8, 7, 3, 8, 7, 5, 8, 8, 7, 0, 1, 5, 9, 2, 9, 3, 8, 9, 4, 4, 2, 4, 2, 2, 8, 9, 3, 5, 8, 2]\n",
      "[2, 0, 2, 9, 8, 6, 4, 7, 2, 2, 1, 6, 8, 1, 5, 1, 0, 2, 7, 2, 0, 1, 2, 2, 2, 4, 5, 0, 4, 3, 0, 2, 1, 6, 9, 2, 9, 5, 2, 1, 8, 7, 3, 8, 7, 5, 8, 8, 7, 0, 1, 5, 9, 2, 9, 3, 8, 9, 4, 4, 2, 4, 2, 2, 8, 9, 3, 5, 8, 2, 4]\n",
      "[2, 0, 2, 9, 8, 6, 4, 7, 2, 2, 1, 6, 8, 1, 5, 1, 0, 2, 7, 2, 0, 1, 2, 2, 2, 4, 5, 0, 4, 3, 0, 2, 1, 6, 9, 2, 9, 5, 2, 1, 8, 7, 3, 8, 7, 5, 8, 8, 7, 0, 1, 5, 9, 2, 9, 3, 8, 9, 4, 4, 2, 4, 2, 2, 8, 9, 3, 5, 8, 2, 4, 8]\n",
      "[2, 0, 2, 9, 8, 6, 4, 7, 2, 2, 1, 6, 8, 1, 5, 1, 0, 2, 7, 2, 0, 1, 2, 2, 2, 4, 5, 0, 4, 3, 0, 2, 1, 6, 9, 2, 9, 5, 2, 1, 8, 7, 3, 8, 7, 5, 8, 8, 7, 0, 1, 5, 9, 2, 9, 3, 8, 9, 4, 4, 2, 4, 2, 2, 8, 9, 3, 5, 8, 2, 4, 8, 7]\n",
      "[2, 0, 2, 9, 8, 6, 4, 7, 2, 2, 1, 6, 8, 1, 5, 1, 0, 2, 7, 2, 0, 1, 2, 2, 2, 4, 5, 0, 4, 3, 0, 2, 1, 6, 9, 2, 9, 5, 2, 1, 8, 7, 3, 8, 7, 5, 8, 8, 7, 0, 1, 5, 9, 2, 9, 3, 8, 9, 4, 4, 2, 4, 2, 2, 8, 9, 3, 5, 8, 2, 4, 8, 7, 1]\n",
      "[2, 0, 2, 9, 8, 6, 4, 7, 2, 2, 1, 6, 8, 1, 5, 1, 0, 2, 7, 2, 0, 1, 2, 2, 2, 4, 5, 0, 4, 3, 0, 2, 1, 6, 9, 2, 9, 5, 2, 1, 8, 7, 3, 8, 7, 5, 8, 8, 7, 0, 1, 5, 9, 2, 9, 3, 8, 9, 4, 4, 2, 4, 2, 2, 8, 9, 3, 5, 8, 2, 4, 8, 7, 1, 2]\n",
      "[2, 0, 2, 9, 8, 6, 4, 7, 2, 2, 1, 6, 8, 1, 5, 1, 0, 2, 7, 2, 0, 1, 2, 2, 2, 4, 5, 0, 4, 3, 0, 2, 1, 6, 9, 2, 9, 5, 2, 1, 8, 7, 3, 8, 7, 5, 8, 8, 7, 0, 1, 5, 9, 2, 9, 3, 8, 9, 4, 4, 2, 4, 2, 2, 8, 9, 3, 5, 8, 2, 4, 8, 7, 1, 2, 3]\n",
      "[2, 0, 2, 9, 8, 6, 4, 7, 2, 2, 1, 6, 8, 1, 5, 1, 0, 2, 7, 2, 0, 1, 2, 2, 2, 4, 5, 0, 4, 3, 0, 2, 1, 6, 9, 2, 9, 5, 2, 1, 8, 7, 3, 8, 7, 5, 8, 8, 7, 0, 1, 5, 9, 2, 9, 3, 8, 9, 4, 4, 2, 4, 2, 2, 8, 9, 3, 5, 8, 2, 4, 8, 7, 1, 2, 3, 7]\n",
      "[2, 0, 2, 9, 8, 6, 4, 7, 2, 2, 1, 6, 8, 1, 5, 1, 0, 2, 7, 2, 0, 1, 2, 2, 2, 4, 5, 0, 4, 3, 0, 2, 1, 6, 9, 2, 9, 5, 2, 1, 8, 7, 3, 8, 7, 5, 8, 8, 7, 0, 1, 5, 9, 2, 9, 3, 8, 9, 4, 4, 2, 4, 2, 2, 8, 9, 3, 5, 8, 2, 4, 8, 7, 1, 2, 3, 7, 9]\n",
      "[2, 0, 2, 9, 8, 6, 4, 7, 2, 2, 1, 6, 8, 1, 5, 1, 0, 2, 7, 2, 0, 1, 2, 2, 2, 4, 5, 0, 4, 3, 0, 2, 1, 6, 9, 2, 9, 5, 2, 1, 8, 7, 3, 8, 7, 5, 8, 8, 7, 0, 1, 5, 9, 2, 9, 3, 8, 9, 4, 4, 2, 4, 2, 2, 8, 9, 3, 5, 8, 2, 4, 8, 7, 1, 2, 3, 7, 9, 9]\n",
      "[2, 0, 2, 9, 8, 6, 4, 7, 2, 2, 1, 6, 8, 1, 5, 1, 0, 2, 7, 2, 0, 1, 2, 2, 2, 4, 5, 0, 4, 3, 0, 2, 1, 6, 9, 2, 9, 5, 2, 1, 8, 7, 3, 8, 7, 5, 8, 8, 7, 0, 1, 5, 9, 2, 9, 3, 8, 9, 4, 4, 2, 4, 2, 2, 8, 9, 3, 5, 8, 2, 4, 8, 7, 1, 2, 3, 7, 9, 9, 1]\n",
      "[2, 0, 2, 9, 8, 6, 4, 7, 2, 2, 1, 6, 8, 1, 5, 1, 0, 2, 7, 2, 0, 1, 2, 2, 2, 4, 5, 0, 4, 3, 0, 2, 1, 6, 9, 2, 9, 5, 2, 1, 8, 7, 3, 8, 7, 5, 8, 8, 7, 0, 1, 5, 9, 2, 9, 3, 8, 9, 4, 4, 2, 4, 2, 2, 8, 9, 3, 5, 8, 2, 4, 8, 7, 1, 2, 3, 7, 9, 9, 1, 2]\n",
      "[2, 0, 2, 9, 8, 6, 4, 7, 2, 2, 1, 6, 8, 1, 5, 1, 0, 2, 7, 2, 0, 1, 2, 2, 2, 4, 5, 0, 4, 3, 0, 2, 1, 6, 9, 2, 9, 5, 2, 1, 8, 7, 3, 8, 7, 5, 8, 8, 7, 0, 1, 5, 9, 2, 9, 3, 8, 9, 4, 4, 2, 4, 2, 2, 8, 9, 3, 5, 8, 2, 4, 8, 7, 1, 2, 3, 7, 9, 9, 1, 2, 5]\n",
      "[2, 0, 2, 9, 8, 6, 4, 7, 2, 2, 1, 6, 8, 1, 5, 1, 0, 2, 7, 2, 0, 1, 2, 2, 2, 4, 5, 0, 4, 3, 0, 2, 1, 6, 9, 2, 9, 5, 2, 1, 8, 7, 3, 8, 7, 5, 8, 8, 7, 0, 1, 5, 9, 2, 9, 3, 8, 9, 4, 4, 2, 4, 2, 2, 8, 9, 3, 5, 8, 2, 4, 8, 7, 1, 2, 3, 7, 9, 9, 1, 2, 5, 8]\n",
      "[2, 0, 2, 9, 8, 6, 4, 7, 2, 2, 1, 6, 8, 1, 5, 1, 0, 2, 7, 2, 0, 1, 2, 2, 2, 4, 5, 0, 4, 3, 0, 2, 1, 6, 9, 2, 9, 5, 2, 1, 8, 7, 3, 8, 7, 5, 8, 8, 7, 0, 1, 5, 9, 2, 9, 3, 8, 9, 4, 4, 2, 4, 2, 2, 8, 9, 3, 5, 8, 2, 4, 8, 7, 1, 2, 3, 7, 9, 9, 1, 2, 5, 8, 0]\n",
      "[2, 0, 2, 9, 8, 6, 4, 7, 2, 2, 1, 6, 8, 1, 5, 1, 0, 2, 7, 2, 0, 1, 2, 2, 2, 4, 5, 0, 4, 3, 0, 2, 1, 6, 9, 2, 9, 5, 2, 1, 8, 7, 3, 8, 7, 5, 8, 8, 7, 0, 1, 5, 9, 2, 9, 3, 8, 9, 4, 4, 2, 4, 2, 2, 8, 9, 3, 5, 8, 2, 4, 8, 7, 1, 2, 3, 7, 9, 9, 1, 2, 5, 8, 0, 9]\n",
      "[2, 0, 2, 9, 8, 6, 4, 7, 2, 2, 1, 6, 8, 1, 5, 1, 0, 2, 7, 2, 0, 1, 2, 2, 2, 4, 5, 0, 4, 3, 0, 2, 1, 6, 9, 2, 9, 5, 2, 1, 8, 7, 3, 8, 7, 5, 8, 8, 7, 0, 1, 5, 9, 2, 9, 3, 8, 9, 4, 4, 2, 4, 2, 2, 8, 9, 3, 5, 8, 2, 4, 8, 7, 1, 2, 3, 7, 9, 9, 1, 2, 5, 8, 0, 9, 0]\n",
      "[2, 0, 2, 9, 8, 6, 4, 7, 2, 2, 1, 6, 8, 1, 5, 1, 0, 2, 7, 2, 0, 1, 2, 2, 2, 4, 5, 0, 4, 3, 0, 2, 1, 6, 9, 2, 9, 5, 2, 1, 8, 7, 3, 8, 7, 5, 8, 8, 7, 0, 1, 5, 9, 2, 9, 3, 8, 9, 4, 4, 2, 4, 2, 2, 8, 9, 3, 5, 8, 2, 4, 8, 7, 1, 2, 3, 7, 9, 9, 1, 2, 5, 8, 0, 9, 0, 2]\n",
      "[2, 0, 2, 9, 8, 6, 4, 7, 2, 2, 1, 6, 8, 1, 5, 1, 0, 2, 7, 2, 0, 1, 2, 2, 2, 4, 5, 0, 4, 3, 0, 2, 1, 6, 9, 2, 9, 5, 2, 1, 8, 7, 3, 8, 7, 5, 8, 8, 7, 0, 1, 5, 9, 2, 9, 3, 8, 9, 4, 4, 2, 4, 2, 2, 8, 9, 3, 5, 8, 2, 4, 8, 7, 1, 2, 3, 7, 9, 9, 1, 2, 5, 8, 0, 9, 0, 2, 2]\n",
      "[2, 0, 2, 9, 8, 6, 4, 7, 2, 2, 1, 6, 8, 1, 5, 1, 0, 2, 7, 2, 0, 1, 2, 2, 2, 4, 5, 0, 4, 3, 0, 2, 1, 6, 9, 2, 9, 5, 2, 1, 8, 7, 3, 8, 7, 5, 8, 8, 7, 0, 1, 5, 9, 2, 9, 3, 8, 9, 4, 4, 2, 4, 2, 2, 8, 9, 3, 5, 8, 2, 4, 8, 7, 1, 2, 3, 7, 9, 9, 1, 2, 5, 8, 0, 9, 0, 2, 2, 9]\n",
      "[2, 0, 2, 9, 8, 6, 4, 7, 2, 2, 1, 6, 8, 1, 5, 1, 0, 2, 7, 2, 0, 1, 2, 2, 2, 4, 5, 0, 4, 3, 0, 2, 1, 6, 9, 2, 9, 5, 2, 1, 8, 7, 3, 8, 7, 5, 8, 8, 7, 0, 1, 5, 9, 2, 9, 3, 8, 9, 4, 4, 2, 4, 2, 2, 8, 9, 3, 5, 8, 2, 4, 8, 7, 1, 2, 3, 7, 9, 9, 1, 2, 5, 8, 0, 9, 0, 2, 2, 9, 4]\n",
      "[2, 0, 2, 9, 8, 6, 4, 7, 2, 2, 1, 6, 8, 1, 5, 1, 0, 2, 7, 2, 0, 1, 2, 2, 2, 4, 5, 0, 4, 3, 0, 2, 1, 6, 9, 2, 9, 5, 2, 1, 8, 7, 3, 8, 7, 5, 8, 8, 7, 0, 1, 5, 9, 2, 9, 3, 8, 9, 4, 4, 2, 4, 2, 2, 8, 9, 3, 5, 8, 2, 4, 8, 7, 1, 2, 3, 7, 9, 9, 1, 2, 5, 8, 0, 9, 0, 2, 2, 9, 4, 9]\n",
      "[2, 0, 2, 9, 8, 6, 4, 7, 2, 2, 1, 6, 8, 1, 5, 1, 0, 2, 7, 2, 0, 1, 2, 2, 2, 4, 5, 0, 4, 3, 0, 2, 1, 6, 9, 2, 9, 5, 2, 1, 8, 7, 3, 8, 7, 5, 8, 8, 7, 0, 1, 5, 9, 2, 9, 3, 8, 9, 4, 4, 2, 4, 2, 2, 8, 9, 3, 5, 8, 2, 4, 8, 7, 1, 2, 3, 7, 9, 9, 1, 2, 5, 8, 0, 9, 0, 2, 2, 9, 4, 9, 3]\n",
      "[2, 0, 2, 9, 8, 6, 4, 7, 2, 2, 1, 6, 8, 1, 5, 1, 0, 2, 7, 2, 0, 1, 2, 2, 2, 4, 5, 0, 4, 3, 0, 2, 1, 6, 9, 2, 9, 5, 2, 1, 8, 7, 3, 8, 7, 5, 8, 8, 7, 0, 1, 5, 9, 2, 9, 3, 8, 9, 4, 4, 2, 4, 2, 2, 8, 9, 3, 5, 8, 2, 4, 8, 7, 1, 2, 3, 7, 9, 9, 1, 2, 5, 8, 0, 9, 0, 2, 2, 9, 4, 9, 3, 2]\n",
      "[2, 0, 2, 9, 8, 6, 4, 7, 2, 2, 1, 6, 8, 1, 5, 1, 0, 2, 7, 2, 0, 1, 2, 2, 2, 4, 5, 0, 4, 3, 0, 2, 1, 6, 9, 2, 9, 5, 2, 1, 8, 7, 3, 8, 7, 5, 8, 8, 7, 0, 1, 5, 9, 2, 9, 3, 8, 9, 4, 4, 2, 4, 2, 2, 8, 9, 3, 5, 8, 2, 4, 8, 7, 1, 2, 3, 7, 9, 9, 1, 2, 5, 8, 0, 9, 0, 2, 2, 9, 4, 9, 3, 2, 1]\n",
      "[2, 0, 2, 9, 8, 6, 4, 7, 2, 2, 1, 6, 8, 1, 5, 1, 0, 2, 7, 2, 0, 1, 2, 2, 2, 4, 5, 0, 4, 3, 0, 2, 1, 6, 9, 2, 9, 5, 2, 1, 8, 7, 3, 8, 7, 5, 8, 8, 7, 0, 1, 5, 9, 2, 9, 3, 8, 9, 4, 4, 2, 4, 2, 2, 8, 9, 3, 5, 8, 2, 4, 8, 7, 1, 2, 3, 7, 9, 9, 1, 2, 5, 8, 0, 9, 0, 2, 2, 9, 4, 9, 3, 2, 1, 3]\n",
      "[2, 0, 2, 9, 8, 6, 4, 7, 2, 2, 1, 6, 8, 1, 5, 1, 0, 2, 7, 2, 0, 1, 2, 2, 2, 4, 5, 0, 4, 3, 0, 2, 1, 6, 9, 2, 9, 5, 2, 1, 8, 7, 3, 8, 7, 5, 8, 8, 7, 0, 1, 5, 9, 2, 9, 3, 8, 9, 4, 4, 2, 4, 2, 2, 8, 9, 3, 5, 8, 2, 4, 8, 7, 1, 2, 3, 7, 9, 9, 1, 2, 5, 8, 0, 9, 0, 2, 2, 9, 4, 9, 3, 2, 1, 3, 2]\n",
      "[2, 0, 2, 9, 8, 6, 4, 7, 2, 2, 1, 6, 8, 1, 5, 1, 0, 2, 7, 2, 0, 1, 2, 2, 2, 4, 5, 0, 4, 3, 0, 2, 1, 6, 9, 2, 9, 5, 2, 1, 8, 7, 3, 8, 7, 5, 8, 8, 7, 0, 1, 5, 9, 2, 9, 3, 8, 9, 4, 4, 2, 4, 2, 2, 8, 9, 3, 5, 8, 2, 4, 8, 7, 1, 2, 3, 7, 9, 9, 1, 2, 5, 8, 0, 9, 0, 2, 2, 9, 4, 9, 3, 2, 1, 3, 2, 3]\n",
      "[2, 0, 2, 9, 8, 6, 4, 7, 2, 2, 1, 6, 8, 1, 5, 1, 0, 2, 7, 2, 0, 1, 2, 2, 2, 4, 5, 0, 4, 3, 0, 2, 1, 6, 9, 2, 9, 5, 2, 1, 8, 7, 3, 8, 7, 5, 8, 8, 7, 0, 1, 5, 9, 2, 9, 3, 8, 9, 4, 4, 2, 4, 2, 2, 8, 9, 3, 5, 8, 2, 4, 8, 7, 1, 2, 3, 7, 9, 9, 1, 2, 5, 8, 0, 9, 0, 2, 2, 9, 4, 9, 3, 2, 1, 3, 2, 3, 2]\n",
      "[2, 0, 2, 9, 8, 6, 4, 7, 2, 2, 1, 6, 8, 1, 5, 1, 0, 2, 7, 2, 0, 1, 2, 2, 2, 4, 5, 0, 4, 3, 0, 2, 1, 6, 9, 2, 9, 5, 2, 1, 8, 7, 3, 8, 7, 5, 8, 8, 7, 0, 1, 5, 9, 2, 9, 3, 8, 9, 4, 4, 2, 4, 2, 2, 8, 9, 3, 5, 8, 2, 4, 8, 7, 1, 2, 3, 7, 9, 9, 1, 2, 5, 8, 0, 9, 0, 2, 2, 9, 4, 9, 3, 2, 1, 3, 2, 3, 2, 2]\n",
      "[2, 0, 2, 9, 8, 6, 4, 7, 2, 2, 1, 6, 8, 1, 5, 1, 0, 2, 7, 2, 0, 1, 2, 2, 2, 4, 5, 0, 4, 3, 0, 2, 1, 6, 9, 2, 9, 5, 2, 1, 8, 7, 3, 8, 7, 5, 8, 8, 7, 0, 1, 5, 9, 2, 9, 3, 8, 9, 4, 4, 2, 4, 2, 2, 8, 9, 3, 5, 8, 2, 4, 8, 7, 1, 2, 3, 7, 9, 9, 1, 2, 5, 8, 0, 9, 0, 2, 2, 9, 4, 9, 3, 2, 1, 3, 2, 3, 2, 2, 3]\n"
     ]
    }
   ],
   "source": [
    "import random\n",
    "random_numbers2=[]\n",
    "for i in range(100):\n",
    "    random_numbers2.append(random.randint(0,9))\n",
    "    print(random_numbers2)"
   ]
  },
  {
   "cell_type": "code",
   "execution_count": 54,
   "metadata": {},
   "outputs": [],
   "source": [
    "counter=[]\n",
    "for x in range(0,10):\n",
    "    frecuencia = random_numbers.count(x)\n",
    "    counter.append(frecuencia)"
   ]
  },
  {
   "cell_type": "code",
   "execution_count": 55,
   "metadata": {},
   "outputs": [
    {
     "data": {
      "text/plain": [
       "[1065, 934, 1018, 981, 1005, 1042, 987, 958, 1002, 1008]"
      ]
     },
     "execution_count": 55,
     "metadata": {},
     "output_type": "execute_result"
    }
   ],
   "source": [
    "counter"
   ]
  },
  {
   "cell_type": "code",
   "execution_count": 56,
   "metadata": {},
   "outputs": [
    {
     "name": "stdout",
     "output_type": "stream",
     "text": [
      "Help on module random:\n",
      "\n",
      "NAME\n",
      "    random - Random variable generators.\n",
      "\n",
      "DESCRIPTION\n",
      "        integers\n",
      "        --------\n",
      "               uniform within range\n",
      "    \n",
      "        sequences\n",
      "        ---------\n",
      "               pick random element\n",
      "               pick random sample\n",
      "               pick weighted random sample\n",
      "               generate random permutation\n",
      "    \n",
      "        distributions on the real line:\n",
      "        ------------------------------\n",
      "               uniform\n",
      "               triangular\n",
      "               normal (Gaussian)\n",
      "               lognormal\n",
      "               negative exponential\n",
      "               gamma\n",
      "               beta\n",
      "               pareto\n",
      "               Weibull\n",
      "    \n",
      "        distributions on the circle (angles 0 to 2pi)\n",
      "        ---------------------------------------------\n",
      "               circular uniform\n",
      "               von Mises\n",
      "    \n",
      "    General notes on the underlying Mersenne Twister core generator:\n",
      "    \n",
      "    * The period is 2**19937-1.\n",
      "    * It is one of the most extensively tested generators in existence.\n",
      "    * The random() method is implemented in C, executes in a single Python step,\n",
      "      and is, therefore, threadsafe.\n",
      "\n",
      "CLASSES\n",
      "    _random.Random(builtins.object)\n",
      "        Random\n",
      "            SystemRandom\n",
      "    \n",
      "    class Random(_random.Random)\n",
      "     |  Random(x=None)\n",
      "     |  \n",
      "     |  Random number generator base class used by bound module functions.\n",
      "     |  \n",
      "     |  Used to instantiate instances of Random to get generators that don't\n",
      "     |  share state.\n",
      "     |  \n",
      "     |  Class Random can also be subclassed if you want to use a different basic\n",
      "     |  generator of your own devising: in that case, override the following\n",
      "     |  methods:  random(), seed(), getstate(), and setstate().\n",
      "     |  Optionally, implement a getrandbits() method so that randrange()\n",
      "     |  can cover arbitrarily large ranges.\n",
      "     |  \n",
      "     |  Method resolution order:\n",
      "     |      Random\n",
      "     |      _random.Random\n",
      "     |      builtins.object\n",
      "     |  \n",
      "     |  Methods defined here:\n",
      "     |  \n",
      "     |  __getstate__(self)\n",
      "     |      # Issue 17489: Since __reduce__ was defined to fix #759889 this is no\n",
      "     |      # longer called; we leave it here because it has been here since random was\n",
      "     |      # rewritten back in 2001 and why risk breaking something.\n",
      "     |  \n",
      "     |  __init__(self, x=None)\n",
      "     |      Initialize an instance.\n",
      "     |      \n",
      "     |      Optional argument x controls seeding, as for Random.seed().\n",
      "     |  \n",
      "     |  __reduce__(self)\n",
      "     |      Helper for pickle.\n",
      "     |  \n",
      "     |  __setstate__(self, state)\n",
      "     |  \n",
      "     |  betavariate(self, alpha, beta)\n",
      "     |      Beta distribution.\n",
      "     |      \n",
      "     |      Conditions on the parameters are alpha > 0 and beta > 0.\n",
      "     |      Returned values range between 0 and 1.\n",
      "     |  \n",
      "     |  choice(self, seq)\n",
      "     |      Choose a random element from a non-empty sequence.\n",
      "     |  \n",
      "     |  choices(self, population, weights=None, *, cum_weights=None, k=1)\n",
      "     |      Return a k sized list of population elements chosen with replacement.\n",
      "     |      \n",
      "     |      If the relative weights or cumulative weights are not specified,\n",
      "     |      the selections are made with equal probability.\n",
      "     |  \n",
      "     |  expovariate(self, lambd)\n",
      "     |      Exponential distribution.\n",
      "     |      \n",
      "     |      lambd is 1.0 divided by the desired mean.  It should be\n",
      "     |      nonzero.  (The parameter would be called \"lambda\", but that is\n",
      "     |      a reserved word in Python.)  Returned values range from 0 to\n",
      "     |      positive infinity if lambd is positive, and from negative\n",
      "     |      infinity to 0 if lambd is negative.\n",
      "     |  \n",
      "     |  gammavariate(self, alpha, beta)\n",
      "     |      Gamma distribution.  Not the gamma function!\n",
      "     |      \n",
      "     |      Conditions on the parameters are alpha > 0 and beta > 0.\n",
      "     |      \n",
      "     |      The probability distribution function is:\n",
      "     |      \n",
      "     |                  x ** (alpha - 1) * math.exp(-x / beta)\n",
      "     |        pdf(x) =  --------------------------------------\n",
      "     |                    math.gamma(alpha) * beta ** alpha\n",
      "     |  \n",
      "     |  gauss(self, mu, sigma)\n",
      "     |      Gaussian distribution.\n",
      "     |      \n",
      "     |      mu is the mean, and sigma is the standard deviation.  This is\n",
      "     |      slightly faster than the normalvariate() function.\n",
      "     |      \n",
      "     |      Not thread-safe without a lock around calls.\n",
      "     |  \n",
      "     |  getstate(self)\n",
      "     |      Return internal state; can be passed to setstate() later.\n",
      "     |  \n",
      "     |  lognormvariate(self, mu, sigma)\n",
      "     |      Log normal distribution.\n",
      "     |      \n",
      "     |      If you take the natural logarithm of this distribution, you'll get a\n",
      "     |      normal distribution with mean mu and standard deviation sigma.\n",
      "     |      mu can have any value, and sigma must be greater than zero.\n",
      "     |  \n",
      "     |  normalvariate(self, mu, sigma)\n",
      "     |      Normal distribution.\n",
      "     |      \n",
      "     |      mu is the mean, and sigma is the standard deviation.\n",
      "     |  \n",
      "     |  paretovariate(self, alpha)\n",
      "     |      Pareto distribution.  alpha is the shape parameter.\n",
      "     |  \n",
      "     |  randint(self, a, b)\n",
      "     |      Return random integer in range [a, b], including both end points.\n",
      "     |  \n",
      "     |  randrange(self, start, stop=None, step=1, _int=<class 'int'>)\n",
      "     |      Choose a random item from range(start, stop[, step]).\n",
      "     |      \n",
      "     |      This fixes the problem with randint() which includes the\n",
      "     |      endpoint; in Python this is usually not what you want.\n",
      "     |  \n",
      "     |  sample(self, population, k)\n",
      "     |      Chooses k unique random elements from a population sequence or set.\n",
      "     |      \n",
      "     |      Returns a new list containing elements from the population while\n",
      "     |      leaving the original population unchanged.  The resulting list is\n",
      "     |      in selection order so that all sub-slices will also be valid random\n",
      "     |      samples.  This allows raffle winners (the sample) to be partitioned\n",
      "     |      into grand prize and second place winners (the subslices).\n",
      "     |      \n",
      "     |      Members of the population need not be hashable or unique.  If the\n",
      "     |      population contains repeats, then each occurrence is a possible\n",
      "     |      selection in the sample.\n",
      "     |      \n",
      "     |      To choose a sample in a range of integers, use range as an argument.\n",
      "     |      This is especially fast and space efficient for sampling from a\n",
      "     |      large population:   sample(range(10000000), 60)\n",
      "     |  \n",
      "     |  seed(self, a=None, version=2)\n",
      "     |      Initialize internal state from hashable object.\n",
      "     |      \n",
      "     |      None or no argument seeds from current time or from an operating\n",
      "     |      system specific randomness source if available.\n",
      "     |      \n",
      "     |      If *a* is an int, all bits are used.\n",
      "     |      \n",
      "     |      For version 2 (the default), all of the bits are used if *a* is a str,\n",
      "     |      bytes, or bytearray.  For version 1 (provided for reproducing random\n",
      "     |      sequences from older versions of Python), the algorithm for str and\n",
      "     |      bytes generates a narrower range of seeds.\n",
      "     |  \n",
      "     |  setstate(self, state)\n",
      "     |      Restore internal state from object returned by getstate().\n",
      "     |  \n",
      "     |  shuffle(self, x, random=None)\n",
      "     |      Shuffle list x in place, and return None.\n",
      "     |      \n",
      "     |      Optional argument random is a 0-argument function returning a\n",
      "     |      random float in [0.0, 1.0); if it is the default None, the\n",
      "     |      standard random.random will be used.\n",
      "     |  \n",
      "     |  triangular(self, low=0.0, high=1.0, mode=None)\n",
      "     |      Triangular distribution.\n",
      "     |      \n",
      "     |      Continuous distribution bounded by given lower and upper limits,\n",
      "     |      and having a given mode value in-between.\n",
      "     |      \n",
      "     |      http://en.wikipedia.org/wiki/Triangular_distribution\n",
      "     |  \n",
      "     |  uniform(self, a, b)\n",
      "     |      Get a random number in the range [a, b) or [a, b] depending on rounding.\n",
      "     |  \n",
      "     |  vonmisesvariate(self, mu, kappa)\n",
      "     |      Circular data distribution.\n",
      "     |      \n",
      "     |      mu is the mean angle, expressed in radians between 0 and 2*pi, and\n",
      "     |      kappa is the concentration parameter, which must be greater than or\n",
      "     |      equal to zero.  If kappa is equal to zero, this distribution reduces\n",
      "     |      to a uniform random angle over the range 0 to 2*pi.\n",
      "     |  \n",
      "     |  weibullvariate(self, alpha, beta)\n",
      "     |      Weibull distribution.\n",
      "     |      \n",
      "     |      alpha is the scale parameter and beta is the shape parameter.\n",
      "     |  \n",
      "     |  ----------------------------------------------------------------------\n",
      "     |  Data descriptors defined here:\n",
      "     |  \n",
      "     |  __dict__\n",
      "     |      dictionary for instance variables (if defined)\n",
      "     |  \n",
      "     |  __weakref__\n",
      "     |      list of weak references to the object (if defined)\n",
      "     |  \n",
      "     |  ----------------------------------------------------------------------\n",
      "     |  Data and other attributes defined here:\n",
      "     |  \n",
      "     |  VERSION = 3\n",
      "     |  \n",
      "     |  ----------------------------------------------------------------------\n",
      "     |  Methods inherited from _random.Random:\n",
      "     |  \n",
      "     |  __getattribute__(self, name, /)\n",
      "     |      Return getattr(self, name).\n",
      "     |  \n",
      "     |  getrandbits(...)\n",
      "     |      getrandbits(k) -> x.  Generates an int with k random bits.\n",
      "     |  \n",
      "     |  random(...)\n",
      "     |      random() -> x in the interval [0, 1).\n",
      "     |  \n",
      "     |  ----------------------------------------------------------------------\n",
      "     |  Static methods inherited from _random.Random:\n",
      "     |  \n",
      "     |  __new__(*args, **kwargs) from builtins.type\n",
      "     |      Create and return a new object.  See help(type) for accurate signature.\n",
      "    \n",
      "    class SystemRandom(Random)\n",
      "     |  SystemRandom(x=None)\n",
      "     |  \n",
      "     |  Alternate random number generator using sources provided\n",
      "     |  by the operating system (such as /dev/urandom on Unix or\n",
      "     |  CryptGenRandom on Windows).\n",
      "     |  \n",
      "     |   Not available on all systems (see os.urandom() for details).\n",
      "     |  \n",
      "     |  Method resolution order:\n",
      "     |      SystemRandom\n",
      "     |      Random\n",
      "     |      _random.Random\n",
      "     |      builtins.object\n",
      "     |  \n",
      "     |  Methods defined here:\n",
      "     |  \n",
      "     |  getrandbits(self, k)\n",
      "     |      getrandbits(k) -> x.  Generates an int with k random bits.\n",
      "     |  \n",
      "     |  getstate = _notimplemented(self, *args, **kwds)\n",
      "     |  \n",
      "     |  random(self)\n",
      "     |      Get the next random number in the range [0.0, 1.0).\n",
      "     |  \n",
      "     |  seed(self, *args, **kwds)\n",
      "     |      Stub method.  Not used for a system random number generator.\n",
      "     |  \n",
      "     |  setstate = _notimplemented(self, *args, **kwds)\n",
      "     |  \n",
      "     |  ----------------------------------------------------------------------\n",
      "     |  Methods inherited from Random:\n",
      "     |  \n",
      "     |  __getstate__(self)\n",
      "     |      # Issue 17489: Since __reduce__ was defined to fix #759889 this is no\n",
      "     |      # longer called; we leave it here because it has been here since random was\n",
      "     |      # rewritten back in 2001 and why risk breaking something.\n",
      "     |  \n",
      "     |  __init__(self, x=None)\n",
      "     |      Initialize an instance.\n",
      "     |      \n",
      "     |      Optional argument x controls seeding, as for Random.seed().\n",
      "     |  \n",
      "     |  __reduce__(self)\n",
      "     |      Helper for pickle.\n",
      "     |  \n",
      "     |  __setstate__(self, state)\n",
      "     |  \n",
      "     |  betavariate(self, alpha, beta)\n",
      "     |      Beta distribution.\n",
      "     |      \n",
      "     |      Conditions on the parameters are alpha > 0 and beta > 0.\n",
      "     |      Returned values range between 0 and 1.\n",
      "     |  \n",
      "     |  choice(self, seq)\n",
      "     |      Choose a random element from a non-empty sequence.\n",
      "     |  \n",
      "     |  choices(self, population, weights=None, *, cum_weights=None, k=1)\n",
      "     |      Return a k sized list of population elements chosen with replacement.\n",
      "     |      \n",
      "     |      If the relative weights or cumulative weights are not specified,\n",
      "     |      the selections are made with equal probability.\n",
      "     |  \n",
      "     |  expovariate(self, lambd)\n",
      "     |      Exponential distribution.\n",
      "     |      \n",
      "     |      lambd is 1.0 divided by the desired mean.  It should be\n",
      "     |      nonzero.  (The parameter would be called \"lambda\", but that is\n",
      "     |      a reserved word in Python.)  Returned values range from 0 to\n",
      "     |      positive infinity if lambd is positive, and from negative\n",
      "     |      infinity to 0 if lambd is negative.\n",
      "     |  \n",
      "     |  gammavariate(self, alpha, beta)\n",
      "     |      Gamma distribution.  Not the gamma function!\n",
      "     |      \n",
      "     |      Conditions on the parameters are alpha > 0 and beta > 0.\n",
      "     |      \n",
      "     |      The probability distribution function is:\n",
      "     |      \n",
      "     |                  x ** (alpha - 1) * math.exp(-x / beta)\n",
      "     |        pdf(x) =  --------------------------------------\n",
      "     |                    math.gamma(alpha) * beta ** alpha\n",
      "     |  \n",
      "     |  gauss(self, mu, sigma)\n",
      "     |      Gaussian distribution.\n",
      "     |      \n",
      "     |      mu is the mean, and sigma is the standard deviation.  This is\n",
      "     |      slightly faster than the normalvariate() function.\n",
      "     |      \n",
      "     |      Not thread-safe without a lock around calls.\n",
      "     |  \n",
      "     |  lognormvariate(self, mu, sigma)\n",
      "     |      Log normal distribution.\n",
      "     |      \n",
      "     |      If you take the natural logarithm of this distribution, you'll get a\n",
      "     |      normal distribution with mean mu and standard deviation sigma.\n",
      "     |      mu can have any value, and sigma must be greater than zero.\n",
      "     |  \n",
      "     |  normalvariate(self, mu, sigma)\n",
      "     |      Normal distribution.\n",
      "     |      \n",
      "     |      mu is the mean, and sigma is the standard deviation.\n",
      "     |  \n",
      "     |  paretovariate(self, alpha)\n",
      "     |      Pareto distribution.  alpha is the shape parameter.\n",
      "     |  \n",
      "     |  randint(self, a, b)\n",
      "     |      Return random integer in range [a, b], including both end points.\n",
      "     |  \n",
      "     |  randrange(self, start, stop=None, step=1, _int=<class 'int'>)\n",
      "     |      Choose a random item from range(start, stop[, step]).\n",
      "     |      \n",
      "     |      This fixes the problem with randint() which includes the\n",
      "     |      endpoint; in Python this is usually not what you want.\n",
      "     |  \n",
      "     |  sample(self, population, k)\n",
      "     |      Chooses k unique random elements from a population sequence or set.\n",
      "     |      \n",
      "     |      Returns a new list containing elements from the population while\n",
      "     |      leaving the original population unchanged.  The resulting list is\n",
      "     |      in selection order so that all sub-slices will also be valid random\n",
      "     |      samples.  This allows raffle winners (the sample) to be partitioned\n",
      "     |      into grand prize and second place winners (the subslices).\n",
      "     |      \n",
      "     |      Members of the population need not be hashable or unique.  If the\n",
      "     |      population contains repeats, then each occurrence is a possible\n",
      "     |      selection in the sample.\n",
      "     |      \n",
      "     |      To choose a sample in a range of integers, use range as an argument.\n",
      "     |      This is especially fast and space efficient for sampling from a\n",
      "     |      large population:   sample(range(10000000), 60)\n",
      "     |  \n",
      "     |  shuffle(self, x, random=None)\n",
      "     |      Shuffle list x in place, and return None.\n",
      "     |      \n",
      "     |      Optional argument random is a 0-argument function returning a\n",
      "     |      random float in [0.0, 1.0); if it is the default None, the\n",
      "     |      standard random.random will be used.\n",
      "     |  \n",
      "     |  triangular(self, low=0.0, high=1.0, mode=None)\n",
      "     |      Triangular distribution.\n",
      "     |      \n",
      "     |      Continuous distribution bounded by given lower and upper limits,\n",
      "     |      and having a given mode value in-between.\n",
      "     |      \n",
      "     |      http://en.wikipedia.org/wiki/Triangular_distribution\n",
      "     |  \n",
      "     |  uniform(self, a, b)\n",
      "     |      Get a random number in the range [a, b) or [a, b] depending on rounding.\n",
      "     |  \n",
      "     |  vonmisesvariate(self, mu, kappa)\n",
      "     |      Circular data distribution.\n",
      "     |      \n",
      "     |      mu is the mean angle, expressed in radians between 0 and 2*pi, and\n",
      "     |      kappa is the concentration parameter, which must be greater than or\n",
      "     |      equal to zero.  If kappa is equal to zero, this distribution reduces\n",
      "     |      to a uniform random angle over the range 0 to 2*pi.\n",
      "     |  \n",
      "     |  weibullvariate(self, alpha, beta)\n",
      "     |      Weibull distribution.\n",
      "     |      \n",
      "     |      alpha is the scale parameter and beta is the shape parameter.\n",
      "     |  \n",
      "     |  ----------------------------------------------------------------------\n",
      "     |  Data descriptors inherited from Random:\n",
      "     |  \n",
      "     |  __dict__\n",
      "     |      dictionary for instance variables (if defined)\n",
      "     |  \n",
      "     |  __weakref__\n",
      "     |      list of weak references to the object (if defined)\n",
      "     |  \n",
      "     |  ----------------------------------------------------------------------\n",
      "     |  Data and other attributes inherited from Random:\n",
      "     |  \n",
      "     |  VERSION = 3\n",
      "     |  \n",
      "     |  ----------------------------------------------------------------------\n",
      "     |  Methods inherited from _random.Random:\n",
      "     |  \n",
      "     |  __getattribute__(self, name, /)\n",
      "     |      Return getattr(self, name).\n",
      "     |  \n",
      "     |  ----------------------------------------------------------------------\n",
      "     |  Static methods inherited from _random.Random:\n",
      "     |  \n",
      "     |  __new__(*args, **kwargs) from builtins.type\n",
      "     |      Create and return a new object.  See help(type) for accurate signature.\n",
      "\n",
      "FUNCTIONS\n",
      "    betavariate(alpha, beta) method of Random instance\n",
      "        Beta distribution.\n",
      "        \n",
      "        Conditions on the parameters are alpha > 0 and beta > 0.\n",
      "        Returned values range between 0 and 1.\n",
      "    \n",
      "    choice(seq) method of Random instance\n",
      "        Choose a random element from a non-empty sequence.\n",
      "    \n",
      "    choices(population, weights=None, *, cum_weights=None, k=1) method of Random instance\n",
      "        Return a k sized list of population elements chosen with replacement.\n",
      "        \n",
      "        If the relative weights or cumulative weights are not specified,\n",
      "        the selections are made with equal probability.\n",
      "    \n",
      "    expovariate(lambd) method of Random instance\n",
      "        Exponential distribution.\n",
      "        \n",
      "        lambd is 1.0 divided by the desired mean.  It should be\n",
      "        nonzero.  (The parameter would be called \"lambda\", but that is\n",
      "        a reserved word in Python.)  Returned values range from 0 to\n",
      "        positive infinity if lambd is positive, and from negative\n",
      "        infinity to 0 if lambd is negative.\n",
      "    \n",
      "    gammavariate(alpha, beta) method of Random instance\n",
      "        Gamma distribution.  Not the gamma function!\n",
      "        \n",
      "        Conditions on the parameters are alpha > 0 and beta > 0.\n",
      "        \n",
      "        The probability distribution function is:\n",
      "        \n",
      "                    x ** (alpha - 1) * math.exp(-x / beta)\n",
      "          pdf(x) =  --------------------------------------\n",
      "                      math.gamma(alpha) * beta ** alpha\n",
      "    \n",
      "    gauss(mu, sigma) method of Random instance\n",
      "        Gaussian distribution.\n",
      "        \n",
      "        mu is the mean, and sigma is the standard deviation.  This is\n",
      "        slightly faster than the normalvariate() function.\n",
      "        \n",
      "        Not thread-safe without a lock around calls.\n",
      "    \n",
      "    getrandbits(...) method of Random instance\n",
      "        getrandbits(k) -> x.  Generates an int with k random bits.\n",
      "    \n",
      "    getstate() method of Random instance\n",
      "        Return internal state; can be passed to setstate() later.\n",
      "    \n",
      "    lognormvariate(mu, sigma) method of Random instance\n",
      "        Log normal distribution.\n",
      "        \n",
      "        If you take the natural logarithm of this distribution, you'll get a\n",
      "        normal distribution with mean mu and standard deviation sigma.\n",
      "        mu can have any value, and sigma must be greater than zero.\n",
      "    \n",
      "    normalvariate(mu, sigma) method of Random instance\n",
      "        Normal distribution.\n",
      "        \n",
      "        mu is the mean, and sigma is the standard deviation.\n",
      "    \n",
      "    paretovariate(alpha) method of Random instance\n",
      "        Pareto distribution.  alpha is the shape parameter.\n",
      "    \n",
      "    randint(a, b) method of Random instance\n",
      "        Return random integer in range [a, b], including both end points.\n",
      "    \n",
      "    random(...) method of Random instance\n",
      "        random() -> x in the interval [0, 1).\n",
      "    \n",
      "    randrange(start, stop=None, step=1, _int=<class 'int'>) method of Random instance\n",
      "        Choose a random item from range(start, stop[, step]).\n",
      "        \n",
      "        This fixes the problem with randint() which includes the\n",
      "        endpoint; in Python this is usually not what you want.\n",
      "    \n",
      "    sample(population, k) method of Random instance\n",
      "        Chooses k unique random elements from a population sequence or set.\n",
      "        \n",
      "        Returns a new list containing elements from the population while\n",
      "        leaving the original population unchanged.  The resulting list is\n",
      "        in selection order so that all sub-slices will also be valid random\n",
      "        samples.  This allows raffle winners (the sample) to be partitioned\n",
      "        into grand prize and second place winners (the subslices).\n",
      "        \n",
      "        Members of the population need not be hashable or unique.  If the\n",
      "        population contains repeats, then each occurrence is a possible\n",
      "        selection in the sample.\n",
      "        \n",
      "        To choose a sample in a range of integers, use range as an argument.\n",
      "        This is especially fast and space efficient for sampling from a\n",
      "        large population:   sample(range(10000000), 60)\n",
      "    \n",
      "    seed(a=None, version=2) method of Random instance\n",
      "        Initialize internal state from hashable object.\n",
      "        \n",
      "        None or no argument seeds from current time or from an operating\n",
      "        system specific randomness source if available.\n",
      "        \n",
      "        If *a* is an int, all bits are used.\n",
      "        \n",
      "        For version 2 (the default), all of the bits are used if *a* is a str,\n",
      "        bytes, or bytearray.  For version 1 (provided for reproducing random\n",
      "        sequences from older versions of Python), the algorithm for str and\n",
      "        bytes generates a narrower range of seeds.\n",
      "    \n",
      "    setstate(state) method of Random instance\n",
      "        Restore internal state from object returned by getstate().\n",
      "    \n",
      "    shuffle(x, random=None) method of Random instance\n",
      "        Shuffle list x in place, and return None.\n",
      "        \n",
      "        Optional argument random is a 0-argument function returning a\n",
      "        random float in [0.0, 1.0); if it is the default None, the\n",
      "        standard random.random will be used.\n",
      "    \n",
      "    triangular(low=0.0, high=1.0, mode=None) method of Random instance\n",
      "        Triangular distribution.\n",
      "        \n",
      "        Continuous distribution bounded by given lower and upper limits,\n",
      "        and having a given mode value in-between.\n",
      "        \n",
      "        http://en.wikipedia.org/wiki/Triangular_distribution\n",
      "    \n",
      "    uniform(a, b) method of Random instance\n",
      "        Get a random number in the range [a, b) or [a, b] depending on rounding.\n",
      "    \n",
      "    vonmisesvariate(mu, kappa) method of Random instance\n",
      "        Circular data distribution.\n",
      "        \n",
      "        mu is the mean angle, expressed in radians between 0 and 2*pi, and\n",
      "        kappa is the concentration parameter, which must be greater than or\n",
      "        equal to zero.  If kappa is equal to zero, this distribution reduces\n",
      "        to a uniform random angle over the range 0 to 2*pi.\n",
      "    \n",
      "    weibullvariate(alpha, beta) method of Random instance\n",
      "        Weibull distribution.\n",
      "        \n",
      "        alpha is the scale parameter and beta is the shape parameter.\n",
      "\n",
      "DATA\n",
      "    __all__ = ['Random', 'seed', 'random', 'uniform', 'randint', 'choice',...\n",
      "\n",
      "FILE\n",
      "    c:\\programdata\\anaconda3\\lib\\random.py\n",
      "\n",
      "\n"
     ]
    }
   ],
   "source": [
    "help(random)"
   ]
  },
  {
   "cell_type": "code",
   "execution_count": 57,
   "metadata": {},
   "outputs": [
    {
     "name": "stdout",
     "output_type": "stream",
     "text": [
      "Help on class list in module builtins:\n",
      "\n",
      "class list(object)\n",
      " |  list(iterable=(), /)\n",
      " |  \n",
      " |  Built-in mutable sequence.\n",
      " |  \n",
      " |  If no argument is given, the constructor creates a new empty list.\n",
      " |  The argument must be an iterable if specified.\n",
      " |  \n",
      " |  Methods defined here:\n",
      " |  \n",
      " |  __add__(self, value, /)\n",
      " |      Return self+value.\n",
      " |  \n",
      " |  __contains__(self, key, /)\n",
      " |      Return key in self.\n",
      " |  \n",
      " |  __delitem__(self, key, /)\n",
      " |      Delete self[key].\n",
      " |  \n",
      " |  __eq__(self, value, /)\n",
      " |      Return self==value.\n",
      " |  \n",
      " |  __ge__(self, value, /)\n",
      " |      Return self>=value.\n",
      " |  \n",
      " |  __getattribute__(self, name, /)\n",
      " |      Return getattr(self, name).\n",
      " |  \n",
      " |  __getitem__(...)\n",
      " |      x.__getitem__(y) <==> x[y]\n",
      " |  \n",
      " |  __gt__(self, value, /)\n",
      " |      Return self>value.\n",
      " |  \n",
      " |  __iadd__(self, value, /)\n",
      " |      Implement self+=value.\n",
      " |  \n",
      " |  __imul__(self, value, /)\n",
      " |      Implement self*=value.\n",
      " |  \n",
      " |  __init__(self, /, *args, **kwargs)\n",
      " |      Initialize self.  See help(type(self)) for accurate signature.\n",
      " |  \n",
      " |  __iter__(self, /)\n",
      " |      Implement iter(self).\n",
      " |  \n",
      " |  __le__(self, value, /)\n",
      " |      Return self<=value.\n",
      " |  \n",
      " |  __len__(self, /)\n",
      " |      Return len(self).\n",
      " |  \n",
      " |  __lt__(self, value, /)\n",
      " |      Return self<value.\n",
      " |  \n",
      " |  __mul__(self, value, /)\n",
      " |      Return self*value.\n",
      " |  \n",
      " |  __ne__(self, value, /)\n",
      " |      Return self!=value.\n",
      " |  \n",
      " |  __repr__(self, /)\n",
      " |      Return repr(self).\n",
      " |  \n",
      " |  __reversed__(self, /)\n",
      " |      Return a reverse iterator over the list.\n",
      " |  \n",
      " |  __rmul__(self, value, /)\n",
      " |      Return value*self.\n",
      " |  \n",
      " |  __setitem__(self, key, value, /)\n",
      " |      Set self[key] to value.\n",
      " |  \n",
      " |  __sizeof__(self, /)\n",
      " |      Return the size of the list in memory, in bytes.\n",
      " |  \n",
      " |  append(self, object, /)\n",
      " |      Append object to the end of the list.\n",
      " |  \n",
      " |  clear(self, /)\n",
      " |      Remove all items from list.\n",
      " |  \n",
      " |  copy(self, /)\n",
      " |      Return a shallow copy of the list.\n",
      " |  \n",
      " |  count(self, value, /)\n",
      " |      Return number of occurrences of value.\n",
      " |  \n",
      " |  extend(self, iterable, /)\n",
      " |      Extend list by appending elements from the iterable.\n",
      " |  \n",
      " |  index(self, value, start=0, stop=9223372036854775807, /)\n",
      " |      Return first index of value.\n",
      " |      \n",
      " |      Raises ValueError if the value is not present.\n",
      " |  \n",
      " |  insert(self, index, object, /)\n",
      " |      Insert object before index.\n",
      " |  \n",
      " |  pop(self, index=-1, /)\n",
      " |      Remove and return item at index (default last).\n",
      " |      \n",
      " |      Raises IndexError if list is empty or index is out of range.\n",
      " |  \n",
      " |  remove(self, value, /)\n",
      " |      Remove first occurrence of value.\n",
      " |      \n",
      " |      Raises ValueError if the value is not present.\n",
      " |  \n",
      " |  reverse(self, /)\n",
      " |      Reverse *IN PLACE*.\n",
      " |  \n",
      " |  sort(self, /, *, key=None, reverse=False)\n",
      " |      Stable sort *IN PLACE*.\n",
      " |  \n",
      " |  ----------------------------------------------------------------------\n",
      " |  Static methods defined here:\n",
      " |  \n",
      " |  __new__(*args, **kwargs) from builtins.type\n",
      " |      Create and return a new object.  See help(type) for accurate signature.\n",
      " |  \n",
      " |  ----------------------------------------------------------------------\n",
      " |  Data and other attributes defined here:\n",
      " |  \n",
      " |  __hash__ = None\n",
      "\n"
     ]
    }
   ],
   "source": [
    "help(list)"
   ]
  },
  {
   "cell_type": "code",
   "execution_count": 58,
   "metadata": {},
   "outputs": [
    {
     "data": {
      "text/plain": [
       "6"
      ]
     },
     "execution_count": 58,
     "metadata": {},
     "output_type": "execute_result"
    }
   ],
   "source": [
    "random.randint(3,6)"
   ]
  },
  {
   "cell_type": "markdown",
   "metadata": {},
   "source": [
    "# Variables de listas"
   ]
  },
  {
   "cell_type": "code",
   "execution_count": 59,
   "metadata": {},
   "outputs": [],
   "source": [
    "l1 = [1,2,3,4]"
   ]
  },
  {
   "cell_type": "code",
   "execution_count": 60,
   "metadata": {},
   "outputs": [
    {
     "data": {
      "text/plain": [
       "[1, 2, 3, 4]"
      ]
     },
     "execution_count": 60,
     "metadata": {},
     "output_type": "execute_result"
    }
   ],
   "source": [
    "l1"
   ]
  },
  {
   "cell_type": "code",
   "execution_count": 61,
   "metadata": {},
   "outputs": [],
   "source": [
    "l2 = l1"
   ]
  },
  {
   "cell_type": "code",
   "execution_count": 62,
   "metadata": {},
   "outputs": [
    {
     "data": {
      "text/plain": [
       "[1, 2, 3, 4]"
      ]
     },
     "execution_count": 62,
     "metadata": {},
     "output_type": "execute_result"
    }
   ],
   "source": [
    "l2"
   ]
  },
  {
   "cell_type": "code",
   "execution_count": 63,
   "metadata": {},
   "outputs": [],
   "source": [
    "l2[0] = 100"
   ]
  },
  {
   "cell_type": "code",
   "execution_count": 64,
   "metadata": {},
   "outputs": [
    {
     "data": {
      "text/plain": [
       "[100, 2, 3, 4]"
      ]
     },
     "execution_count": 64,
     "metadata": {},
     "output_type": "execute_result"
    }
   ],
   "source": [
    "l2"
   ]
  },
  {
   "cell_type": "code",
   "execution_count": 65,
   "metadata": {},
   "outputs": [
    {
     "data": {
      "text/plain": [
       "[100, 2, 3, 4]"
      ]
     },
     "execution_count": 65,
     "metadata": {},
     "output_type": "execute_result"
    }
   ],
   "source": [
    "l1"
   ]
  },
  {
   "cell_type": "code",
   "execution_count": 66,
   "metadata": {},
   "outputs": [
    {
     "data": {
      "text/plain": [
       "True"
      ]
     },
     "execution_count": 66,
     "metadata": {},
     "output_type": "execute_result"
    }
   ],
   "source": [
    "l1 == l2"
   ]
  },
  {
   "cell_type": "code",
   "execution_count": 67,
   "metadata": {},
   "outputs": [
    {
     "data": {
      "text/plain": [
       "2363549942792"
      ]
     },
     "execution_count": 67,
     "metadata": {},
     "output_type": "execute_result"
    }
   ],
   "source": [
    "id(l1)"
   ]
  },
  {
   "cell_type": "code",
   "execution_count": 68,
   "metadata": {},
   "outputs": [
    {
     "data": {
      "text/plain": [
       "2363549942792"
      ]
     },
     "execution_count": 68,
     "metadata": {},
     "output_type": "execute_result"
    }
   ],
   "source": [
    "id(l2)"
   ]
  },
  {
   "cell_type": "code",
   "execution_count": 69,
   "metadata": {},
   "outputs": [],
   "source": [
    "l3 = [1,2,3,4]\n",
    "l4 = [1,2,3,4]"
   ]
  },
  {
   "cell_type": "code",
   "execution_count": 70,
   "metadata": {},
   "outputs": [
    {
     "data": {
      "text/plain": [
       "True"
      ]
     },
     "execution_count": 70,
     "metadata": {},
     "output_type": "execute_result"
    }
   ],
   "source": [
    "l3 == l4"
   ]
  },
  {
   "cell_type": "code",
   "execution_count": 71,
   "metadata": {},
   "outputs": [
    {
     "data": {
      "text/plain": [
       "False"
      ]
     },
     "execution_count": 71,
     "metadata": {},
     "output_type": "execute_result"
    }
   ],
   "source": [
    "id(l3) == id(l4)"
   ]
  },
  {
   "cell_type": "code",
   "execution_count": 72,
   "metadata": {},
   "outputs": [
    {
     "data": {
      "text/plain": [
       "2363549811528"
      ]
     },
     "execution_count": 72,
     "metadata": {},
     "output_type": "execute_result"
    }
   ],
   "source": [
    "id(l3)"
   ]
  },
  {
   "cell_type": "code",
   "execution_count": 73,
   "metadata": {},
   "outputs": [],
   "source": [
    "l3[0] = 100"
   ]
  },
  {
   "cell_type": "code",
   "execution_count": 74,
   "metadata": {},
   "outputs": [
    {
     "data": {
      "text/plain": [
       "2363549811528"
      ]
     },
     "execution_count": 74,
     "metadata": {},
     "output_type": "execute_result"
    }
   ],
   "source": [
    "id(l3)"
   ]
  },
  {
   "cell_type": "markdown",
   "metadata": {},
   "source": [
    "### Modificar listas"
   ]
  },
  {
   "cell_type": "code",
   "execution_count": 85,
   "metadata": {},
   "outputs": [],
   "source": [
    "lenguajes = ['C',\"C++\",'Python',\"Java\"]"
   ]
  },
  {
   "cell_type": "code",
   "execution_count": 86,
   "metadata": {},
   "outputs": [
    {
     "data": {
      "text/plain": [
       "['C', 'C++', 'Python', 'Java', 'Scheme']"
      ]
     },
     "execution_count": 86,
     "metadata": {},
     "output_type": "execute_result"
    }
   ],
   "source": [
    "lenguajes.append(\"Scheme\")\n",
    "lenguajes"
   ]
  },
  {
   "cell_type": "code",
   "execution_count": 87,
   "metadata": {},
   "outputs": [],
   "source": [
    "lenguajes2 = [\"Julia\", \"Pascal\", \"FORTRAN\"]"
   ]
  },
  {
   "cell_type": "code",
   "execution_count": 88,
   "metadata": {},
   "outputs": [
    {
     "data": {
      "text/plain": [
       "['C', 'C++', 'Python', 'Java', 'Scheme', 'Julia', 'Pascal', 'FORTRAN']"
      ]
     },
     "execution_count": 88,
     "metadata": {},
     "output_type": "execute_result"
    }
   ],
   "source": [
    "lenguajes + lenguajes2"
   ]
  },
  {
   "cell_type": "code",
   "execution_count": 90,
   "metadata": {},
   "outputs": [
    {
     "data": {
      "text/plain": [
       "[3, 4, 5, 6, 7, 8, 9, 10]"
      ]
     },
     "execution_count": 90,
     "metadata": {},
     "output_type": "execute_result"
    }
   ],
   "source": [
    "enteros1 = [3,4,5,6]\n",
    "enteros2 = [7,8,9,10]\n",
    "enteros1 + enteros2"
   ]
  },
  {
   "cell_type": "code",
   "execution_count": 93,
   "metadata": {},
   "outputs": [
    {
     "data": {
      "text/plain": [
       "10"
      ]
     },
     "execution_count": 93,
     "metadata": {},
     "output_type": "execute_result"
    }
   ],
   "source": [
    "enteros1[0]+enteros2[0]"
   ]
  },
  {
   "cell_type": "code",
   "execution_count": 94,
   "metadata": {},
   "outputs": [],
   "source": [
    "lenguajes.extend(lenguajes2)"
   ]
  },
  {
   "cell_type": "code",
   "execution_count": 95,
   "metadata": {},
   "outputs": [
    {
     "data": {
      "text/plain": [
       "['C', 'C++', 'Python', 'Java', 'Scheme', 'Julia', 'Pascal', 'FORTRAN']"
      ]
     },
     "execution_count": 95,
     "metadata": {},
     "output_type": "execute_result"
    }
   ],
   "source": [
    "lenguajes"
   ]
  },
  {
   "cell_type": "code",
   "execution_count": 96,
   "metadata": {},
   "outputs": [
    {
     "data": {
      "text/plain": [
       "['C', 'C++', 'Python', 'Java', 'Scheme', 'Julia', 'Pascal', 'FORTRAN']"
      ]
     },
     "execution_count": 96,
     "metadata": {},
     "output_type": "execute_result"
    }
   ],
   "source": [
    "lenguajes"
   ]
  },
  {
   "cell_type": "code",
   "execution_count": 97,
   "metadata": {},
   "outputs": [
    {
     "data": {
      "text/plain": [
       "['C', 'C++', 'Stata', 'Python', 'Java', 'Scheme', 'Julia', 'Pascal', 'FORTRAN']"
      ]
     },
     "execution_count": 97,
     "metadata": {},
     "output_type": "execute_result"
    }
   ],
   "source": [
    "lenguajes.insert(2, \"Stata\")\n",
    "lenguajes"
   ]
  },
  {
   "cell_type": "code",
   "execution_count": 98,
   "metadata": {},
   "outputs": [
    {
     "data": {
      "text/plain": [
       "['C', 'C++', 'Stata', 'Python', 'Java', 'Scheme', 'Julia', 'Pascal']"
      ]
     },
     "execution_count": 98,
     "metadata": {},
     "output_type": "execute_result"
    }
   ],
   "source": [
    "lenguajes.pop()\n",
    "lenguajes"
   ]
  },
  {
   "cell_type": "markdown",
   "metadata": {},
   "source": [
    "### Construir listas"
   ]
  },
  {
   "cell_type": "code",
   "execution_count": 99,
   "metadata": {},
   "outputs": [],
   "source": [
    "precios = [100.0, 59.99, 7.00, 15.00]"
   ]
  },
  {
   "cell_type": "code",
   "execution_count": 100,
   "metadata": {},
   "outputs": [],
   "source": [
    "precios_con_descuento=[]"
   ]
  },
  {
   "cell_type": "code",
   "execution_count": 101,
   "metadata": {},
   "outputs": [],
   "source": [
    "for precio in precios:\n",
    "    nuevo_precio = precio * 0.9 \n",
    "    precios_con_descuento.append(nuevo_precio)"
   ]
  },
  {
   "cell_type": "code",
   "execution_count": 102,
   "metadata": {},
   "outputs": [
    {
     "data": {
      "text/plain": [
       "[90.0, 53.991, 6.3, 13.5]"
      ]
     },
     "execution_count": 102,
     "metadata": {},
     "output_type": "execute_result"
    }
   ],
   "source": [
    "precios_con_descuento"
   ]
  },
  {
   "cell_type": "code",
   "execution_count": 103,
   "metadata": {},
   "outputs": [
    {
     "data": {
      "text/plain": [
       "13.5"
      ]
     },
     "execution_count": 103,
     "metadata": {},
     "output_type": "execute_result"
    }
   ],
   "source": [
    "for precio in precios:\n",
    "    precios_con_descuento = precio * 0.9 \n",
    "precios_con_descuento # Ojo! esto remplaza la variable precios_con_descuento de tipo lista "
   ]
  },
  {
   "cell_type": "code",
   "execution_count": 108,
   "metadata": {},
   "outputs": [
    {
     "data": {
      "text/plain": [
       "[0, 0, 0, 0, 0, 0, 0, 0, 0, 0, 0, 0, 0, 0, 0, 0, 0]"
      ]
     },
     "execution_count": 108,
     "metadata": {},
     "output_type": "execute_result"
    }
   ],
   "source": [
    "ceros=[0]*17\n",
    "ceros"
   ]
  },
  {
   "cell_type": "code",
   "execution_count": 109,
   "metadata": {},
   "outputs": [
    {
     "data": {
      "text/plain": [
       "17"
      ]
     },
     "execution_count": 109,
     "metadata": {},
     "output_type": "execute_result"
    }
   ],
   "source": [
    "len(ceros)"
   ]
  },
  {
   "cell_type": "markdown",
   "metadata": {},
   "source": [
    "### Listas de listas"
   ]
  },
  {
   "cell_type": "code",
   "execution_count": 110,
   "metadata": {},
   "outputs": [],
   "source": [
    "m = [[1,2,3],[4,5,6],[7,8,9]]"
   ]
  },
  {
   "cell_type": "code",
   "execution_count": 111,
   "metadata": {},
   "outputs": [
    {
     "name": "stdout",
     "output_type": "stream",
     "text": [
      "[1, 2, 3]\n",
      "[4, 5, 6]\n",
      "[7, 8, 9]\n"
     ]
    }
   ],
   "source": [
    "for row in m:\n",
    "    print(row)"
   ]
  },
  {
   "cell_type": "code",
   "execution_count": 112,
   "metadata": {},
   "outputs": [
    {
     "data": {
      "text/plain": [
       "3"
      ]
     },
     "execution_count": 112,
     "metadata": {},
     "output_type": "execute_result"
    }
   ],
   "source": [
    "m[0][2]"
   ]
  },
  {
   "cell_type": "code",
   "execution_count": 113,
   "metadata": {},
   "outputs": [
    {
     "data": {
      "text/plain": [
       "[[1, 2, 300], [4, 5, 6], [7, 8, 9]]"
      ]
     },
     "execution_count": 113,
     "metadata": {},
     "output_type": "execute_result"
    }
   ],
   "source": [
    "m[0][2] = 300\n",
    "m"
   ]
  },
  {
   "cell_type": "code",
   "execution_count": 114,
   "metadata": {},
   "outputs": [
    {
     "data": {
      "text/plain": [
       "[1, 2, 300]"
      ]
     },
     "execution_count": 114,
     "metadata": {},
     "output_type": "execute_result"
    }
   ],
   "source": [
    "m[0]"
   ]
  },
  {
   "cell_type": "code",
   "execution_count": 115,
   "metadata": {},
   "outputs": [
    {
     "data": {
      "text/plain": [
       "[[1, 2, 300, 400], [4, 5, 6], [7, 8, 9]]"
      ]
     },
     "execution_count": 115,
     "metadata": {},
     "output_type": "execute_result"
    }
   ],
   "source": [
    "m[0].append(400)\n",
    "m"
   ]
  },
  {
   "cell_type": "markdown",
   "metadata": {},
   "source": [
    "### Algunas funciones y métodos útiles para las listas:"
   ]
  },
  {
   "cell_type": "code",
   "execution_count": 116,
   "metadata": {},
   "outputs": [
    {
     "data": {
      "text/plain": [
       "8"
      ]
     },
     "execution_count": 116,
     "metadata": {},
     "output_type": "execute_result"
    }
   ],
   "source": [
    "len(lenguajes)"
   ]
  },
  {
   "cell_type": "code",
   "execution_count": 117,
   "metadata": {},
   "outputs": [
    {
     "data": {
      "text/plain": [
       "[3, 187, 1232, 53, 21398]"
      ]
     },
     "execution_count": 117,
     "metadata": {},
     "output_type": "execute_result"
    }
   ],
   "source": [
    "enteros"
   ]
  },
  {
   "cell_type": "code",
   "execution_count": 118,
   "metadata": {},
   "outputs": [
    {
     "data": {
      "text/plain": [
       "21398"
      ]
     },
     "execution_count": 118,
     "metadata": {},
     "output_type": "execute_result"
    }
   ],
   "source": [
    "max(enteros)"
   ]
  },
  {
   "cell_type": "code",
   "execution_count": 119,
   "metadata": {},
   "outputs": [
    {
     "data": {
      "text/plain": [
       "3"
      ]
     },
     "execution_count": 119,
     "metadata": {},
     "output_type": "execute_result"
    }
   ],
   "source": [
    "min(enteros)"
   ]
  },
  {
   "cell_type": "code",
   "execution_count": 120,
   "metadata": {},
   "outputs": [
    {
     "data": {
      "text/plain": [
       "['C', 'C++', 'Stata', 'Python', 'Java', 'Scheme', 'Julia', 'Pascal']"
      ]
     },
     "execution_count": 120,
     "metadata": {},
     "output_type": "execute_result"
    }
   ],
   "source": [
    "lenguajes"
   ]
  },
  {
   "cell_type": "code",
   "execution_count": 121,
   "metadata": {},
   "outputs": [
    {
     "data": {
      "text/plain": [
       "'Stata'"
      ]
     },
     "execution_count": 121,
     "metadata": {},
     "output_type": "execute_result"
    }
   ],
   "source": [
    "max(lenguajes)"
   ]
  },
  {
   "cell_type": "code",
   "execution_count": 122,
   "metadata": {},
   "outputs": [
    {
     "data": {
      "text/plain": [
       "'C'"
      ]
     },
     "execution_count": 122,
     "metadata": {},
     "output_type": "execute_result"
    }
   ],
   "source": [
    "min(lenguajes)"
   ]
  },
  {
   "cell_type": "code",
   "execution_count": 123,
   "metadata": {},
   "outputs": [
    {
     "data": {
      "text/plain": [
       "1"
      ]
     },
     "execution_count": 123,
     "metadata": {},
     "output_type": "execute_result"
    }
   ],
   "source": [
    "lenguajes.count(\"Java\")"
   ]
  },
  {
   "cell_type": "code",
   "execution_count": 124,
   "metadata": {},
   "outputs": [],
   "source": [
    "lenguajes.reverse()"
   ]
  },
  {
   "cell_type": "code",
   "execution_count": 125,
   "metadata": {},
   "outputs": [
    {
     "data": {
      "text/plain": [
       "['Pascal', 'Julia', 'Scheme', 'Java', 'Python', 'Stata', 'C++', 'C']"
      ]
     },
     "execution_count": 125,
     "metadata": {},
     "output_type": "execute_result"
    }
   ],
   "source": [
    "lenguajes"
   ]
  },
  {
   "cell_type": "code",
   "execution_count": 126,
   "metadata": {},
   "outputs": [
    {
     "data": {
      "text/plain": [
       "['C', 'C++', 'Java', 'Julia', 'Pascal', 'Python', 'Scheme', 'Stata']"
      ]
     },
     "execution_count": 126,
     "metadata": {},
     "output_type": "execute_result"
    }
   ],
   "source": [
    "sorted(lenguajes)"
   ]
  },
  {
   "cell_type": "code",
   "execution_count": 127,
   "metadata": {},
   "outputs": [
    {
     "data": {
      "text/plain": [
       "[3, 53, 187, 1232, 21398]"
      ]
     },
     "execution_count": 127,
     "metadata": {},
     "output_type": "execute_result"
    }
   ],
   "source": [
    "sorted(enteros)"
   ]
  },
  {
   "cell_type": "code",
   "execution_count": 128,
   "metadata": {},
   "outputs": [],
   "source": [
    "lenguajes.sort()"
   ]
  },
  {
   "cell_type": "code",
   "execution_count": 129,
   "metadata": {},
   "outputs": [
    {
     "data": {
      "text/plain": [
       "['C', 'C++', 'Java', 'Julia', 'Pascal', 'Python', 'Scheme', 'Stata']"
      ]
     },
     "execution_count": 129,
     "metadata": {},
     "output_type": "execute_result"
    }
   ],
   "source": [
    "lenguajes"
   ]
  },
  {
   "cell_type": "code",
   "execution_count": 130,
   "metadata": {},
   "outputs": [
    {
     "data": {
      "text/plain": [
       "2"
      ]
     },
     "execution_count": 130,
     "metadata": {},
     "output_type": "execute_result"
    }
   ],
   "source": [
    "lenguajes.index(\"Java\")"
   ]
  },
  {
   "cell_type": "markdown",
   "metadata": {},
   "source": [
    "### Tuplas ()"
   ]
  },
  {
   "cell_type": "code",
   "execution_count": 131,
   "metadata": {},
   "outputs": [],
   "source": [
    "tpl = (1,100,\"asdf\")"
   ]
  },
  {
   "cell_type": "code",
   "execution_count": 132,
   "metadata": {},
   "outputs": [
    {
     "data": {
      "text/plain": [
       "(1, 100, 'asdf')"
      ]
     },
     "execution_count": 132,
     "metadata": {},
     "output_type": "execute_result"
    }
   ],
   "source": [
    "tpl"
   ]
  },
  {
   "cell_type": "code",
   "execution_count": 133,
   "metadata": {},
   "outputs": [
    {
     "data": {
      "text/plain": [
       "tuple"
      ]
     },
     "execution_count": 133,
     "metadata": {},
     "output_type": "execute_result"
    }
   ],
   "source": [
    "type(tpl)"
   ]
  },
  {
   "cell_type": "code",
   "execution_count": 134,
   "metadata": {},
   "outputs": [
    {
     "data": {
      "text/plain": [
       "1"
      ]
     },
     "execution_count": 134,
     "metadata": {},
     "output_type": "execute_result"
    }
   ],
   "source": [
    "tpl[0]"
   ]
  },
  {
   "cell_type": "code",
   "execution_count": 135,
   "metadata": {},
   "outputs": [
    {
     "ename": "TypeError",
     "evalue": "'tuple' object does not support item assignment",
     "output_type": "error",
     "traceback": [
      "\u001b[1;31m---------------------------------------------------------------------------\u001b[0m",
      "\u001b[1;31mTypeError\u001b[0m                                 Traceback (most recent call last)",
      "\u001b[1;32m<ipython-input-135-8f22bef24e5a>\u001b[0m in \u001b[0;36m<module>\u001b[1;34m\u001b[0m\n\u001b[1;32m----> 1\u001b[1;33m \u001b[0mtpl\u001b[0m\u001b[1;33m[\u001b[0m\u001b[1;36m0\u001b[0m\u001b[1;33m]\u001b[0m \u001b[1;33m=\u001b[0m \u001b[1;36m134\u001b[0m\u001b[1;33m\u001b[0m\u001b[1;33m\u001b[0m\u001b[0m\n\u001b[0m",
      "\u001b[1;31mTypeError\u001b[0m: 'tuple' object does not support item assignment"
     ]
    }
   ],
   "source": [
    "tpl[0] = 134"
   ]
  },
  {
   "cell_type": "code",
   "execution_count": 136,
   "metadata": {},
   "outputs": [
    {
     "data": {
      "text/plain": [
       "[1, 100, 'asdf']"
      ]
     },
     "execution_count": 136,
     "metadata": {},
     "output_type": "execute_result"
    }
   ],
   "source": [
    "list(tpl) # Convertir una tupla en lista"
   ]
  },
  {
   "cell_type": "markdown",
   "metadata": {},
   "source": [
    "### Strings"
   ]
  },
  {
   "cell_type": "code",
   "execution_count": 137,
   "metadata": {},
   "outputs": [],
   "source": [
    "nombre = 'Daniel Rojas'"
   ]
  },
  {
   "cell_type": "code",
   "execution_count": 138,
   "metadata": {},
   "outputs": [
    {
     "data": {
      "text/plain": [
       "12"
      ]
     },
     "execution_count": 138,
     "metadata": {},
     "output_type": "execute_result"
    }
   ],
   "source": [
    "len(nombre)"
   ]
  },
  {
   "cell_type": "code",
   "execution_count": 139,
   "metadata": {},
   "outputs": [
    {
     "ename": "IndexError",
     "evalue": "string index out of range",
     "output_type": "error",
     "traceback": [
      "\u001b[1;31m---------------------------------------------------------------------------\u001b[0m",
      "\u001b[1;31mIndexError\u001b[0m                                Traceback (most recent call last)",
      "\u001b[1;32m<ipython-input-139-b79c8159655a>\u001b[0m in \u001b[0;36m<module>\u001b[1;34m\u001b[0m\n\u001b[1;32m----> 1\u001b[1;33m \u001b[0mnombre\u001b[0m\u001b[1;33m[\u001b[0m\u001b[1;36m15\u001b[0m\u001b[1;33m]\u001b[0m\u001b[1;33m\u001b[0m\u001b[1;33m\u001b[0m\u001b[0m\n\u001b[0m",
      "\u001b[1;31mIndexError\u001b[0m: string index out of range"
     ]
    }
   ],
   "source": [
    "nombre[15]"
   ]
  },
  {
   "cell_type": "code",
   "execution_count": 140,
   "metadata": {},
   "outputs": [
    {
     "ename": "IndexError",
     "evalue": "string index out of range",
     "output_type": "error",
     "traceback": [
      "\u001b[1;31m---------------------------------------------------------------------------\u001b[0m",
      "\u001b[1;31mIndexError\u001b[0m                                Traceback (most recent call last)",
      "\u001b[1;32m<ipython-input-140-fb0abac28b50>\u001b[0m in \u001b[0;36m<module>\u001b[1;34m\u001b[0m\n\u001b[1;32m----> 1\u001b[1;33m \u001b[0mnombre\u001b[0m\u001b[1;33m[\u001b[0m\u001b[1;36m12\u001b[0m\u001b[1;33m]\u001b[0m\u001b[1;33m\u001b[0m\u001b[1;33m\u001b[0m\u001b[0m\n\u001b[0m",
      "\u001b[1;31mIndexError\u001b[0m: string index out of range"
     ]
    }
   ],
   "source": [
    "nombre[12]"
   ]
  },
  {
   "cell_type": "code",
   "execution_count": 141,
   "metadata": {},
   "outputs": [
    {
     "data": {
      "text/plain": [
       "'s'"
      ]
     },
     "execution_count": 141,
     "metadata": {},
     "output_type": "execute_result"
    }
   ],
   "source": [
    "nombre[11]"
   ]
  },
  {
   "cell_type": "code",
   "execution_count": 142,
   "metadata": {},
   "outputs": [
    {
     "data": {
      "text/plain": [
       "'s'"
      ]
     },
     "execution_count": 142,
     "metadata": {},
     "output_type": "execute_result"
    }
   ],
   "source": [
    "nombre[-1]"
   ]
  },
  {
   "cell_type": "code",
   "execution_count": 143,
   "metadata": {},
   "outputs": [
    {
     "ename": "TypeError",
     "evalue": "'str' object does not support item assignment",
     "output_type": "error",
     "traceback": [
      "\u001b[1;31m---------------------------------------------------------------------------\u001b[0m",
      "\u001b[1;31mTypeError\u001b[0m                                 Traceback (most recent call last)",
      "\u001b[1;32m<ipython-input-143-55a1f52aead2>\u001b[0m in \u001b[0;36m<module>\u001b[1;34m\u001b[0m\n\u001b[1;32m----> 1\u001b[1;33m \u001b[0mnombre\u001b[0m\u001b[1;33m[\u001b[0m\u001b[1;36m0\u001b[0m\u001b[1;33m]\u001b[0m \u001b[1;33m=\u001b[0m \u001b[1;34m\"R\"\u001b[0m\u001b[1;33m\u001b[0m\u001b[1;33m\u001b[0m\u001b[0m\n\u001b[0m",
      "\u001b[1;31mTypeError\u001b[0m: 'str' object does not support item assignment"
     ]
    }
   ],
   "source": [
    "nombre[0] = \"R\""
   ]
  },
  {
   "cell_type": "code",
   "execution_count": 144,
   "metadata": {},
   "outputs": [
    {
     "data": {
      "text/plain": [
       "'Daniel Rojas'"
      ]
     },
     "execution_count": 144,
     "metadata": {},
     "output_type": "execute_result"
    }
   ],
   "source": [
    "nombre"
   ]
  },
  {
   "cell_type": "code",
   "execution_count": 145,
   "metadata": {},
   "outputs": [
    {
     "data": {
      "text/plain": [
       "'Daniel Roja'"
      ]
     },
     "execution_count": 145,
     "metadata": {},
     "output_type": "execute_result"
    }
   ],
   "source": [
    "nombre[0:-1]"
   ]
  },
  {
   "cell_type": "code",
   "execution_count": 146,
   "metadata": {},
   "outputs": [
    {
     "data": {
      "text/plain": [
       "'Daniel Rojas'"
      ]
     },
     "execution_count": 146,
     "metadata": {},
     "output_type": "execute_result"
    }
   ],
   "source": [
    "nombre[0:len(nombre)]"
   ]
  },
  {
   "cell_type": "code",
   "execution_count": 147,
   "metadata": {},
   "outputs": [
    {
     "data": {
      "text/plain": [
       "str"
      ]
     },
     "execution_count": 147,
     "metadata": {},
     "output_type": "execute_result"
    }
   ],
   "source": [
    "type(nombre)"
   ]
  },
  {
   "cell_type": "code",
   "execution_count": 148,
   "metadata": {},
   "outputs": [
    {
     "data": {
      "text/plain": [
       "'DANIEL ROJAS'"
      ]
     },
     "execution_count": 148,
     "metadata": {},
     "output_type": "execute_result"
    }
   ],
   "source": [
    "nombre.upper()"
   ]
  },
  {
   "cell_type": "code",
   "execution_count": 150,
   "metadata": {},
   "outputs": [
    {
     "data": {
      "text/plain": [
       "'daniel rojas'"
      ]
     },
     "execution_count": 150,
     "metadata": {},
     "output_type": "execute_result"
    }
   ],
   "source": [
    "nombre.lower()"
   ]
  },
  {
   "cell_type": "code",
   "execution_count": 151,
   "metadata": {},
   "outputs": [
    {
     "data": {
      "text/plain": [
       "'Daniel rojas'"
      ]
     },
     "execution_count": 151,
     "metadata": {},
     "output_type": "execute_result"
    }
   ],
   "source": [
    "nombre.capitalize()"
   ]
  },
  {
   "cell_type": "code",
   "execution_count": 152,
   "metadata": {},
   "outputs": [
    {
     "data": {
      "text/plain": [
       "'ASDF'"
      ]
     },
     "execution_count": 152,
     "metadata": {},
     "output_type": "execute_result"
    }
   ],
   "source": [
    "\"asdf\".upper()"
   ]
  },
  {
   "cell_type": "code",
   "execution_count": 153,
   "metadata": {},
   "outputs": [
    {
     "name": "stdout",
     "output_type": "stream",
     "text": [
      "Help on class str in module builtins:\n",
      "\n",
      "class str(object)\n",
      " |  str(object='') -> str\n",
      " |  str(bytes_or_buffer[, encoding[, errors]]) -> str\n",
      " |  \n",
      " |  Create a new string object from the given object. If encoding or\n",
      " |  errors is specified, then the object must expose a data buffer\n",
      " |  that will be decoded using the given encoding and error handler.\n",
      " |  Otherwise, returns the result of object.__str__() (if defined)\n",
      " |  or repr(object).\n",
      " |  encoding defaults to sys.getdefaultencoding().\n",
      " |  errors defaults to 'strict'.\n",
      " |  \n",
      " |  Methods defined here:\n",
      " |  \n",
      " |  __add__(self, value, /)\n",
      " |      Return self+value.\n",
      " |  \n",
      " |  __contains__(self, key, /)\n",
      " |      Return key in self.\n",
      " |  \n",
      " |  __eq__(self, value, /)\n",
      " |      Return self==value.\n",
      " |  \n",
      " |  __format__(self, format_spec, /)\n",
      " |      Return a formatted version of the string as described by format_spec.\n",
      " |  \n",
      " |  __ge__(self, value, /)\n",
      " |      Return self>=value.\n",
      " |  \n",
      " |  __getattribute__(self, name, /)\n",
      " |      Return getattr(self, name).\n",
      " |  \n",
      " |  __getitem__(self, key, /)\n",
      " |      Return self[key].\n",
      " |  \n",
      " |  __getnewargs__(...)\n",
      " |  \n",
      " |  __gt__(self, value, /)\n",
      " |      Return self>value.\n",
      " |  \n",
      " |  __hash__(self, /)\n",
      " |      Return hash(self).\n",
      " |  \n",
      " |  __iter__(self, /)\n",
      " |      Implement iter(self).\n",
      " |  \n",
      " |  __le__(self, value, /)\n",
      " |      Return self<=value.\n",
      " |  \n",
      " |  __len__(self, /)\n",
      " |      Return len(self).\n",
      " |  \n",
      " |  __lt__(self, value, /)\n",
      " |      Return self<value.\n",
      " |  \n",
      " |  __mod__(self, value, /)\n",
      " |      Return self%value.\n",
      " |  \n",
      " |  __mul__(self, value, /)\n",
      " |      Return self*value.\n",
      " |  \n",
      " |  __ne__(self, value, /)\n",
      " |      Return self!=value.\n",
      " |  \n",
      " |  __repr__(self, /)\n",
      " |      Return repr(self).\n",
      " |  \n",
      " |  __rmod__(self, value, /)\n",
      " |      Return value%self.\n",
      " |  \n",
      " |  __rmul__(self, value, /)\n",
      " |      Return value*self.\n",
      " |  \n",
      " |  __sizeof__(self, /)\n",
      " |      Return the size of the string in memory, in bytes.\n",
      " |  \n",
      " |  __str__(self, /)\n",
      " |      Return str(self).\n",
      " |  \n",
      " |  capitalize(self, /)\n",
      " |      Return a capitalized version of the string.\n",
      " |      \n",
      " |      More specifically, make the first character have upper case and the rest lower\n",
      " |      case.\n",
      " |  \n",
      " |  casefold(self, /)\n",
      " |      Return a version of the string suitable for caseless comparisons.\n",
      " |  \n",
      " |  center(self, width, fillchar=' ', /)\n",
      " |      Return a centered string of length width.\n",
      " |      \n",
      " |      Padding is done using the specified fill character (default is a space).\n",
      " |  \n",
      " |  count(...)\n",
      " |      S.count(sub[, start[, end]]) -> int\n",
      " |      \n",
      " |      Return the number of non-overlapping occurrences of substring sub in\n",
      " |      string S[start:end].  Optional arguments start and end are\n",
      " |      interpreted as in slice notation.\n",
      " |  \n",
      " |  encode(self, /, encoding='utf-8', errors='strict')\n",
      " |      Encode the string using the codec registered for encoding.\n",
      " |      \n",
      " |      encoding\n",
      " |        The encoding in which to encode the string.\n",
      " |      errors\n",
      " |        The error handling scheme to use for encoding errors.\n",
      " |        The default is 'strict' meaning that encoding errors raise a\n",
      " |        UnicodeEncodeError.  Other possible values are 'ignore', 'replace' and\n",
      " |        'xmlcharrefreplace' as well as any other name registered with\n",
      " |        codecs.register_error that can handle UnicodeEncodeErrors.\n",
      " |  \n",
      " |  endswith(...)\n",
      " |      S.endswith(suffix[, start[, end]]) -> bool\n",
      " |      \n",
      " |      Return True if S ends with the specified suffix, False otherwise.\n",
      " |      With optional start, test S beginning at that position.\n",
      " |      With optional end, stop comparing S at that position.\n",
      " |      suffix can also be a tuple of strings to try.\n",
      " |  \n",
      " |  expandtabs(self, /, tabsize=8)\n",
      " |      Return a copy where all tab characters are expanded using spaces.\n",
      " |      \n",
      " |      If tabsize is not given, a tab size of 8 characters is assumed.\n",
      " |  \n",
      " |  find(...)\n",
      " |      S.find(sub[, start[, end]]) -> int\n",
      " |      \n",
      " |      Return the lowest index in S where substring sub is found,\n",
      " |      such that sub is contained within S[start:end].  Optional\n",
      " |      arguments start and end are interpreted as in slice notation.\n",
      " |      \n",
      " |      Return -1 on failure.\n",
      " |  \n",
      " |  format(...)\n",
      " |      S.format(*args, **kwargs) -> str\n",
      " |      \n",
      " |      Return a formatted version of S, using substitutions from args and kwargs.\n",
      " |      The substitutions are identified by braces ('{' and '}').\n",
      " |  \n",
      " |  format_map(...)\n",
      " |      S.format_map(mapping) -> str\n",
      " |      \n",
      " |      Return a formatted version of S, using substitutions from mapping.\n",
      " |      The substitutions are identified by braces ('{' and '}').\n",
      " |  \n",
      " |  index(...)\n",
      " |      S.index(sub[, start[, end]]) -> int\n",
      " |      \n",
      " |      Return the lowest index in S where substring sub is found, \n",
      " |      such that sub is contained within S[start:end].  Optional\n",
      " |      arguments start and end are interpreted as in slice notation.\n",
      " |      \n",
      " |      Raises ValueError when the substring is not found.\n",
      " |  \n",
      " |  isalnum(self, /)\n",
      " |      Return True if the string is an alpha-numeric string, False otherwise.\n",
      " |      \n",
      " |      A string is alpha-numeric if all characters in the string are alpha-numeric and\n",
      " |      there is at least one character in the string.\n",
      " |  \n",
      " |  isalpha(self, /)\n",
      " |      Return True if the string is an alphabetic string, False otherwise.\n",
      " |      \n",
      " |      A string is alphabetic if all characters in the string are alphabetic and there\n",
      " |      is at least one character in the string.\n",
      " |  \n",
      " |  isascii(self, /)\n",
      " |      Return True if all characters in the string are ASCII, False otherwise.\n",
      " |      \n",
      " |      ASCII characters have code points in the range U+0000-U+007F.\n",
      " |      Empty string is ASCII too.\n",
      " |  \n",
      " |  isdecimal(self, /)\n",
      " |      Return True if the string is a decimal string, False otherwise.\n",
      " |      \n",
      " |      A string is a decimal string if all characters in the string are decimal and\n",
      " |      there is at least one character in the string.\n",
      " |  \n",
      " |  isdigit(self, /)\n",
      " |      Return True if the string is a digit string, False otherwise.\n",
      " |      \n",
      " |      A string is a digit string if all characters in the string are digits and there\n",
      " |      is at least one character in the string.\n",
      " |  \n",
      " |  isidentifier(self, /)\n",
      " |      Return True if the string is a valid Python identifier, False otherwise.\n",
      " |      \n",
      " |      Use keyword.iskeyword() to test for reserved identifiers such as \"def\" and\n",
      " |      \"class\".\n",
      " |  \n",
      " |  islower(self, /)\n",
      " |      Return True if the string is a lowercase string, False otherwise.\n",
      " |      \n",
      " |      A string is lowercase if all cased characters in the string are lowercase and\n",
      " |      there is at least one cased character in the string.\n",
      " |  \n",
      " |  isnumeric(self, /)\n",
      " |      Return True if the string is a numeric string, False otherwise.\n",
      " |      \n",
      " |      A string is numeric if all characters in the string are numeric and there is at\n",
      " |      least one character in the string.\n",
      " |  \n",
      " |  isprintable(self, /)\n",
      " |      Return True if the string is printable, False otherwise.\n",
      " |      \n",
      " |      A string is printable if all of its characters are considered printable in\n",
      " |      repr() or if it is empty.\n",
      " |  \n",
      " |  isspace(self, /)\n",
      " |      Return True if the string is a whitespace string, False otherwise.\n",
      " |      \n",
      " |      A string is whitespace if all characters in the string are whitespace and there\n",
      " |      is at least one character in the string.\n",
      " |  \n",
      " |  istitle(self, /)\n",
      " |      Return True if the string is a title-cased string, False otherwise.\n",
      " |      \n",
      " |      In a title-cased string, upper- and title-case characters may only\n",
      " |      follow uncased characters and lowercase characters only cased ones.\n",
      " |  \n",
      " |  isupper(self, /)\n",
      " |      Return True if the string is an uppercase string, False otherwise.\n",
      " |      \n",
      " |      A string is uppercase if all cased characters in the string are uppercase and\n",
      " |      there is at least one cased character in the string.\n",
      " |  \n",
      " |  join(self, iterable, /)\n",
      " |      Concatenate any number of strings.\n",
      " |      \n",
      " |      The string whose method is called is inserted in between each given string.\n",
      " |      The result is returned as a new string.\n",
      " |      \n",
      " |      Example: '.'.join(['ab', 'pq', 'rs']) -> 'ab.pq.rs'\n",
      " |  \n",
      " |  ljust(self, width, fillchar=' ', /)\n",
      " |      Return a left-justified string of length width.\n",
      " |      \n",
      " |      Padding is done using the specified fill character (default is a space).\n",
      " |  \n",
      " |  lower(self, /)\n",
      " |      Return a copy of the string converted to lowercase.\n",
      " |  \n",
      " |  lstrip(self, chars=None, /)\n",
      " |      Return a copy of the string with leading whitespace removed.\n",
      " |      \n",
      " |      If chars is given and not None, remove characters in chars instead.\n",
      " |  \n",
      " |  partition(self, sep, /)\n",
      " |      Partition the string into three parts using the given separator.\n",
      " |      \n",
      " |      This will search for the separator in the string.  If the separator is found,\n",
      " |      returns a 3-tuple containing the part before the separator, the separator\n",
      " |      itself, and the part after it.\n",
      " |      \n",
      " |      If the separator is not found, returns a 3-tuple containing the original string\n",
      " |      and two empty strings.\n",
      " |  \n",
      " |  replace(self, old, new, count=-1, /)\n",
      " |      Return a copy with all occurrences of substring old replaced by new.\n",
      " |      \n",
      " |        count\n",
      " |          Maximum number of occurrences to replace.\n",
      " |          -1 (the default value) means replace all occurrences.\n",
      " |      \n",
      " |      If the optional argument count is given, only the first count occurrences are\n",
      " |      replaced.\n",
      " |  \n",
      " |  rfind(...)\n",
      " |      S.rfind(sub[, start[, end]]) -> int\n",
      " |      \n",
      " |      Return the highest index in S where substring sub is found,\n",
      " |      such that sub is contained within S[start:end].  Optional\n",
      " |      arguments start and end are interpreted as in slice notation.\n",
      " |      \n",
      " |      Return -1 on failure.\n",
      " |  \n",
      " |  rindex(...)\n",
      " |      S.rindex(sub[, start[, end]]) -> int\n",
      " |      \n",
      " |      Return the highest index in S where substring sub is found,\n",
      " |      such that sub is contained within S[start:end].  Optional\n",
      " |      arguments start and end are interpreted as in slice notation.\n",
      " |      \n",
      " |      Raises ValueError when the substring is not found.\n",
      " |  \n",
      " |  rjust(self, width, fillchar=' ', /)\n",
      " |      Return a right-justified string of length width.\n",
      " |      \n",
      " |      Padding is done using the specified fill character (default is a space).\n",
      " |  \n",
      " |  rpartition(self, sep, /)\n",
      " |      Partition the string into three parts using the given separator.\n",
      " |      \n",
      " |      This will search for the separator in the string, starting at the end. If\n",
      " |      the separator is found, returns a 3-tuple containing the part before the\n",
      " |      separator, the separator itself, and the part after it.\n",
      " |      \n",
      " |      If the separator is not found, returns a 3-tuple containing two empty strings\n",
      " |      and the original string.\n",
      " |  \n",
      " |  rsplit(self, /, sep=None, maxsplit=-1)\n",
      " |      Return a list of the words in the string, using sep as the delimiter string.\n",
      " |      \n",
      " |        sep\n",
      " |          The delimiter according which to split the string.\n",
      " |          None (the default value) means split according to any whitespace,\n",
      " |          and discard empty strings from the result.\n",
      " |        maxsplit\n",
      " |          Maximum number of splits to do.\n",
      " |          -1 (the default value) means no limit.\n",
      " |      \n",
      " |      Splits are done starting at the end of the string and working to the front.\n",
      " |  \n",
      " |  rstrip(self, chars=None, /)\n",
      " |      Return a copy of the string with trailing whitespace removed.\n",
      " |      \n",
      " |      If chars is given and not None, remove characters in chars instead.\n",
      " |  \n",
      " |  split(self, /, sep=None, maxsplit=-1)\n",
      " |      Return a list of the words in the string, using sep as the delimiter string.\n",
      " |      \n",
      " |      sep\n",
      " |        The delimiter according which to split the string.\n",
      " |        None (the default value) means split according to any whitespace,\n",
      " |        and discard empty strings from the result.\n",
      " |      maxsplit\n",
      " |        Maximum number of splits to do.\n",
      " |        -1 (the default value) means no limit.\n",
      " |  \n",
      " |  splitlines(self, /, keepends=False)\n",
      " |      Return a list of the lines in the string, breaking at line boundaries.\n",
      " |      \n",
      " |      Line breaks are not included in the resulting list unless keepends is given and\n",
      " |      true.\n",
      " |  \n",
      " |  startswith(...)\n",
      " |      S.startswith(prefix[, start[, end]]) -> bool\n",
      " |      \n",
      " |      Return True if S starts with the specified prefix, False otherwise.\n",
      " |      With optional start, test S beginning at that position.\n",
      " |      With optional end, stop comparing S at that position.\n",
      " |      prefix can also be a tuple of strings to try.\n",
      " |  \n",
      " |  strip(self, chars=None, /)\n",
      " |      Return a copy of the string with leading and trailing whitespace remove.\n",
      " |      \n",
      " |      If chars is given and not None, remove characters in chars instead.\n",
      " |  \n",
      " |  swapcase(self, /)\n",
      " |      Convert uppercase characters to lowercase and lowercase characters to uppercase.\n",
      " |  \n",
      " |  title(self, /)\n",
      " |      Return a version of the string where each word is titlecased.\n",
      " |      \n",
      " |      More specifically, words start with uppercased characters and all remaining\n",
      " |      cased characters have lower case.\n",
      " |  \n",
      " |  translate(self, table, /)\n",
      " |      Replace each character in the string using the given translation table.\n",
      " |      \n",
      " |        table\n",
      " |          Translation table, which must be a mapping of Unicode ordinals to\n",
      " |          Unicode ordinals, strings, or None.\n",
      " |      \n",
      " |      The table must implement lookup/indexing via __getitem__, for instance a\n",
      " |      dictionary or list.  If this operation raises LookupError, the character is\n",
      " |      left untouched.  Characters mapped to None are deleted.\n",
      " |  \n",
      " |  upper(self, /)\n",
      " |      Return a copy of the string converted to uppercase.\n",
      " |  \n",
      " |  zfill(self, width, /)\n",
      " |      Pad a numeric string with zeros on the left, to fill a field of the given width.\n",
      " |      \n",
      " |      The string is never truncated.\n",
      " |  \n",
      " |  ----------------------------------------------------------------------\n",
      " |  Static methods defined here:\n",
      " |  \n",
      " |  __new__(*args, **kwargs) from builtins.type\n",
      " |      Create and return a new object.  See help(type) for accurate signature.\n",
      " |  \n",
      " |  maketrans(x, y=None, z=None, /)\n",
      " |      Return a translation table usable for str.translate().\n",
      " |      \n",
      " |      If there is only one argument, it must be a dictionary mapping Unicode\n",
      " |      ordinals (integers) or characters to Unicode ordinals, strings or None.\n",
      " |      Character keys will be then converted to ordinals.\n",
      " |      If there are two arguments, they must be strings of equal length, and\n",
      " |      in the resulting dictionary, each character in x will be mapped to the\n",
      " |      character at the same position in y. If there is a third argument, it\n",
      " |      must be a string, whose characters will be mapped to None in the result.\n",
      "\n"
     ]
    }
   ],
   "source": [
    "help(str)"
   ]
  },
  {
   "cell_type": "code",
   "execution_count": 154,
   "metadata": {},
   "outputs": [
    {
     "data": {
      "text/plain": [
       "'Daniel Rojas'"
      ]
     },
     "execution_count": 154,
     "metadata": {},
     "output_type": "execute_result"
    }
   ],
   "source": [
    "nombre"
   ]
  },
  {
   "cell_type": "code",
   "execution_count": 155,
   "metadata": {},
   "outputs": [
    {
     "data": {
      "text/plain": [
       "'Daniel'"
      ]
     },
     "execution_count": 155,
     "metadata": {},
     "output_type": "execute_result"
    }
   ],
   "source": [
    "nombre[0:6]"
   ]
  },
  {
   "cell_type": "code",
   "execution_count": 156,
   "metadata": {},
   "outputs": [
    {
     "ename": "TypeError",
     "evalue": "'str' object does not support item assignment",
     "output_type": "error",
     "traceback": [
      "\u001b[1;31m---------------------------------------------------------------------------\u001b[0m",
      "\u001b[1;31mTypeError\u001b[0m                                 Traceback (most recent call last)",
      "\u001b[1;32m<ipython-input-156-e7d28c856463>\u001b[0m in \u001b[0;36m<module>\u001b[1;34m\u001b[0m\n\u001b[1;32m----> 1\u001b[1;33m \u001b[0mnombre\u001b[0m\u001b[1;33m[\u001b[0m\u001b[1;36m0\u001b[0m\u001b[1;33m:\u001b[0m\u001b[1;36m6\u001b[0m\u001b[1;33m]\u001b[0m \u001b[1;33m=\u001b[0m \u001b[1;34m\"Uriel\"\u001b[0m\u001b[1;33m\u001b[0m\u001b[1;33m\u001b[0m\u001b[0m\n\u001b[0m",
      "\u001b[1;31mTypeError\u001b[0m: 'str' object does not support item assignment"
     ]
    }
   ],
   "source": [
    "nombre[0:6] = \"Uriel\""
   ]
  },
  {
   "cell_type": "code",
   "execution_count": 157,
   "metadata": {},
   "outputs": [
    {
     "data": {
      "text/plain": [
       "'345678'"
      ]
     },
     "execution_count": 157,
     "metadata": {},
     "output_type": "execute_result"
    }
   ],
   "source": [
    "'345' + '678'"
   ]
  },
  {
   "cell_type": "code",
   "execution_count": 158,
   "metadata": {},
   "outputs": [
    {
     "data": {
      "text/plain": [
       "'345 678'"
      ]
     },
     "execution_count": 158,
     "metadata": {},
     "output_type": "execute_result"
    }
   ],
   "source": [
    "'345' + ' ' + '678'"
   ]
  },
  {
   "cell_type": "markdown",
   "metadata": {},
   "source": [
    "### Algunas funciones y métodos útiles para strings"
   ]
  },
  {
   "cell_type": "code",
   "execution_count": 159,
   "metadata": {},
   "outputs": [
    {
     "data": {
      "text/plain": [
       "1"
      ]
     },
     "execution_count": 159,
     "metadata": {},
     "output_type": "execute_result"
    }
   ],
   "source": [
    "nombre.find(\"a\")"
   ]
  },
  {
   "cell_type": "code",
   "execution_count": 160,
   "metadata": {},
   "outputs": [
    {
     "data": {
      "text/plain": [
       "'Daniel Rojas'"
      ]
     },
     "execution_count": 160,
     "metadata": {},
     "output_type": "execute_result"
    }
   ],
   "source": [
    "nombre"
   ]
  },
  {
   "cell_type": "code",
   "execution_count": 161,
   "metadata": {},
   "outputs": [],
   "source": [
    "csv='Daniel,Mauricio,Rojas,Parra'"
   ]
  },
  {
   "cell_type": "code",
   "execution_count": 162,
   "metadata": {},
   "outputs": [
    {
     "data": {
      "text/plain": [
       "['Daniel', 'Mauricio', 'Rojas', 'Parra']"
      ]
     },
     "execution_count": 162,
     "metadata": {},
     "output_type": "execute_result"
    }
   ],
   "source": [
    "values = csv.split(',')\n",
    "values"
   ]
  },
  {
   "cell_type": "code",
   "execution_count": 163,
   "metadata": {},
   "outputs": [
    {
     "data": {
      "text/plain": [
       "'Daniel|Mauricio|Rojas|Parra'"
      ]
     },
     "execution_count": 163,
     "metadata": {},
     "output_type": "execute_result"
    }
   ],
   "source": [
    "sep = \"|\"\n",
    "sep.join(values)"
   ]
  },
  {
   "cell_type": "code",
   "execution_count": 164,
   "metadata": {},
   "outputs": [
    {
     "data": {
      "text/plain": [
       "'Daniel:Mauricio:Rojas:Parra'"
      ]
     },
     "execution_count": 164,
     "metadata": {},
     "output_type": "execute_result"
    }
   ],
   "source": [
    "\":\".join(values)"
   ]
  },
  {
   "cell_type": "code",
   "execution_count": 165,
   "metadata": {},
   "outputs": [
    {
     "data": {
      "text/plain": [
       "'daniel'"
      ]
     },
     "execution_count": 165,
     "metadata": {},
     "output_type": "execute_result"
    }
   ],
   "source": [
    "\"DANIEL\".lower()"
   ]
  },
  {
   "cell_type": "code",
   "execution_count": 166,
   "metadata": {},
   "outputs": [
    {
     "data": {
      "text/plain": [
       "['Uriel', 'Mauricio', 'Rojas', 'Parra']"
      ]
     },
     "execution_count": 166,
     "metadata": {},
     "output_type": "execute_result"
    }
   ],
   "source": [
    "values[0] = \"Uriel\"\n",
    "values"
   ]
  },
  {
   "cell_type": "code",
   "execution_count": 169,
   "metadata": {},
   "outputs": [],
   "source": [
    "e = \" \".join(values)"
   ]
  },
  {
   "cell_type": "code",
   "execution_count": 170,
   "metadata": {},
   "outputs": [
    {
     "data": {
      "text/plain": [
       "'Uriel Mauricio Rojas Parra'"
      ]
     },
     "execution_count": 170,
     "metadata": {},
     "output_type": "execute_result"
    }
   ],
   "source": [
    "e"
   ]
  },
  {
   "cell_type": "code",
   "execution_count": 171,
   "metadata": {},
   "outputs": [
    {
     "data": {
      "text/plain": [
       "['Uriel', 'Mauricio', 'Rojas', 'Parra']"
      ]
     },
     "execution_count": 171,
     "metadata": {},
     "output_type": "execute_result"
    }
   ],
   "source": [
    "values"
   ]
  },
  {
   "cell_type": "code",
   "execution_count": 172,
   "metadata": {},
   "outputs": [
    {
     "data": {
      "text/plain": [
       "'Daniel Rojas tiene 25 años'"
      ]
     },
     "execution_count": 172,
     "metadata": {},
     "output_type": "execute_result"
    }
   ],
   "source": [
    "\"Daniel Rojas tiene {}\".format(\"25 años\")"
   ]
  },
  {
   "cell_type": "code",
   "execution_count": 173,
   "metadata": {},
   "outputs": [],
   "source": [
    "PI = 3.141592653589793"
   ]
  },
  {
   "cell_type": "code",
   "execution_count": 174,
   "metadata": {},
   "outputs": [
    {
     "data": {
      "text/plain": [
       "'Tambien se puede especificar el formato de un valor: 3.14'"
      ]
     },
     "execution_count": 174,
     "metadata": {},
     "output_type": "execute_result"
    }
   ],
   "source": [
    "\"Tambien se puede especificar el formato de un valor: {:.2f}\".format(PI)"
   ]
  },
  {
   "cell_type": "code",
   "execution_count": 175,
   "metadata": {},
   "outputs": [
    {
     "data": {
      "text/plain": [
       "'Tambien se puede especificar el formato de un valor: 3.1416'"
      ]
     },
     "execution_count": 175,
     "metadata": {},
     "output_type": "execute_result"
    }
   ],
   "source": [
    "\"Tambien se puede especificar el formato de un valor: {:.4f}\".format(PI)"
   ]
  },
  {
   "cell_type": "code",
   "execution_count": 179,
   "metadata": {},
   "outputs": [
    {
     "data": {
      "text/plain": [
       "'Tambien se puede especificar el formato de un valor: 3.1415926536'"
      ]
     },
     "execution_count": 179,
     "metadata": {},
     "output_type": "execute_result"
    }
   ],
   "source": [
    "\"Tambien se puede especificar el formato de un valor: {:.10f}\".format(PI)"
   ]
  },
  {
   "cell_type": "code",
   "execution_count": 186,
   "metadata": {},
   "outputs": [],
   "source": [
    "s=['Daniel',4,5,6]"
   ]
  },
  {
   "cell_type": "code",
   "execution_count": 187,
   "metadata": {},
   "outputs": [
    {
     "data": {
      "text/plain": [
       "['Daniel', 4, 5]"
      ]
     },
     "execution_count": 187,
     "metadata": {},
     "output_type": "execute_result"
    }
   ],
   "source": [
    "s[0:-1]"
   ]
  },
  {
   "cell_type": "code",
   "execution_count": 188,
   "metadata": {},
   "outputs": [
    {
     "data": {
      "text/plain": [
       "['Daniel', 4, 5]"
      ]
     },
     "execution_count": 188,
     "metadata": {},
     "output_type": "execute_result"
    }
   ],
   "source": [
    "s[:len(s)-1]"
   ]
  },
  {
   "cell_type": "code",
   "execution_count": 189,
   "metadata": {},
   "outputs": [
    {
     "data": {
      "text/plain": [
       "['Daniel', 4, 5, 6]"
      ]
     },
     "execution_count": 189,
     "metadata": {},
     "output_type": "execute_result"
    }
   ],
   "source": [
    "s[:]"
   ]
  },
  {
   "cell_type": "code",
   "execution_count": 190,
   "metadata": {},
   "outputs": [
    {
     "data": {
      "text/plain": [
       "['Daniel', 4, 5, 6]"
      ]
     },
     "execution_count": 190,
     "metadata": {},
     "output_type": "execute_result"
    }
   ],
   "source": [
    "s[0:len(s)]"
   ]
  },
  {
   "cell_type": "code",
   "execution_count": 191,
   "metadata": {},
   "outputs": [
    {
     "data": {
      "text/plain": [
       "['Daniel', 4, 5, 6]"
      ]
     },
     "execution_count": 191,
     "metadata": {},
     "output_type": "execute_result"
    }
   ],
   "source": [
    "s"
   ]
  }
 ],
 "metadata": {
  "kernelspec": {
   "display_name": "Python 3",
   "language": "python",
   "name": "python3"
  },
  "language_info": {
   "codemirror_mode": {
    "name": "ipython",
    "version": 3
   },
   "file_extension": ".py",
   "mimetype": "text/x-python",
   "name": "python",
   "nbconvert_exporter": "python",
   "pygments_lexer": "ipython3",
   "version": "3.7.3"
  }
 },
 "nbformat": 4,
 "nbformat_minor": 2
}

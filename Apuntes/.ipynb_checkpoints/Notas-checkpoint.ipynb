{
 "cells": [
  {
   "cell_type": "code",
   "execution_count": 4,
   "metadata": {},
   "outputs": [
    {
     "data": {
      "text/plain": [
       "[1, 2, 3, 4, 5, 8, 9, 8, 7, 6, 5, 2]"
      ]
     },
     "execution_count": 4,
     "metadata": {},
     "output_type": "execute_result"
    }
   ],
   "source": [
    "a = [1, 2, 3, 4, 5, 8]\n",
    "b = [9, 8, 7, 6, 5, 2]\n",
    "c = a+b\n",
    "c"
   ]
  },
  {
   "cell_type": "code",
   "execution_count": 5,
   "metadata": {},
   "outputs": [
    {
     "data": {
      "text/plain": [
       "[1, 2, 3, 4, 5, 6, 7, 8, 9, 10]"
      ]
     },
     "execution_count": 5,
     "metadata": {},
     "output_type": "execute_result"
    }
   ],
   "source": [
    "ent1 = [1,2,3,4,5]\n",
    "ent2 = [6,7,8,9,10]\n",
    "ent1 + ent2"
   ]
  },
  {
   "cell_type": "code",
   "execution_count": 6,
   "metadata": {},
   "outputs": [
    {
     "data": {
      "text/plain": [
       "[1, 2, 3, 4, 5]"
      ]
     },
     "execution_count": 6,
     "metadata": {},
     "output_type": "execute_result"
    }
   ],
   "source": [
    "ent1"
   ]
  },
  {
   "cell_type": "code",
   "execution_count": 7,
   "metadata": {},
   "outputs": [
    {
     "data": {
      "text/plain": [
       "[1, 2, 4, 5, 8]"
      ]
     },
     "execution_count": 7,
     "metadata": {},
     "output_type": "execute_result"
    }
   ],
   "source": [
    "a.pop (2)\n",
    "a"
   ]
  },
  {
   "cell_type": "markdown",
   "metadata": {},
   "source": [
    " ### Repaso para el parcial"
   ]
  },
  {
   "cell_type": "code",
   "execution_count": 1,
   "metadata": {},
   "outputs": [
    {
     "data": {
      "text/plain": [
       "{1: 10, 2: 60, 3: 30, 4: 40, 5: 50}"
      ]
     },
     "execution_count": 1,
     "metadata": {},
     "output_type": "execute_result"
    }
   ],
   "source": [
    "dicc1 = {1:10, 2:20}\n",
    "dicc2 = {3:30, 4:40}\n",
    "dicc3 = {5:50, 2:60}\n",
    "new_dic = {}\n",
    "new_dic.update (dicc1)\n",
    "new_dic.update (dicc2)\n",
    "new_dic.update (dicc3)\n",
    "new_dic"
   ]
  },
  {
   "cell_type": "code",
   "execution_count": null,
   "metadata": {},
   "outputs": [],
   "source": [
    "meses = (\"Enero\", \"feb\", \"mar\", \"ab\", \"may\", \"jun\", \"jul\", \"ago\", \"sep\", \"oct\", \"nov\", \"dic\")\n",
    "a = int(input(\"Diga un #\"))\n",
    "if a in meses:\n",
    "    print (meses [a])\n",
    "else:\n",
    "    print (\"error\")\n",
    "    #Paila, la embarré haha"
   ]
  },
  {
   "cell_type": "code",
   "execution_count": null,
   "metadata": {},
   "outputs": [],
   "source": [
    "palabra = \"Hola esto esta tenaz\"\n",
    "conteo = []\n",
    "letras = []\n",
    "for i in palabra:\n",
    "    if a not in conteo:\n",
    "        letras[0] = letras[0] + 1\n",
    "        conteo.append (a)\n",
    "    else:\n",
    "        continue\n",
    "#Paila, la embarré haha"
   ]
  },
  {
   "cell_type": "code",
   "execution_count": 33,
   "metadata": {},
   "outputs": [],
   "source": [
    "def change (frase):\n",
    "    newlist = frase.split()\n",
    "    h = newlist.reverse()\n",
    "    print (\" \".join(newlist))"
   ]
  },
  {
   "cell_type": "code",
   "execution_count": 34,
   "metadata": {},
   "outputs": [
    {
     "name": "stdout",
     "output_type": "stream",
     "text": [
      "todos van como Hola\n"
     ]
    }
   ],
   "source": [
    "asd = \"Hola como van todos\"\n",
    "change (asd)\n"
   ]
  },
  {
   "cell_type": "code",
   "execution_count": null,
   "metadata": {},
   "outputs": [],
   "source": [
    "asd = {1:0, 2:3, 4:0, 5:6}\n",
    "newl = {}\n",
    "for k, v in asd.items():\n",
    "    if v not in newl.values()\n",
    "    newl.append(k)\n",
    "    return newl\n",
    "\n",
    "if k, v in \n",
    "    "
   ]
  }
 ],
 "metadata": {
  "kernelspec": {
   "display_name": "Python 3",
   "language": "python",
   "name": "python3"
  },
  "language_info": {
   "codemirror_mode": {
    "name": "ipython",
    "version": 3
   },
   "file_extension": ".py",
   "mimetype": "text/x-python",
   "name": "python",
   "nbconvert_exporter": "python",
   "pygments_lexer": "ipython3",
   "version": "3.7.3"
  }
 },
 "nbformat": 4,
 "nbformat_minor": 2
}

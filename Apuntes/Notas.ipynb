{
 "cells": [
  {
   "cell_type": "code",
   "execution_count": 4,
   "metadata": {},
   "outputs": [
    {
     "data": {
      "text/plain": [
       "[1, 2, 3, 4, 5, 8, 9, 8, 7, 6, 5, 2]"
      ]
     },
     "execution_count": 4,
     "metadata": {},
     "output_type": "execute_result"
    }
   ],
   "source": [
    "a = [1, 2, 3, 4, 5, 8]\n",
    "b = [9, 8, 7, 6, 5, 2]\n",
    "c = a+b\n",
    "c"
   ]
  },
  {
   "cell_type": "code",
   "execution_count": 5,
   "metadata": {},
   "outputs": [
    {
     "data": {
      "text/plain": [
       "[1, 2, 3, 4, 5, 6, 7, 8, 9, 10]"
      ]
     },
     "execution_count": 5,
     "metadata": {},
     "output_type": "execute_result"
    }
   ],
   "source": [
    "ent1 = [1,2,3,4,5]\n",
    "ent2 = [6,7,8,9,10]\n",
    "ent1 + ent2"
   ]
  },
  {
   "cell_type": "code",
   "execution_count": 6,
   "metadata": {},
   "outputs": [
    {
     "data": {
      "text/plain": [
       "[1, 2, 3, 4, 5]"
      ]
     },
     "execution_count": 6,
     "metadata": {},
     "output_type": "execute_result"
    }
   ],
   "source": [
    "ent1"
   ]
  },
  {
   "cell_type": "code",
   "execution_count": 7,
   "metadata": {},
   "outputs": [
    {
     "data": {
      "text/plain": [
       "[1, 2, 4, 5, 8]"
      ]
     },
     "execution_count": 7,
     "metadata": {},
     "output_type": "execute_result"
    }
   ],
   "source": [
    "a.pop (2)\n",
    "a"
   ]
  },
  {
   "cell_type": "markdown",
   "metadata": {},
   "source": [
    " ### Repaso para el parcial"
   ]
  },
  {
   "cell_type": "code",
   "execution_count": 1,
   "metadata": {},
   "outputs": [
    {
     "data": {
      "text/plain": [
       "{1: 10, 2: 60, 3: 30, 4: 40, 5: 50}"
      ]
     },
     "execution_count": 1,
     "metadata": {},
     "output_type": "execute_result"
    }
   ],
   "source": [
    "dicc1 = {1:10, 2:20}\n",
    "dicc2 = {3:30, 4:40}\n",
    "dicc3 = {5:50, 2:60}\n",
    "new_dic = {}\n",
    "new_dic.update (dicc1)\n",
    "new_dic.update (dicc2)\n",
    "new_dic.update (dicc3)\n",
    "new_dic"
   ]
  },
  {
   "cell_type": "code",
   "execution_count": null,
   "metadata": {},
   "outputs": [],
   "source": [
    "meses = (\"Enero\", \"feb\", \"mar\", \"ab\", \"may\", \"jun\", \"jul\", \"ago\", \"sep\", \"oct\", \"nov\", \"dic\")\n",
    "a = int(input(\"Diga un #\"))\n",
    "if a in meses:\n",
    "    print (meses [a])\n",
    "else:\n",
    "    print (\"error\")\n",
    "    #Paila, la embarré haha"
   ]
  },
  {
   "cell_type": "code",
   "execution_count": null,
   "metadata": {},
   "outputs": [],
   "source": [
    "palabra = \"Hola esto esta tenaz\"\n",
    "conteo = []\n",
    "letras = []\n",
    "for i in palabra:\n",
    "    if a not in conteo:\n",
    "        letras[0] = letras[0] + 1\n",
    "        conteo.append (a)\n",
    "    else:\n",
    "        continue\n",
    "#Paila, la embarré haha"
   ]
  },
  {
   "cell_type": "code",
   "execution_count": 33,
   "metadata": {},
   "outputs": [],
   "source": [
    "def change (frase):\n",
    "    newlist = frase.split()\n",
    "    h = newlist.reverse()\n",
    "    print (\" \".join(newlist))"
   ]
  },
  {
   "cell_type": "code",
   "execution_count": 34,
   "metadata": {},
   "outputs": [
    {
     "name": "stdout",
     "output_type": "stream",
     "text": [
      "todos van como Hola\n"
     ]
    }
   ],
   "source": [
    "asd = \"Hola como van todos\"\n",
    "change (asd)\n"
   ]
  },
  {
   "cell_type": "code",
   "execution_count": null,
   "metadata": {},
   "outputs": [],
   "source": [
    "asd = {1:0, 2:3, 4:0, 5:6}\n",
    "newl = {}\n",
    "for k, v in asd.items():\n",
    "    if v not in newl.values()\n",
    "    newl.append(k)\n",
    "    return newl\n",
    "\n",
    "if k, v in"
   ]
  },
  {
   "cell_type": "code",
   "execution_count": 3,
   "metadata": {},
   "outputs": [
    {
     "name": "stdout",
     "output_type": "stream",
     "text": [
      "Dime un numero de 1 a 12: 8520\n"
     ]
    }
   ],
   "source": [
    "meses = (\"enero\", \"feb\", \"mar\", \"abril\", \"mayo\", \"junio\", \"julio\", \"agosto\", \"sept\", \"oct\", \"nov\", \"dic\")\n",
    "\n",
    "while True:\n",
    "    a = int(input(\"Dime un numero de 1 a 12: \"))\n",
    "    if (a>0 and a <= len(meses)):\n",
    "        print(meses[a-1])\n",
    "    elif a ==0 or:\n",
    "        break\n",
    "    else:\n",
    "        operability == False\n",
    "        break"
   ]
  },
  {
   "cell_type": "markdown",
   "metadata": {},
   "source": [
    "##### Crea un diccionario donde la clave sea el nombre del usuario y el valor sea el teléfono (no es necesario validar). Tendrás que ir pidiendo contactos hasta el usuario diga que no quiere insertar mas. No se podrán meter nombres repetidos"
   ]
  },
  {
   "cell_type": "code",
   "execution_count": 2,
   "metadata": {},
   "outputs": [
    {
     "name": "stdout",
     "output_type": "stream",
     "text": [
      "Dime tu nombre: oaoas\n",
      "Dime tu número: 16\n",
      "Dime tu nombre: sdsdkd\n",
      "Dime tu número: 478654\n",
      "Dime tu nombre: NA\n",
      "Dime tu número: 454\n"
     ]
    }
   ],
   "source": [
    "contactos = {}\n",
    "while True:\n",
    "    a = input (\"Dime tu nombre: \")\n",
    "    b = input (\"Dime tu número: \")\n",
    "    q = str(a)\n",
    "    if q == \"NA\":\n",
    "        break\n",
    "    w = int(b)\n",
    "    \n",
    "    contactos[q]= w"
   ]
  },
  {
   "cell_type": "code",
   "execution_count": 3,
   "metadata": {},
   "outputs": [
    {
     "name": "stdout",
     "output_type": "stream",
     "text": [
      "Dime tu nombre: jajajs\n",
      "Dime tu número: 498645\n",
      "Dime tu nombre: sasd\n",
      "Dime tu número: 64845\n",
      "Dime tu nombre: NA\n",
      "Dime tu número: 65\n"
     ]
    }
   ],
   "source": [
    "contactos = {}\n",
    "salir = False\n",
    "while salir is False:\n",
    "    a = input (\"Dime tu nombre: \")\n",
    "    b = input (\"Dime tu número: \")\n",
    "    q = str(a)\n",
    "    if q == \"NA\":\n",
    "        salir = True\n",
    "    w = int(b)\n",
    "    \n",
    "    contactos[q]= w"
   ]
  },
  {
   "cell_type": "code",
   "execution_count": 8,
   "metadata": {},
   "outputs": [
    {
     "name": "stdout",
     "output_type": "stream",
     "text": [
      "Dime tu nombre: jasjs\n",
      "Dime tu número: 54\n",
      "Dime tu nombre: NA\n",
      "Dime tu número: 45\n"
     ]
    }
   ],
   "source": [
    "contactos = {}\n",
    "salir = False\n",
    "while salir == False:\n",
    "    nombre = str(input (\"Dime tu nombre: \"))\n",
    "    numero = int(input (\"Dime tu número: \"))\n",
    "    if nombre not in contactos:\n",
    "        if nombre == \"NA\":\n",
    "            salir = True\n",
    "        else:\n",
    "            contactos[nombre] = numero\n",
    "    else:\n",
    "        print (\"Este contacto ya esta añadido\")"
   ]
  },
  {
   "cell_type": "code",
   "execution_count": 10,
   "metadata": {},
   "outputs": [
    {
     "name": "stdout",
     "output_type": "stream",
     "text": [
      "Dime tu nombre: Juan\n",
      "Dime tu número: 454\n",
      "¿Ya terminaste? Si/NoNo\n",
      "Dime tu nombre: jsjsjs\n",
      "Dime tu número: 444\n",
      "¿Ya terminaste? Si/NoSí\n",
      "Dime tu nombre: jsjsjs\n",
      "Dime tu número: 44\n",
      "Este contacto ya esta añadido\n",
      "¿Ya terminaste? Si/NoSi\n"
     ]
    }
   ],
   "source": [
    "contactos = {}\n",
    "salir = False\n",
    "while salir == False:\n",
    "    nombre = str(input (\"Dime tu nombre: \"))\n",
    "    numero = int(input (\"Dime tu número: \"))\n",
    "    if nombre not in contactos:\n",
    "        contactos[nombre] = numero\n",
    "    else:\n",
    "        print (\"Este contacto ya esta añadido\")\n",
    "    respuesta = str(input (\"¿Ya terminaste? Si/No\"))\n",
    "    if respuesta == \"Si\":\n",
    "        break\n",
    "    else:\n",
    "        continue"
   ]
  },
  {
   "cell_type": "code",
   "execution_count": 2,
   "metadata": {},
   "outputs": [
    {
     "name": "stdout",
     "output_type": "stream",
     "text": [
      "Dame un índice: 201\n",
      "El índice tiene que ser de 1 a 10.\n",
      "Dame un índice: 10\n",
      "10\n"
     ]
    }
   ],
   "source": [
    "tupla = (1,2,3,4,5,6,7,8,9,10)\n",
    "salir = True\n",
    "\n",
    "while salir == True:\n",
    "    a = int(input(\"Dame un índice: \"))\n",
    "    if a > 0 and a <= len(tupla):\n",
    "        print (tupla[a-1])\n",
    "        salir = False\n",
    "    else:\n",
    "        print (\"El índice tiene que ser de 1 a 10.\")\n"
   ]
  },
  {
   "cell_type": "markdown",
   "metadata": {},
   "source": [
    "### Crea una lista vacía (pongamos 10 posiciones), pide sus valores y devuelve la suma y la media de los números."
   ]
  },
  {
   "cell_type": "code",
   "execution_count": 4,
   "metadata": {},
   "outputs": [
    {
     "name": "stdout",
     "output_type": "stream",
     "text": [
      "Dame un valor numérico para agregarlo a la lista: 4\n",
      "Dame un valor numérico para agregarlo a la lista: 4\n",
      "Dame un valor numérico para agregarlo a la lista: 4\n",
      "Dame un valor numérico para agregarlo a la lista: 4\n",
      "Dame un valor numérico para agregarlo a la lista: 4\n",
      "Dame un valor numérico para agregarlo a la lista: 4\n",
      "Dame un valor numérico para agregarlo a la lista: 4\n",
      "Dame un valor numérico para agregarlo a la lista: 4\n",
      "Dame un valor numérico para agregarlo a la lista: 45\n",
      "Dame un valor numérico para agregarlo a la lista: 5\n",
      "82\n",
      "8.2\n"
     ]
    }
   ],
   "source": [
    "lista = [0]*10\n",
    "for posición in range (len(lista)):\n",
    "    valor = int(input(\"Dame un valor numérico para agregarlo a la lista: \"))\n",
    "    lista [posición] = valor\n",
    "b = sum (lista)\n",
    "c = b / len(lista)\n",
    "\n",
    "print(b)\n",
    "print(c)\n"
   ]
  },
  {
   "cell_type": "code",
   "execution_count": 6,
   "metadata": {},
   "outputs": [
    {
     "name": "stdout",
     "output_type": "stream",
     "text": [
      "agrega algo7984652\n"
     ]
    },
    {
     "data": {
      "text/plain": [
       "str"
      ]
     },
     "execution_count": 6,
     "metadata": {},
     "output_type": "execute_result"
    }
   ],
   "source": [
    "a = input (\"agrega algo\")\n",
    "type(a)"
   ]
  },
  {
   "cell_type": "code",
   "execution_count": 9,
   "metadata": {},
   "outputs": [
    {
     "name": "stdout",
     "output_type": "stream",
     "text": [
      "Por favor ingresar un número entero\n",
      "265\n",
      "Número es impar\n"
     ]
    }
   ],
   "source": [
    "\n",
    "try:\n",
    "    print(\"Por favor ingresar un número entero\")\n",
    "    numero=int(input())\n",
    "    if (numero % 2) == 0:\n",
    "        print(\"Numero es par\")\n",
    "    elif (numero % 2) != 0:\n",
    "        print(\"Número es impar\")\n",
    "except:\n",
    "    print(\"Información ingresada no es un número entero\")"
   ]
  },
  {
   "cell_type": "code",
   "execution_count": 11,
   "metadata": {},
   "outputs": [],
   "source": [
    "l = [10, 11, 12, 13, 14, 15, 16]\n",
    "l [1:3] = 8, 9, 10"
   ]
  },
  {
   "cell_type": "code",
   "execution_count": 12,
   "metadata": {},
   "outputs": [
    {
     "data": {
      "text/plain": [
       "[10, 8, 9, 10, 13, 14, 15, 16]"
      ]
     },
     "execution_count": 12,
     "metadata": {},
     "output_type": "execute_result"
    }
   ],
   "source": [
    "l"
   ]
  },
  {
   "cell_type": "code",
   "execution_count": 13,
   "metadata": {},
   "outputs": [],
   "source": [
    "l [1:3] = 8, 9, 10, 12, 15"
   ]
  },
  {
   "cell_type": "code",
   "execution_count": 14,
   "metadata": {},
   "outputs": [
    {
     "data": {
      "text/plain": [
       "[10, 8, 9, 10, 12, 15, 10, 13, 14, 15, 16]"
      ]
     },
     "execution_count": 14,
     "metadata": {},
     "output_type": "execute_result"
    }
   ],
   "source": [
    "l"
   ]
  },
  {
   "cell_type": "code",
   "execution_count": 16,
   "metadata": {},
   "outputs": [
    {
     "data": {
      "text/plain": [
       "[8, 9, 10]"
      ]
     },
     "execution_count": 16,
     "metadata": {},
     "output_type": "execute_result"
    }
   ],
   "source": [
    "l[1:4]"
   ]
  },
  {
   "cell_type": "code",
   "execution_count": 21,
   "metadata": {},
   "outputs": [
    {
     "name": "stdout",
     "output_type": "stream",
     "text": [
      "Old MacDonald had a farm,Ee-igh, Ee-igh, Oh! \n",
      " And on that farm he had a  7984652 , Ee-igh, Ee-igh, Oh! \n",
      " With a  Charma ,  Charma  here and  Charma ,  Charma  there. \n",
      " Here a  Charma , there a  Charma , everywhere a  Charma ,  Charma . \n",
      " Old MacDonald had a farm, Ee-igh, Ee-igh, Oh!\n",
      "\n",
      "\n",
      "Old MacDonald had a farm,Ee-igh, Ee-igh, Oh! \n",
      " And on that farm he had a  7984652 , Ee-igh, Ee-igh, Oh! \n",
      " With a  Gol ,  Gol  here and  Gol ,  Gol  there. \n",
      " Here a  Gol , there a  Gol , everywhere a  Gol ,  Gol . \n",
      " Old MacDonald had a farm, Ee-igh, Ee-igh, Oh!\n",
      "\n",
      "\n",
      "Old MacDonald had a farm,Ee-igh, Ee-igh, Oh! \n",
      " And on that farm he had a  7984652 , Ee-igh, Ee-igh, Oh! \n",
      " With a  pikapika ,  pikapika  here and  pikapika ,  pikapika  there. \n",
      " Here a  pikapika , there a  pikapika , everywhere a  pikapika ,  pikapika . \n",
      " Old MacDonald had a farm, Ee-igh, Ee-igh, Oh!\n",
      "\n",
      "\n",
      "Old MacDonald had a farm,Ee-igh, Ee-igh, Oh! \n",
      " And on that farm he had a  7984652 , Ee-igh, Ee-igh, Oh! \n",
      " With a  scua ,  scua  here and  scua ,  scua  there. \n",
      " Here a  scua , there a  scua , everywhere a  scua ,  scua . \n",
      " Old MacDonald had a farm, Ee-igh, Ee-igh, Oh!\n",
      "\n",
      "\n",
      "Old MacDonald had a farm,Ee-igh, Ee-igh, Oh! \n",
      " And on that farm he had a  7984652 , Ee-igh, Ee-igh, Oh! \n",
      " With a  eiff ,  eiff  here and  eiff ,  eiff  there. \n",
      " Here a  eiff , there a  eiff , everywhere a  eiff ,  eiff . \n",
      " Old MacDonald had a farm, Ee-igh, Ee-igh, Oh!\n",
      "\n",
      "\n",
      "Old MacDonald had a farm,Ee-igh, Ee-igh, Oh! \n",
      " And on that farm he had a  7984652 , Ee-igh, Ee-igh, Oh! \n",
      " With a  gio ,  gio  here and  gio ,  gio  there. \n",
      " Here a  gio , there a  gio , everywhere a  gio ,  gio . \n",
      " Old MacDonald had a farm, Ee-igh, Ee-igh, Oh!\n",
      "\n",
      "\n",
      "Old MacDonald had a farm,Ee-igh, Ee-igh, Oh! \n",
      " And on that farm he had a  7984652 , Ee-igh, Ee-igh, Oh! \n",
      " With a  bulba ,  bulba  here and  bulba ,  bulba  there. \n",
      " Here a  bulba , there a  bulba , everywhere a  bulba ,  bulba . \n",
      " Old MacDonald had a farm, Ee-igh, Ee-igh, Oh!\n",
      "\n",
      "\n",
      "Old MacDonald had a farm,Ee-igh, Ee-igh, Oh! \n",
      " And on that farm he had a  7984652 , Ee-igh, Ee-igh, Oh! \n",
      " With a  ouou ,  ouou  here and  ouou ,  ouou  there. \n",
      " Here a  ouou , there a  ouou , everywhere a  ouou ,  ouou . \n",
      " Old MacDonald had a farm, Ee-igh, Ee-igh, Oh!\n",
      "\n",
      "\n",
      "Old MacDonald had a farm,Ee-igh, Ee-igh, Oh! \n",
      " And on that farm he had a  7984652 , Ee-igh, Ee-igh, Oh! \n",
      " With a  aighh ,  aighh  here and  aighh ,  aighh  there. \n",
      " Here a  aighh , there a  aighh , everywhere a  aighh ,  aighh . \n",
      " Old MacDonald had a farm, Ee-igh, Ee-igh, Oh!\n",
      "\n",
      "\n",
      "Old MacDonald had a farm,Ee-igh, Ee-igh, Oh! \n",
      " And on that farm he had a  7984652 , Ee-igh, Ee-igh, Oh! \n",
      " With a  errrr ,  errrr  here and  errrr ,  errrr  there. \n",
      " Here a  errrr , there a  errrr , everywhere a  errrr ,  errrr . \n",
      " Old MacDonald had a farm, Ee-igh, Ee-igh, Oh!\n",
      "\n",
      "\n"
     ]
    }
   ],
   "source": [
    "def cancion(animal,ruido):\n",
    "    ##los elementos animal y ruido deben ser strings\n",
    "    print(\"Old MacDonald had a farm,Ee-igh, Ee-igh, Oh!\",\"\\n\" , \"And on that farm he had a \" , str(animal) , \", Ee-igh, Ee-igh, Oh!\" , \"\\n\" ,\"With a \", str(ruido), \", \",str(ruido),\" here and \",str(ruido), \", \", str(ruido),\" there.\",\"\\n\",\"Here a \", str(ruido) ,\", there a \",str(ruido),\", everywhere a \",str(ruido),\", \",str(ruido),\".\",\"\\n\",\"Old MacDonald had a farm, Ee-igh, Ee-igh, Oh!\")\n",
    "\n",
    "animales=[\"Charmander\",\"Golbat\",\"Pikachu\",\"Squartle\",\"Eeeve\",\"Geodolo\",\"Bullbasur\",\"Onix\",\"Aerodactyl\",\"Butterfly\"]\n",
    "ruido=[\"Charma\",\"Gol\",\"pikapika\",\"scua\",\"eiff\",\"gio\",\"bulba\",\"ouou\",\"aighh\",\"errrr\"]\n",
    "\n",
    "for i in list(range(len(animales))):\n",
    "    cancion (a,ruido[i])\n",
    "    print(\"\\n\")\n"
   ]
  },
  {
   "cell_type": "code",
   "execution_count": 28,
   "metadata": {},
   "outputs": [
    {
     "data": {
      "text/plain": [
       "[1, 3, 6, 10, 15]"
      ]
     },
     "execution_count": 28,
     "metadata": {},
     "output_type": "execute_result"
    }
   ],
   "source": [
    "def sumList(nums):\n",
    "    for i in list (range (1, len(nums))):\n",
    "            nums[i]=nums[i]+nums[i-1]\n",
    "    return nums\n",
    "sumList([1,2,3,4,5])"
   ]
  },
  {
   "cell_type": "code",
   "execution_count": 29,
   "metadata": {},
   "outputs": [
    {
     "name": "stdout",
     "output_type": "stream",
     "text": [
      "[1, 2, 3, 4, 5]\n"
     ]
    }
   ],
   "source": [
    "#Ejercicio 13\n",
    "def toNumbers (strList):\n",
    "    '''\n",
    "    Inputs:\n",
    "        strList = a list of strings, each of which represents a number. \n",
    "    Outputs \n",
    "         Modifies each entry in the list by converting it to a number.\n",
    "    '''\n",
    "    finalList = []\n",
    "    for i in strList:\n",
    "        for s in i.split(\",\"):\n",
    "            s = eval (s)\n",
    "            finalList.append (s)\n",
    "    return finalList\n",
    "Lista = ['1, 2, 3, 4, 5']\n",
    "Z = toNumbers (Lista)\n",
    "print (Z)"
   ]
  },
  {
   "cell_type": "code",
   "execution_count": 37,
   "metadata": {},
   "outputs": [
    {
     "data": {
      "text/plain": [
       "[(2, 0), (3, 0), (4, 5), (1, 8)]"
      ]
     },
     "execution_count": 37,
     "metadata": {},
     "output_type": "execute_result"
    }
   ],
   "source": [
    "dict1 = {1:8, 2:0, 4:5, 3:0 }\n",
    "sorted (dict1.items(), key = lambda x:x[1])"
   ]
  },
  {
   "cell_type": "code",
   "execution_count": 48,
   "metadata": {},
   "outputs": [
    {
     "ename": "SyntaxError",
     "evalue": "invalid syntax (<ipython-input-48-8f70d406e1b0>, line 1)",
     "output_type": "error",
     "traceback": [
      "\u001b[1;36m  File \u001b[1;32m\"<ipython-input-48-8f70d406e1b0>\"\u001b[1;36m, line \u001b[1;32m1\u001b[0m\n\u001b[1;33m    for values in dict1.values() range(len(dict1.values))):\u001b[0m\n\u001b[1;37m                                     ^\u001b[0m\n\u001b[1;31mSyntaxError\u001b[0m\u001b[1;31m:\u001b[0m invalid syntax\n"
     ]
    }
   ],
   "source": [
    "for values in dict1.values() range(len(dict1.values))):\n",
    "    values * 2\n",
    "    print(dict1.values())"
   ]
  },
  {
   "cell_type": "code",
   "execution_count": 42,
   "metadata": {},
   "outputs": [
    {
     "data": {
      "text/plain": [
       "dict_values([8, 0, 5, 0])"
      ]
     },
     "execution_count": 42,
     "metadata": {},
     "output_type": "execute_result"
    }
   ],
   "source": [
    "dict1.values()"
   ]
  },
  {
   "cell_type": "code",
   "execution_count": 52,
   "metadata": {},
   "outputs": [
    {
     "data": {
      "text/plain": [
       "{1: 2, 2: 8, 3: 1, 4: 1, 56: 65}"
      ]
     },
     "execution_count": 52,
     "metadata": {},
     "output_type": "execute_result"
    }
   ],
   "source": [
    "dicc ={}\n",
    "def crea_dicc(l1,l2):\n",
    "    for i in list(range(len(l1))):\n",
    "        dicc[l1[i]] = l2[i]\n",
    "    return dicc\n",
    "a= (1,2,2,3,4,56,4)\n",
    "b =(2,5,8,1,5,65,1)\n",
    "crea_dicc(a,b)"
   ]
  },
  {
   "cell_type": "code",
   "execution_count": 54,
   "metadata": {},
   "outputs": [
    {
     "data": {
      "text/plain": [
       "{1: 2, 2: 8, 3: 1, 4: 1, 56: 65}"
      ]
     },
     "execution_count": 54,
     "metadata": {},
     "output_type": "execute_result"
    }
   ],
   "source": [
    "dicc ={}\n",
    "def crea_dicc(l1,l2):\n",
    "    for i in range (7):\n",
    "        dicc[l1[i]] = l2[i]\n",
    "    return dicc\n",
    "a= (1,2,2,3,4,56,4)\n",
    "b =(2,5,8,1,5,65,1)\n",
    "crea_dicc(a,b)"
   ]
  },
  {
   "cell_type": "code",
   "execution_count": 55,
   "metadata": {},
   "outputs": [
    {
     "data": {
      "text/plain": [
       "{1: 2, 2: 8, 3: 1, 4: 1, 56: 65}"
      ]
     },
     "execution_count": 55,
     "metadata": {},
     "output_type": "execute_result"
    }
   ],
   "source": [
    "dicc"
   ]
  },
  {
   "cell_type": "code",
   "execution_count": 68,
   "metadata": {},
   "outputs": [],
   "source": [
    "dicc[\"a\"] = dicc.get(a, \"Se fue\")"
   ]
  },
  {
   "cell_type": "code",
   "execution_count": 71,
   "metadata": {},
   "outputs": [],
   "source": [
    "del dicc[\"a\"]"
   ]
  },
  {
   "cell_type": "code",
   "execution_count": 72,
   "metadata": {},
   "outputs": [
    {
     "data": {
      "text/plain": [
       "{1: 2, 2: 8, 3: 1, 4: 1, 56: 65, None: 'Se fue'}"
      ]
     },
     "execution_count": 72,
     "metadata": {},
     "output_type": "execute_result"
    }
   ],
   "source": [
    "dicc"
   ]
  },
  {
   "cell_type": "code",
   "execution_count": 77,
   "metadata": {},
   "outputs": [],
   "source": [
    "del dicc[None]"
   ]
  },
  {
   "cell_type": "code",
   "execution_count": 78,
   "metadata": {},
   "outputs": [
    {
     "name": "stdout",
     "output_type": "stream",
     "text": [
      "dict_values([2, 8, 1, 1, 65])\n"
     ]
    }
   ],
   "source": [
    "print(dicc.values())"
   ]
  },
  {
   "cell_type": "code",
   "execution_count": 82,
   "metadata": {},
   "outputs": [
    {
     "name": "stdout",
     "output_type": "stream",
     "text": [
      "dict_keys([1, 2, 3, 4, 56])\n",
      "dict_items([(1, 2), (2, 8), (3, 1), (4, 1), (56, 65)])\n"
     ]
    },
    {
     "data": {
      "text/plain": [
       "{1: 2, 2: 8, 3: 1, 4: 1, 56: 65}"
      ]
     },
     "execution_count": 82,
     "metadata": {},
     "output_type": "execute_result"
    }
   ],
   "source": [
    "print(dicc.keys())\n",
    "print(dicc.items())\n",
    "dicc"
   ]
  },
  {
   "cell_type": "code",
   "execution_count": 86,
   "metadata": {},
   "outputs": [
    {
     "data": {
      "text/plain": [
       "dict_items([(1, 2), (2, 8), (3, 1), (4, 1), (56, 65)])"
      ]
     },
     "execution_count": 86,
     "metadata": {},
     "output_type": "execute_result"
    }
   ],
   "source": [
    "a = dicc.items()\n",
    "a"
   ]
  },
  {
   "cell_type": "code",
   "execution_count": 89,
   "metadata": {},
   "outputs": [
    {
     "name": "stdout",
     "output_type": "stream",
     "text": [
      "dict_items([(1, 2), (2, 8), (3, 1), (4, 1), (56, 65)])\n"
     ]
    }
   ],
   "source": [
    "print(a)"
   ]
  },
  {
   "cell_type": "code",
   "execution_count": 91,
   "metadata": {},
   "outputs": [
    {
     "data": {
      "text/plain": [
       "dict_items"
      ]
     },
     "execution_count": 91,
     "metadata": {},
     "output_type": "execute_result"
    }
   ],
   "source": [
    "type(a)"
   ]
  },
  {
   "cell_type": "code",
   "execution_count": 92,
   "metadata": {},
   "outputs": [],
   "source": [
    "l = a"
   ]
  },
  {
   "cell_type": "code",
   "execution_count": 93,
   "metadata": {},
   "outputs": [
    {
     "data": {
      "text/plain": [
       "dict_items"
      ]
     },
     "execution_count": 93,
     "metadata": {},
     "output_type": "execute_result"
    }
   ],
   "source": [
    "type(l)"
   ]
  },
  {
   "cell_type": "code",
   "execution_count": 94,
   "metadata": {},
   "outputs": [
    {
     "data": {
      "text/plain": [
       "[<function list.append(object, /)>,\n",
       " <function list.append(object, /)>,\n",
       " <function list.append(object, /)>,\n",
       " <function list.append(object, /)>,\n",
       " <function list.append(object, /)>]"
      ]
     },
     "execution_count": 94,
     "metadata": {},
     "output_type": "execute_result"
    }
   ],
   "source": [
    "[lista.append for i in a]"
   ]
  },
  {
   "cell_type": "code",
   "execution_count": 95,
   "metadata": {},
   "outputs": [
    {
     "data": {
      "text/plain": [
       "[4, 4, 4, 4, 4, 4, 4, 4, 45, 5]"
      ]
     },
     "execution_count": 95,
     "metadata": {},
     "output_type": "execute_result"
    }
   ],
   "source": [
    "lista"
   ]
  },
  {
   "cell_type": "code",
   "execution_count": 99,
   "metadata": {},
   "outputs": [],
   "source": [
    "lista2= []\n",
    "for i in a:\n",
    "        lista2.append(i)"
   ]
  },
  {
   "cell_type": "code",
   "execution_count": 100,
   "metadata": {},
   "outputs": [
    {
     "data": {
      "text/plain": [
       "[(1, 2), (2, 8), (3, 1), (4, 1), (56, 65)]"
      ]
     },
     "execution_count": 100,
     "metadata": {},
     "output_type": "execute_result"
    }
   ],
   "source": [
    "lista2"
   ]
  },
  {
   "cell_type": "code",
   "execution_count": 101,
   "metadata": {},
   "outputs": [
    {
     "data": {
      "text/plain": [
       "(2, 8)"
      ]
     },
     "execution_count": 101,
     "metadata": {},
     "output_type": "execute_result"
    }
   ],
   "source": [
    "lista2[1]"
   ]
  },
  {
   "cell_type": "code",
   "execution_count": 102,
   "metadata": {},
   "outputs": [
    {
     "data": {
      "text/plain": [
       "8"
      ]
     },
     "execution_count": 102,
     "metadata": {},
     "output_type": "execute_result"
    }
   ],
   "source": [
    "lista2[1][1]"
   ]
  },
  {
   "cell_type": "code",
   "execution_count": null,
   "metadata": {},
   "outputs": [],
   "source": []
  }
 ],
 "metadata": {
  "kernelspec": {
   "display_name": "Python 3",
   "language": "python",
   "name": "python3"
  },
  "language_info": {
   "codemirror_mode": {
    "name": "ipython",
    "version": 3
   },
   "file_extension": ".py",
   "mimetype": "text/x-python",
   "name": "python",
   "nbconvert_exporter": "python",
   "pygments_lexer": "ipython3",
   "version": "3.7.3"
  }
 },
 "nbformat": 4,
 "nbformat_minor": 2
}

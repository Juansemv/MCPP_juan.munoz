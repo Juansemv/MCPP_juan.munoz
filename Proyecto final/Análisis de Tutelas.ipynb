{
 "cells": [
  {
   "cell_type": "markdown",
   "metadata": {},
   "source": [
    "### Análisis de Tutelas\n",
    "Proyecto: Análisis tutelar en temas de salud 1992 - 2019\n",
    "\n",
    "Autor: Juan Sebastian Muñoz\n",
    "\n",
    "Objetivo: .\n",
    "\n",
    "Fecha de creación: Noviembre de 2019"
   ]
  },
  {
   "cell_type": "code",
   "execution_count": 2,
   "metadata": {},
   "outputs": [],
   "source": [
    "import nltk                     #Para Análisis del texto\n",
    "from nltk import word_tokenize\n",
    "from nltk.corpus import stopwords\n",
    "import numpy as np\n",
    "import timeit                   #Para calcular tiempos de ejecución del código\n",
    "import re                       #Para uso de expresiones regulares\n",
    "import matplotlib.pyplot as plt #Para realizar los gráficos\n",
    "import requests                 #Para hacer las solicitudes del codigo fuente de las páginas\n",
    "from bs4 import BeautifulSoup   #Para transformar el código extraído a formato para poder ser usado en Python\n",
    "import pandas as pd             #Decarga de pandas para uso de bases de datos\n",
    "plt.rcParams[\"figure.figsize\"] = [18.0, 8.0]"
   ]
  },
  {
   "cell_type": "code",
   "execution_count": 5,
   "metadata": {},
   "outputs": [],
   "source": [
    "Tutelas = pd.read_pickle('DBTutelas.pkl')"
   ]
  },
  {
   "cell_type": "code",
   "execution_count": 6,
   "metadata": {},
   "outputs": [
    {
     "data": {
      "text/plain": [
       "1835"
      ]
     },
     "execution_count": 6,
     "metadata": {},
     "output_type": "execute_result"
    }
   ],
   "source": [
    "#Número de tutelas disponibles\n",
    "len(Tutelas)"
   ]
  },
  {
   "cell_type": "code",
   "execution_count": null,
   "metadata": {},
   "outputs": [],
   "source": [
    "by_month = by_year_month['Mes'].agg('count')\n",
    "by_month.plot()\n",
    "plt.title(\"Number of speeches per month (August-2010 to March-2016)\", fontdict={'fontsize': 20,\\\n",
    "                                                                                'verticalalignment': 'bottom'})\n",
    "plt.ylabel(\"Number of speeches\", fontdict={'fontsize': 14})\n",
    "plt.xlabel(\"Month\", fontdict={'fontsize': 14})\n",
    "labels = month_labels\n",
    "plt.xticks(range(68), labels, rotation='vertical')\n",
    "plt.axvline(x=39, linewidth=1, color='b');\n",
    "plt.savefig('images/line_month.png')"
   ]
  }
 ],
 "metadata": {
  "kernelspec": {
   "display_name": "Python 3",
   "language": "python",
   "name": "python3"
  },
  "language_info": {
   "codemirror_mode": {
    "name": "ipython",
    "version": 3
   },
   "file_extension": ".py",
   "mimetype": "text/x-python",
   "name": "python",
   "nbconvert_exporter": "python",
   "pygments_lexer": "ipython3",
   "version": "3.7.3"
  }
 },
 "nbformat": 4,
 "nbformat_minor": 2
}

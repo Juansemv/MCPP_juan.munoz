{
 "cells": [
  {
   "cell_type": "markdown",
   "metadata": {},
   "source": [
    "# Código de scraping"
   ]
  },
  {
   "cell_type": "code",
   "execution_count": 1,
   "metadata": {},
   "outputs": [],
   "source": [
    "## Importar las librerias a usar\n",
    "import nltk                     #Para Análisis del texto\n",
    "import timeit                   #Para calcular tiempos de ejecución del código\n",
    "import re                       #Para uso de expresiones regulares\n",
    "import matplotlib.pyplot as plt #Para realizar los gráficos\n",
    "import requests                 #Para hacer las solicitudes del codigo fuente de las páginas\n",
    "from bs4 import BeautifulSoup   #Para transformar el código extraído a formato para poder ser usado en Python\n",
    "import pandas as pd             #Decarga de pandas para uso de bases de datos\n",
    "plt.rcParams[\"figure.figsize\"] = [18.0, 8.0]"
   ]
  },
  {
   "cell_type": "code",
   "execution_count": 2,
   "metadata": {},
   "outputs": [
    {
     "data": {
      "text/plain": [
       "['http://www.corteconstitucional.gov.co/relatoria/radicador/buscar.php?vs=5832&pg=0&ponente=&demandado=&Sentencia=&Tipo=Sentencias&busqueda=salud&conector=AND&segundotema=&anios=Todos',\n",
       " 'http://www.corteconstitucional.gov.co/relatoria/radicador/buscar.php?vs=5832&pg=1&ponente=&demandado=&Sentencia=&Tipo=Sentencias&busqueda=salud&conector=AND&segundotema=&anios=Todos',\n",
       " 'http://www.corteconstitucional.gov.co/relatoria/radicador/buscar.php?vs=5832&pg=2&ponente=&demandado=&Sentencia=&Tipo=Sentencias&busqueda=salud&conector=AND&segundotema=&anios=Todos']"
      ]
     },
     "execution_count": 2,
     "metadata": {},
     "output_type": "execute_result"
    }
   ],
   "source": [
    "#Crear una lista con todos los links\n",
    "links= []\n",
    "for i in range(59):\n",
    "    links.append(\"http://www.corteconstitucional.gov.co/relatoria/radicador/buscar.php?vs=5832&pg=\"+str(i)+\"&ponente=&demandado=&Sentencia=&Tipo=Sentencias&busqueda=salud&conector=AND&segundotema=&anios=Todos\")\n",
    "links[0:3]"
   ]
  },
  {
   "cell_type": "code",
   "execution_count": 4,
   "metadata": {},
   "outputs": [],
   "source": [
    "#Definir la función de Scrapping\n",
    "pat = '>Item </strong>(.*?) <strong>\\xa0\\xa0\\xa0Expediente </strong>\\xa0\\xa0(.*?)<strong>\\xa0\\xa0\\xa0 Fecha sentencia </strong>\\xa0\\xa0(.*?)-(.*?)-(.*?) <strong>\\xa0\\xa0\\xa0Sentencia </strong>\\xa0\\xa0<a href=\"(.*?)\">(.*?)</a> <br/>\\n<strong>Magistrado Ponente</strong>:(.*?)<br/>\\n<strong>Demandante / Demandado</strong> \\xa0\\xa0\\xa0(.*?)VS(.*?)<br/>\\n</p><p align=\"justify\"><strong>Tema:</strong>(.*?\\r*\\n*.*?\\r*\\n*.*?\\r*\\n*.*?\\r*\\n*.*?)\\r*\\n*\\s*\\s*\\r*\\n*\\r*\\n*<br/>\\n<strong>Recibo Relatoria: </strong> \\xa0\\xa0(.*?)-(.*?)-(\\d+)'\n",
    "Tutelas_scrapped = []\n",
    "def scrap(link):\n",
    "    html = requests.get(link).text\n",
    "    soup = BeautifulSoup(html)\n",
    "    Tutelas_scrapped.append(re.findall(pat, str(soup)))\n",
    "    print(len(Tutelas_scrapped))\n",
    "    return Tutelas_scrapped"
   ]
  },
  {
   "cell_type": "code",
   "execution_count": null,
   "metadata": {
    "scrolled": true
   },
   "outputs": [
    {
     "name": "stdout",
     "output_type": "stream",
     "text": [
      "1\n",
      "2\n",
      "3\n",
      "4\n",
      "5\n",
      "6\n",
      "7\n"
     ]
    }
   ],
   "source": [
    "tutelas=list(map(scrap,links))\n",
    "tutelas"
   ]
  },
  {
   "cell_type": "code",
   "execution_count": null,
   "metadata": {},
   "outputs": [
    {
     "name": "stdout",
     "output_type": "stream",
     "text": [
      "1\n",
      "2\n"
     ]
    }
   ],
   "source": [
    "pat = '>Item </strong>(.*?) <strong>\\xa0\\xa0\\xa0Expediente </strong>\\xa0\\xa0(.*?)<strong>\\xa0\\xa0\\xa0 Fecha sentencia </strong>\\xa0\\xa0(.*?)-(.*?)-(.*?) <strong>\\xa0\\xa0\\xa0Sentencia </strong>\\xa0\\xa0<a href=\"(.*?)\">(.*?)</a> <br/>\\n<strong>Magistrado Ponente</strong>:(.*?)<br/>\\n<strong>Demandante / Demandado</strong> \\xa0\\xa0\\xa0(.*?)VS(.*?)<br/>\\n</p><p align=\"justify\"><strong>Tema:</strong>(.*?\\r*\\n*.*?\\r*\\n*.*?\\r*\\n*.*?\\r*\\n*.*?)\\r*\\n*\\s*\\s*\\r*\\n*\\r*\\n*<br/>\\n<strong>Recibo Relatoria: </strong> \\xa0\\xa0(.*?)-(.*?)-(\\d+)'\n",
    "info = []\n",
    "for i in range (10,40):\n",
    "    html = requests.get(\"http://www.corteconstitucional.gov.co/relatoria/radicador/buscar.php?vs=5832&pg=\"+str(i)+\"&ponente=&demandado=&Sentencia=&Tipo=Sentencias&busqueda=salud&conector=AND&segundotema=&anios=Todos\").text\n",
    "    soup = BeautifulSoup(html)\n",
    "    info.append(re.findall(pat, str(soup)))\n",
    "    print(len(info))"
   ]
  },
  {
   "cell_type": "code",
   "execution_count": null,
   "metadata": {
    "scrolled": true
   },
   "outputs": [],
   "source": [
    "for i in info:\n",
    "    print(len(i))"
   ]
  },
  {
   "cell_type": "code",
   "execution_count": null,
   "metadata": {},
   "outputs": [],
   "source": [
    "info_lists = [list(elem) for elem in info]\n",
    "for i in range(len(info)):\n",
    "    info_lists[i][5] = \"http://www.corteconstitucional.gov.co/\"+info_lists[i][5]"
   ]
  },
  {
   "cell_type": "code",
   "execution_count": null,
   "metadata": {},
   "outputs": [],
   "source": [
    "list_tutelas=[]\n",
    "for i in range(len(info_lists)):\n",
    "    list_tutelas.append(info_lists[i])\n",
    "    len(list_tutelas)"
   ]
  },
  {
   "cell_type": "code",
   "execution_count": null,
   "metadata": {},
   "outputs": [],
   "source": [
    "Database_tutelas = pd.DataFrame(info_lists)\n",
    "Database_tutelas.columns = ['Item','Expediente','Año','Mes','Día','Link', 'Sentencia', 'Magistrado_Ponente', 'Demandante', 'Demandado', 'Tema', 'Año(Recibo_relatoria)', 'Mes(Recibo_relatoria)', 'Día(Recibo_relatoria)']"
   ]
  },
  {
   "cell_type": "code",
   "execution_count": null,
   "metadata": {},
   "outputs": [],
   "source": [
    "Database_tutelas.to_pickle('DB_Tutelas.pkl')"
   ]
  },
  {
   "cell_type": "code",
   "execution_count": null,
   "metadata": {
    "scrolled": true
   },
   "outputs": [],
   "source": [
    "info[1][0:5]"
   ]
  },
  {
   "cell_type": "code",
   "execution_count": null,
   "metadata": {},
   "outputs": [],
   "source": []
  },
  {
   "cell_type": "code",
   "execution_count": null,
   "metadata": {
    "scrolled": true
   },
   "outputs": [],
   "source": [
    "html = requests.get('http://www.corteconstitucional.gov.co/relatoria/radicador/buscar.php?vs=5832&pg=58&ponente=&demandado=&Sentencia=&Tipo=Sentencias&busqueda=salud&conector=AND&segundotema=&anios=Todos').text\n",
    "soup = BeautifulSoup(html)\n",
    "str(soup)"
   ]
  },
  {
   "cell_type": "code",
   "execution_count": null,
   "metadata": {
    "scrolled": true
   },
   "outputs": [],
   "source": [
    "pat1 = '>Item </strong>(.*?) <strong>\\xa0\\xa0\\xa0Expediente </strong>\\xa0\\xa0(.*?)<strong>\\xa0\\xa0\\xa0 Fecha sentencia </strong>\\xa0\\xa0(.*?)-(.*?)-(.*?) <strong>\\xa0\\xa0\\xa0Sentencia </strong>\\xa0\\xa0<a href=\"(.*?)\">(.*?)</a> <br/>\\n<strong>Magistrado Ponente</strong>:(.*?)<br/>\\n<strong>Demandante / Demandado</strong> \\xa0\\xa0\\xa0(.*?)VS(.*?)<br/>\\n</p><p align=\"justify\"><strong>Tema:</strong>(.*?\\r*\\n*.*?\\r*\\n*.*?\\r*\\n*.*?\\r*\\n*.*?)\\r*\\n*\\s*\\s*\\r*\\n*\\r*\\n*<br/>\\n<strong>Recibo Relatoria: </strong> \\xa0\\xa0(.*?)-(.*?)-(.*?)'\n",
    "info1 = re.findall(pat1, str(soup))\n",
    "len(info1)"
   ]
  },
  {
   "cell_type": "code",
   "execution_count": null,
   "metadata": {
    "scrolled": true
   },
   "outputs": [],
   "source": [
    "for i in range(len(info1)):\n",
    "    j=[]\n",
    "    j.append(info1[i][0])\n",
    "    print(j)"
   ]
  },
  {
   "cell_type": "code",
   "execution_count": null,
   "metadata": {},
   "outputs": [],
   "source": [
    "info"
   ]
  },
  {
   "cell_type": "code",
   "execution_count": null,
   "metadata": {},
   "outputs": [],
   "source": []
  }
 ],
 "metadata": {
  "kernelspec": {
   "display_name": "Python 3",
   "language": "python",
   "name": "python3"
  },
  "language_info": {
   "codemirror_mode": {
    "name": "ipython",
    "version": 3
   },
   "file_extension": ".py",
   "mimetype": "text/x-python",
   "name": "python",
   "nbconvert_exporter": "python",
   "pygments_lexer": "ipython3",
   "version": "3.7.3"
  }
 },
 "nbformat": 4,
 "nbformat_minor": 2
}

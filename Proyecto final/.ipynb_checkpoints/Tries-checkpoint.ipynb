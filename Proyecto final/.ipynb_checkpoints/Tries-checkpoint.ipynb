{
 "cells": [
  {
   "cell_type": "code",
   "execution_count": 1,
   "metadata": {},
   "outputs": [],
   "source": [
    "##Just kidding\n",
    "import nltk                     #Para Análisis del texto\n",
    "import timeit                   #Para calcular tiempos de ejecución del código\n",
    "import re                       #Para uso de expresiones regulares\n",
    "import matplotlib.pyplot as plt #Para realizar los gráficos\n",
    "import requests                 #Para hacer las solicitudes del codigo fuente de las páginas\n",
    "from bs4 import BeautifulSoup   #Para transformar el código extraído a formato para poder ser usado en Python\n",
    "import pandas as pd             #Decarga de pandas para uso de bases de datos\n",
    "plt.rcParams[\"figure.figsize\"] = [18.0, 8.0]"
   ]
  },
  {
   "cell_type": "code",
   "execution_count": 8,
   "metadata": {},
   "outputs": [
    {
     "data": {
      "text/plain": [
       "['http://www.corteconstitucional.gov.co/relatoria/radicador/buscar.php?vs=5832&pg=0&ponente=&demandado=&Sentencia=&Tipo=Sentencias&busqueda=salud&conector=AND&segundotema=&anios=Todos',\n",
       " 'http://www.corteconstitucional.gov.co/relatoria/radicador/buscar.php?vs=5832&pg=1&ponente=&demandado=&Sentencia=&Tipo=Sentencias&busqueda=salud&conector=AND&segundotema=&anios=Todos',\n",
       " 'http://www.corteconstitucional.gov.co/relatoria/radicador/buscar.php?vs=5832&pg=2&ponente=&demandado=&Sentencia=&Tipo=Sentencias&busqueda=salud&conector=AND&segundotema=&anios=Todos',\n",
       " 'http://www.corteconstitucional.gov.co/relatoria/radicador/buscar.php?vs=5832&pg=3&ponente=&demandado=&Sentencia=&Tipo=Sentencias&busqueda=salud&conector=AND&segundotema=&anios=Todos',\n",
       " 'http://www.corteconstitucional.gov.co/relatoria/radicador/buscar.php?vs=5832&pg=4&ponente=&demandado=&Sentencia=&Tipo=Sentencias&busqueda=salud&conector=AND&segundotema=&anios=Todos',\n",
       " 'http://www.corteconstitucional.gov.co/relatoria/radicador/buscar.php?vs=5832&pg=5&ponente=&demandado=&Sentencia=&Tipo=Sentencias&busqueda=salud&conector=AND&segundotema=&anios=Todos',\n",
       " 'http://www.corteconstitucional.gov.co/relatoria/radicador/buscar.php?vs=5832&pg=6&ponente=&demandado=&Sentencia=&Tipo=Sentencias&busqueda=salud&conector=AND&segundotema=&anios=Todos',\n",
       " 'http://www.corteconstitucional.gov.co/relatoria/radicador/buscar.php?vs=5832&pg=7&ponente=&demandado=&Sentencia=&Tipo=Sentencias&busqueda=salud&conector=AND&segundotema=&anios=Todos',\n",
       " 'http://www.corteconstitucional.gov.co/relatoria/radicador/buscar.php?vs=5832&pg=8&ponente=&demandado=&Sentencia=&Tipo=Sentencias&busqueda=salud&conector=AND&segundotema=&anios=Todos',\n",
       " 'http://www.corteconstitucional.gov.co/relatoria/radicador/buscar.php?vs=5832&pg=9&ponente=&demandado=&Sentencia=&Tipo=Sentencias&busqueda=salud&conector=AND&segundotema=&anios=Todos',\n",
       " 'http://www.corteconstitucional.gov.co/relatoria/radicador/buscar.php?vs=5832&pg=10&ponente=&demandado=&Sentencia=&Tipo=Sentencias&busqueda=salud&conector=AND&segundotema=&anios=Todos',\n",
       " 'http://www.corteconstitucional.gov.co/relatoria/radicador/buscar.php?vs=5832&pg=11&ponente=&demandado=&Sentencia=&Tipo=Sentencias&busqueda=salud&conector=AND&segundotema=&anios=Todos',\n",
       " 'http://www.corteconstitucional.gov.co/relatoria/radicador/buscar.php?vs=5832&pg=12&ponente=&demandado=&Sentencia=&Tipo=Sentencias&busqueda=salud&conector=AND&segundotema=&anios=Todos',\n",
       " 'http://www.corteconstitucional.gov.co/relatoria/radicador/buscar.php?vs=5832&pg=13&ponente=&demandado=&Sentencia=&Tipo=Sentencias&busqueda=salud&conector=AND&segundotema=&anios=Todos',\n",
       " 'http://www.corteconstitucional.gov.co/relatoria/radicador/buscar.php?vs=5832&pg=14&ponente=&demandado=&Sentencia=&Tipo=Sentencias&busqueda=salud&conector=AND&segundotema=&anios=Todos',\n",
       " 'http://www.corteconstitucional.gov.co/relatoria/radicador/buscar.php?vs=5832&pg=15&ponente=&demandado=&Sentencia=&Tipo=Sentencias&busqueda=salud&conector=AND&segundotema=&anios=Todos',\n",
       " 'http://www.corteconstitucional.gov.co/relatoria/radicador/buscar.php?vs=5832&pg=16&ponente=&demandado=&Sentencia=&Tipo=Sentencias&busqueda=salud&conector=AND&segundotema=&anios=Todos',\n",
       " 'http://www.corteconstitucional.gov.co/relatoria/radicador/buscar.php?vs=5832&pg=17&ponente=&demandado=&Sentencia=&Tipo=Sentencias&busqueda=salud&conector=AND&segundotema=&anios=Todos',\n",
       " 'http://www.corteconstitucional.gov.co/relatoria/radicador/buscar.php?vs=5832&pg=18&ponente=&demandado=&Sentencia=&Tipo=Sentencias&busqueda=salud&conector=AND&segundotema=&anios=Todos',\n",
       " 'http://www.corteconstitucional.gov.co/relatoria/radicador/buscar.php?vs=5832&pg=19&ponente=&demandado=&Sentencia=&Tipo=Sentencias&busqueda=salud&conector=AND&segundotema=&anios=Todos',\n",
       " 'http://www.corteconstitucional.gov.co/relatoria/radicador/buscar.php?vs=5832&pg=20&ponente=&demandado=&Sentencia=&Tipo=Sentencias&busqueda=salud&conector=AND&segundotema=&anios=Todos',\n",
       " 'http://www.corteconstitucional.gov.co/relatoria/radicador/buscar.php?vs=5832&pg=21&ponente=&demandado=&Sentencia=&Tipo=Sentencias&busqueda=salud&conector=AND&segundotema=&anios=Todos',\n",
       " 'http://www.corteconstitucional.gov.co/relatoria/radicador/buscar.php?vs=5832&pg=22&ponente=&demandado=&Sentencia=&Tipo=Sentencias&busqueda=salud&conector=AND&segundotema=&anios=Todos',\n",
       " 'http://www.corteconstitucional.gov.co/relatoria/radicador/buscar.php?vs=5832&pg=23&ponente=&demandado=&Sentencia=&Tipo=Sentencias&busqueda=salud&conector=AND&segundotema=&anios=Todos',\n",
       " 'http://www.corteconstitucional.gov.co/relatoria/radicador/buscar.php?vs=5832&pg=24&ponente=&demandado=&Sentencia=&Tipo=Sentencias&busqueda=salud&conector=AND&segundotema=&anios=Todos',\n",
       " 'http://www.corteconstitucional.gov.co/relatoria/radicador/buscar.php?vs=5832&pg=25&ponente=&demandado=&Sentencia=&Tipo=Sentencias&busqueda=salud&conector=AND&segundotema=&anios=Todos',\n",
       " 'http://www.corteconstitucional.gov.co/relatoria/radicador/buscar.php?vs=5832&pg=26&ponente=&demandado=&Sentencia=&Tipo=Sentencias&busqueda=salud&conector=AND&segundotema=&anios=Todos',\n",
       " 'http://www.corteconstitucional.gov.co/relatoria/radicador/buscar.php?vs=5832&pg=27&ponente=&demandado=&Sentencia=&Tipo=Sentencias&busqueda=salud&conector=AND&segundotema=&anios=Todos',\n",
       " 'http://www.corteconstitucional.gov.co/relatoria/radicador/buscar.php?vs=5832&pg=28&ponente=&demandado=&Sentencia=&Tipo=Sentencias&busqueda=salud&conector=AND&segundotema=&anios=Todos',\n",
       " 'http://www.corteconstitucional.gov.co/relatoria/radicador/buscar.php?vs=5832&pg=29&ponente=&demandado=&Sentencia=&Tipo=Sentencias&busqueda=salud&conector=AND&segundotema=&anios=Todos',\n",
       " 'http://www.corteconstitucional.gov.co/relatoria/radicador/buscar.php?vs=5832&pg=30&ponente=&demandado=&Sentencia=&Tipo=Sentencias&busqueda=salud&conector=AND&segundotema=&anios=Todos',\n",
       " 'http://www.corteconstitucional.gov.co/relatoria/radicador/buscar.php?vs=5832&pg=31&ponente=&demandado=&Sentencia=&Tipo=Sentencias&busqueda=salud&conector=AND&segundotema=&anios=Todos',\n",
       " 'http://www.corteconstitucional.gov.co/relatoria/radicador/buscar.php?vs=5832&pg=32&ponente=&demandado=&Sentencia=&Tipo=Sentencias&busqueda=salud&conector=AND&segundotema=&anios=Todos',\n",
       " 'http://www.corteconstitucional.gov.co/relatoria/radicador/buscar.php?vs=5832&pg=33&ponente=&demandado=&Sentencia=&Tipo=Sentencias&busqueda=salud&conector=AND&segundotema=&anios=Todos',\n",
       " 'http://www.corteconstitucional.gov.co/relatoria/radicador/buscar.php?vs=5832&pg=34&ponente=&demandado=&Sentencia=&Tipo=Sentencias&busqueda=salud&conector=AND&segundotema=&anios=Todos',\n",
       " 'http://www.corteconstitucional.gov.co/relatoria/radicador/buscar.php?vs=5832&pg=35&ponente=&demandado=&Sentencia=&Tipo=Sentencias&busqueda=salud&conector=AND&segundotema=&anios=Todos',\n",
       " 'http://www.corteconstitucional.gov.co/relatoria/radicador/buscar.php?vs=5832&pg=36&ponente=&demandado=&Sentencia=&Tipo=Sentencias&busqueda=salud&conector=AND&segundotema=&anios=Todos',\n",
       " 'http://www.corteconstitucional.gov.co/relatoria/radicador/buscar.php?vs=5832&pg=37&ponente=&demandado=&Sentencia=&Tipo=Sentencias&busqueda=salud&conector=AND&segundotema=&anios=Todos',\n",
       " 'http://www.corteconstitucional.gov.co/relatoria/radicador/buscar.php?vs=5832&pg=38&ponente=&demandado=&Sentencia=&Tipo=Sentencias&busqueda=salud&conector=AND&segundotema=&anios=Todos',\n",
       " 'http://www.corteconstitucional.gov.co/relatoria/radicador/buscar.php?vs=5832&pg=39&ponente=&demandado=&Sentencia=&Tipo=Sentencias&busqueda=salud&conector=AND&segundotema=&anios=Todos',\n",
       " 'http://www.corteconstitucional.gov.co/relatoria/radicador/buscar.php?vs=5832&pg=40&ponente=&demandado=&Sentencia=&Tipo=Sentencias&busqueda=salud&conector=AND&segundotema=&anios=Todos',\n",
       " 'http://www.corteconstitucional.gov.co/relatoria/radicador/buscar.php?vs=5832&pg=41&ponente=&demandado=&Sentencia=&Tipo=Sentencias&busqueda=salud&conector=AND&segundotema=&anios=Todos',\n",
       " 'http://www.corteconstitucional.gov.co/relatoria/radicador/buscar.php?vs=5832&pg=42&ponente=&demandado=&Sentencia=&Tipo=Sentencias&busqueda=salud&conector=AND&segundotema=&anios=Todos',\n",
       " 'http://www.corteconstitucional.gov.co/relatoria/radicador/buscar.php?vs=5832&pg=43&ponente=&demandado=&Sentencia=&Tipo=Sentencias&busqueda=salud&conector=AND&segundotema=&anios=Todos',\n",
       " 'http://www.corteconstitucional.gov.co/relatoria/radicador/buscar.php?vs=5832&pg=44&ponente=&demandado=&Sentencia=&Tipo=Sentencias&busqueda=salud&conector=AND&segundotema=&anios=Todos',\n",
       " 'http://www.corteconstitucional.gov.co/relatoria/radicador/buscar.php?vs=5832&pg=45&ponente=&demandado=&Sentencia=&Tipo=Sentencias&busqueda=salud&conector=AND&segundotema=&anios=Todos',\n",
       " 'http://www.corteconstitucional.gov.co/relatoria/radicador/buscar.php?vs=5832&pg=46&ponente=&demandado=&Sentencia=&Tipo=Sentencias&busqueda=salud&conector=AND&segundotema=&anios=Todos',\n",
       " 'http://www.corteconstitucional.gov.co/relatoria/radicador/buscar.php?vs=5832&pg=47&ponente=&demandado=&Sentencia=&Tipo=Sentencias&busqueda=salud&conector=AND&segundotema=&anios=Todos',\n",
       " 'http://www.corteconstitucional.gov.co/relatoria/radicador/buscar.php?vs=5832&pg=48&ponente=&demandado=&Sentencia=&Tipo=Sentencias&busqueda=salud&conector=AND&segundotema=&anios=Todos',\n",
       " 'http://www.corteconstitucional.gov.co/relatoria/radicador/buscar.php?vs=5832&pg=49&ponente=&demandado=&Sentencia=&Tipo=Sentencias&busqueda=salud&conector=AND&segundotema=&anios=Todos',\n",
       " 'http://www.corteconstitucional.gov.co/relatoria/radicador/buscar.php?vs=5832&pg=50&ponente=&demandado=&Sentencia=&Tipo=Sentencias&busqueda=salud&conector=AND&segundotema=&anios=Todos',\n",
       " 'http://www.corteconstitucional.gov.co/relatoria/radicador/buscar.php?vs=5832&pg=51&ponente=&demandado=&Sentencia=&Tipo=Sentencias&busqueda=salud&conector=AND&segundotema=&anios=Todos',\n",
       " 'http://www.corteconstitucional.gov.co/relatoria/radicador/buscar.php?vs=5832&pg=52&ponente=&demandado=&Sentencia=&Tipo=Sentencias&busqueda=salud&conector=AND&segundotema=&anios=Todos',\n",
       " 'http://www.corteconstitucional.gov.co/relatoria/radicador/buscar.php?vs=5832&pg=53&ponente=&demandado=&Sentencia=&Tipo=Sentencias&busqueda=salud&conector=AND&segundotema=&anios=Todos',\n",
       " 'http://www.corteconstitucional.gov.co/relatoria/radicador/buscar.php?vs=5832&pg=54&ponente=&demandado=&Sentencia=&Tipo=Sentencias&busqueda=salud&conector=AND&segundotema=&anios=Todos',\n",
       " 'http://www.corteconstitucional.gov.co/relatoria/radicador/buscar.php?vs=5832&pg=55&ponente=&demandado=&Sentencia=&Tipo=Sentencias&busqueda=salud&conector=AND&segundotema=&anios=Todos',\n",
       " 'http://www.corteconstitucional.gov.co/relatoria/radicador/buscar.php?vs=5832&pg=56&ponente=&demandado=&Sentencia=&Tipo=Sentencias&busqueda=salud&conector=AND&segundotema=&anios=Todos',\n",
       " 'http://www.corteconstitucional.gov.co/relatoria/radicador/buscar.php?vs=5832&pg=57&ponente=&demandado=&Sentencia=&Tipo=Sentencias&busqueda=salud&conector=AND&segundotema=&anios=Todos',\n",
       " 'http://www.corteconstitucional.gov.co/relatoria/radicador/buscar.php?vs=5832&pg=58&ponente=&demandado=&Sentencia=&Tipo=Sentencias&busqueda=salud&conector=AND&segundotema=&anios=Todos']"
      ]
     },
     "execution_count": 8,
     "metadata": {},
     "output_type": "execute_result"
    }
   ],
   "source": [
    "links= []\n",
    "for i in range(59):\n",
    "    links.append(\"http://www.corteconstitucional.gov.co/relatoria/radicador/buscar.php?vs=5832&pg=\"+str(i)+\"&ponente=&demandado=&Sentencia=&Tipo=Sentencias&busqueda=salud&conector=AND&segundotema=&anios=Todos\")\n",
    "links"
   ]
  },
  {
   "cell_type": "code",
   "execution_count": 9,
   "metadata": {},
   "outputs": [],
   "source": [
    "#Definir la función de Scrapping\n",
    "pat = '>Item </strong>(.*?) <strong>\\xa0\\xa0\\xa0Expediente </strong>\\xa0\\xa0(.*?)<strong>\\xa0\\xa0\\xa0 Fecha sentencia </strong>\\xa0\\xa0(.*?)-(.*?)-(.*?) <strong>\\xa0\\xa0\\xa0Sentencia </strong>\\xa0\\xa0<a href=\"(.*?)\">(.*?)</a> <br/>\\n<strong>Magistrado Ponente</strong>:(.*?)<br/>\\n<strong>Demandante / Demandado</strong> \\xa0\\xa0\\xa0(.*?)VS(.*?)<br/>\\n</p><p align=\"justify\"><strong>Tema:</strong>(.*?\\r*\\n*.*?\\r*\\n*.*?\\r*\\n*.*?\\r*\\n*.*?)\\r*\\n*\\s*\\s*\\r*\\n*\\r*\\n*<br/>\\n<strong>Recibo Relatoria: </strong> \\xa0\\xa0(.*?)-(.*?)-(\\d+)'\n",
    "Tutelas_scrapped = []\n",
    "def scrap(link):\n",
    "    html = requests.get(link).text\n",
    "    soup = BeautifulSoup(html)\n",
    "    Tutelas_scrapped.append(re.findall(pat, str(soup)))\n",
    "    return Tutelas_scrapped"
   ]
  },
  {
   "cell_type": "code",
   "execution_count": null,
   "metadata": {},
   "outputs": [],
   "source": [
    "tutelas=list(map(scrap,links))\n",
    "tutelas"
   ]
  },
  {
   "cell_type": "code",
   "execution_count": null,
   "metadata": {},
   "outputs": [],
   "source": []
  }
 ],
 "metadata": {
  "kernelspec": {
   "display_name": "Python 3",
   "language": "python",
   "name": "python3"
  },
  "language_info": {
   "codemirror_mode": {
    "name": "ipython",
    "version": 3
   },
   "file_extension": ".py",
   "mimetype": "text/x-python",
   "name": "python",
   "nbconvert_exporter": "python",
   "pygments_lexer": "ipython3",
   "version": "3.7.3"
  }
 },
 "nbformat": 4,
 "nbformat_minor": 2
}

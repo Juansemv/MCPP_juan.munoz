{
 "cells": [
  {
   "cell_type": "markdown",
   "metadata": {},
   "source": [
    "### Análisis de Tutelas\n",
    "Proyecto: Análisis tutelar en temas de salud 1992 - 2019\n",
    "\n",
    "Autor: Juan Sebastian Muñoz\n",
    "\n",
    "Objetivo: .\n",
    "\n",
    "Fecha de creación: Noviembre de 2019"
   ]
  },
  {
   "cell_type": "code",
   "execution_count": null,
   "metadata": {},
   "outputs": [],
   "source": [
    "import nltk                     #Para Análisis del texto\n",
    "from nltk import word_tokenize  \n",
    "from nltk.corpus import stopwords\n",
    "from collections import Counter\n",
    "import collections\n",
    "import string\n",
    "import numpy as np              #Para el uso y manejo de datos\n",
    "import timeit                   #Para calcular tiempos de ejecución del código\n",
    "import re                       #Para uso de expresiones regulares\n",
    "import matplotlib.pyplot as plt #Para realizar los gráficos\n",
    "import requests                 #Para hacer las solicitudes del codigo fuente de las páginas\n",
    "from bs4 import BeautifulSoup   #Para transformar el código extraído a formato para poder ser usado en Python\n",
    "import pandas as pd             #Decarga de pandas para uso de bases de datos\n",
    "plt.rcParams[\"figure.figsize\"] = [18.0, 8.0]"
   ]
  }
 ],
 "metadata": {
  "kernelspec": {
   "display_name": "Python 3",
   "language": "python",
   "name": "python3"
  },
  "language_info": {
   "codemirror_mode": {
    "name": "ipython",
    "version": 3
   },
   "file_extension": ".py",
   "mimetype": "text/x-python",
   "name": "python",
   "nbconvert_exporter": "python",
   "pygments_lexer": "ipython3",
   "version": "3.7.3"
  }
 },
 "nbformat": 4,
 "nbformat_minor": 2
}
